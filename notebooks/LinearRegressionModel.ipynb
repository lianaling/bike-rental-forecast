{
 "cells": [
  {
   "cell_type": "markdown",
   "metadata": {},
   "source": [
    "# Import Libraries"
   ]
  },
  {
   "cell_type": "code",
   "execution_count": 190,
   "metadata": {},
   "outputs": [],
   "source": [
    "import pandas as pd\n",
    "import numpy as np\n",
    "\n",
    "import warnings\n",
    "\n",
    "from sklearn.neighbors import LocalOutlierFactor\n",
    "from sklearn import datasets, linear_model, metrics\n",
    "from sklearn.linear_model import LinearRegression\n",
    "from sklearn.tree import DecisionTreeRegressor, DecisionTreeClassifier\n",
    "from sklearn.metrics import accuracy_score\n",
    "from sklearn import metrics\n",
    "import seaborn as sns\n",
    "import matplotlib.pyplot as plt\n",
    "%matplotlib inline\n",
    "warnings.filterwarnings('ignore')"
   ]
  },
  {
   "cell_type": "markdown",
   "metadata": {},
   "source": [
    "## Load dataset"
   ]
  },
  {
   "cell_type": "code",
   "execution_count": 191,
   "metadata": {},
   "outputs": [],
   "source": [
    "# no outliers\n",
    "X_train_no = pd.read_csv('../dataset/no_outliers/X_train.csv')\n",
    "X_test_no = pd.read_csv('../dataset/no_outliers/X_test.csv')\n",
    "y_train_no = pd.read_csv('../dataset/no_outliers/y_train.csv')\n",
    "y_test_no = pd.read_csv('../dataset/no_outliers/y_test.csv')\n",
    "\n",
    "# original data\n",
    "X_train_with = pd.read_csv('../dataset/with_outliers/X_train.csv')\n",
    "X_test_with = pd.read_csv('../dataset/with_outliers/X_test.csv')\n",
    "y_train_with = pd.read_csv('../dataset/with_outliers/y_train.csv')\n",
    "y_test_with = pd.read_csv('../dataset/with_outliers/y_test.csv')"
   ]
  },
  {
   "cell_type": "code",
   "execution_count": 192,
   "metadata": {},
   "outputs": [],
   "source": [
    "reg = LinearRegression()"
   ]
  },
  {
   "cell_type": "code",
   "execution_count": 193,
   "metadata": {},
   "outputs": [],
   "source": [
    "reg_no = reg.fit(X_train_no, y_train_no)"
   ]
  },
  {
   "cell_type": "code",
   "execution_count": 194,
   "metadata": {},
   "outputs": [
    {
     "data": {
      "text/plain": [
       "array([[7023.67230231],\n",
       "       [6161.35118597],\n",
       "       [6778.27519237],\n",
       "       [5206.18718772],\n",
       "       [5243.31898273],\n",
       "       [5947.2573468 ],\n",
       "       [3254.76692812],\n",
       "       [1538.68583428],\n",
       "       [1135.99529463],\n",
       "       [1675.88028309],\n",
       "       [5498.6169794 ],\n",
       "       [5263.93733624],\n",
       "       [1999.30964453],\n",
       "       [3379.84196286],\n",
       "       [4190.70290445],\n",
       "       [2020.11195519],\n",
       "       [3926.18002188],\n",
       "       [4541.61139453],\n",
       "       [4143.13986388],\n",
       "       [7167.09272288],\n",
       "       [2924.18900074],\n",
       "       [2507.71269694],\n",
       "       [3906.42939233],\n",
       "       [5651.19377536],\n",
       "       [5212.26898063],\n",
       "       [5327.20319604],\n",
       "       [4421.28999066],\n",
       "       [6410.89607585],\n",
       "       [ 854.18910583],\n",
       "       [4405.39285211],\n",
       "       [4365.67767177],\n",
       "       [5034.04790004],\n",
       "       [6049.70146368],\n",
       "       [5004.97791557],\n",
       "       [7103.54831683],\n",
       "       [8322.67879239],\n",
       "       [5887.28036827],\n",
       "       [4340.43538781],\n",
       "       [2633.46195586],\n",
       "       [1477.47314109],\n",
       "       [2410.5572829 ],\n",
       "       [4066.24556187],\n",
       "       [2103.89167662],\n",
       "       [6617.37619905],\n",
       "       [5159.22955268],\n",
       "       [5329.92254925],\n",
       "       [3382.39858012],\n",
       "       [3788.61439862],\n",
       "       [3440.37310329],\n",
       "       [6665.85683545],\n",
       "       [4099.19879165],\n",
       "       [6290.57809331],\n",
       "       [7619.01811764],\n",
       "       [7180.15014511],\n",
       "       [5846.29494934],\n",
       "       [4748.8389566 ],\n",
       "       [3108.96683103],\n",
       "       [2828.09530572],\n",
       "       [7374.01489769],\n",
       "       [7217.0281134 ],\n",
       "       [4929.22329532],\n",
       "       [7727.74955253],\n",
       "       [6257.96292765],\n",
       "       [1274.82395472],\n",
       "       [4687.13007115],\n",
       "       [5607.81178775],\n",
       "       [2873.09555261],\n",
       "       [2172.84361705],\n",
       "       [5576.14534031],\n",
       "       [5183.78214439],\n",
       "       [5282.14598134],\n",
       "       [7224.90507549],\n",
       "       [3524.23047035],\n",
       "       [3199.86417881],\n",
       "       [2547.17959272],\n",
       "       [4028.00125387],\n",
       "       [1985.11457656],\n",
       "       [6308.69128668],\n",
       "       [3039.17026299],\n",
       "       [4824.45568216],\n",
       "       [4453.07243647],\n",
       "       [ 677.0135842 ],\n",
       "       [4445.4213439 ],\n",
       "       [7428.96507488],\n",
       "       [6348.05627095],\n",
       "       [5570.098128  ],\n",
       "       [7515.39605833],\n",
       "       [4529.99300025],\n",
       "       [ 986.75200641],\n",
       "       [1597.09135814],\n",
       "       [6525.95576074],\n",
       "       [5938.02982264],\n",
       "       [2597.85679294],\n",
       "       [4999.74701616],\n",
       "       [6721.84229121],\n",
       "       [3170.6109214 ],\n",
       "       [5482.09359369],\n",
       "       [3364.58944248],\n",
       "       [6455.99811546],\n",
       "       [5450.46867575],\n",
       "       [3679.450253  ],\n",
       "       [3735.28608614],\n",
       "       [5295.99981084],\n",
       "       [7172.29136327],\n",
       "       [6006.20651416],\n",
       "       [3059.65862149],\n",
       "       [6959.12155635],\n",
       "       [4641.23338693],\n",
       "       [3820.80502122],\n",
       "       [6826.30447933],\n",
       "       [2014.12835531],\n",
       "       [4879.61463346],\n",
       "       [1858.81749873],\n",
       "       [7490.80603564],\n",
       "       [4192.65718171],\n",
       "       [4808.34243565],\n",
       "       [4426.78548861],\n",
       "       [2227.44391697],\n",
       "       [2306.66949955],\n",
       "       [2402.75375307],\n",
       "       [7718.85226573],\n",
       "       [6121.27758222],\n",
       "       [3944.36603335],\n",
       "       [1393.58702742],\n",
       "       [3070.60265596],\n",
       "       [5152.58275328],\n",
       "       [2976.24319157],\n",
       "       [1440.08749416],\n",
       "       [6851.24550372],\n",
       "       [2261.55973177],\n",
       "       [3738.44447529],\n",
       "       [2880.45406826],\n",
       "       [4238.88262367],\n",
       "       [4421.79411998],\n",
       "       [5403.93367306],\n",
       "       [6732.6966922 ],\n",
       "       [4604.51273344],\n",
       "       [3566.28422327],\n",
       "       [3690.87322467],\n",
       "       [4342.45664463],\n",
       "       [6094.7426668 ],\n",
       "       [4583.00605867],\n",
       "       [4954.42147519],\n",
       "       [4645.94501169],\n",
       "       [2322.66561494]])"
      ]
     },
     "execution_count": 194,
     "metadata": {},
     "output_type": "execute_result"
    }
   ],
   "source": [
    "pred_no = reg_no.predict(X_test_no)\n",
    "pred_no"
   ]
  },
  {
   "cell_type": "code",
   "execution_count": 195,
   "metadata": {},
   "outputs": [
    {
     "data": {
      "text/plain": [
       "array([7023.67230231, 6161.35118597, 6778.27519237, 5206.18718772,\n",
       "       5243.31898273, 5947.2573468 , 3254.76692812, 1538.68583428,\n",
       "       1135.99529463, 1675.88028309, 5498.6169794 , 5263.93733624,\n",
       "       1999.30964453, 3379.84196286, 4190.70290445, 2020.11195519,\n",
       "       3926.18002188, 4541.61139453, 4143.13986388, 7167.09272288,\n",
       "       2924.18900074, 2507.71269694, 3906.42939233, 5651.19377536,\n",
       "       5212.26898063, 5327.20319604, 4421.28999066, 6410.89607585,\n",
       "        854.18910583, 4405.39285211, 4365.67767177, 5034.04790004,\n",
       "       6049.70146368, 5004.97791557, 7103.54831683, 8322.67879239,\n",
       "       5887.28036827, 4340.43538781, 2633.46195586, 1477.47314109,\n",
       "       2410.5572829 , 4066.24556187, 2103.89167662, 6617.37619905,\n",
       "       5159.22955268, 5329.92254925, 3382.39858012, 3788.61439862,\n",
       "       3440.37310329, 6665.85683545, 4099.19879165, 6290.57809331,\n",
       "       7619.01811764, 7180.15014511, 5846.29494934, 4748.8389566 ,\n",
       "       3108.96683103, 2828.09530572, 7374.01489769, 7217.0281134 ,\n",
       "       4929.22329532, 7727.74955253, 6257.96292765, 1274.82395472,\n",
       "       4687.13007115, 5607.81178775, 2873.09555261, 2172.84361705,\n",
       "       5576.14534031, 5183.78214439, 5282.14598134, 7224.90507549,\n",
       "       3524.23047035, 3199.86417881, 2547.17959272, 4028.00125387,\n",
       "       1985.11457656, 6308.69128668, 3039.17026299, 4824.45568216,\n",
       "       4453.07243647,  677.0135842 , 4445.4213439 , 7428.96507488,\n",
       "       6348.05627095, 5570.098128  , 7515.39605833, 4529.99300025,\n",
       "        986.75200641, 1597.09135814, 6525.95576074, 5938.02982264,\n",
       "       2597.85679294, 4999.74701616, 6721.84229121, 3170.6109214 ,\n",
       "       5482.09359369, 3364.58944248, 6455.99811546, 5450.46867575,\n",
       "       3679.450253  , 3735.28608614, 5295.99981084, 7172.29136327,\n",
       "       6006.20651416, 3059.65862149, 6959.12155635, 4641.23338693,\n",
       "       3820.80502122, 6826.30447933, 2014.12835531, 4879.61463346,\n",
       "       1858.81749873, 7490.80603564, 4192.65718171, 4808.34243565,\n",
       "       4426.78548861, 2227.44391697, 2306.66949955, 2402.75375307,\n",
       "       7718.85226573, 6121.27758222, 3944.36603335, 1393.58702742,\n",
       "       3070.60265596, 5152.58275328, 2976.24319157, 1440.08749416,\n",
       "       6851.24550372, 2261.55973177, 3738.44447529, 2880.45406826,\n",
       "       4238.88262367, 4421.79411998, 5403.93367306, 6732.6966922 ,\n",
       "       4604.51273344, 3566.28422327, 3690.87322467, 4342.45664463,\n",
       "       6094.7426668 , 4583.00605867, 4954.42147519, 4645.94501169,\n",
       "       2322.66561494])"
      ]
     },
     "execution_count": 195,
     "metadata": {},
     "output_type": "execute_result"
    }
   ],
   "source": [
    "pred2_no = np.array(pred_no).flatten()\n",
    "pred2_no"
   ]
  },
  {
   "cell_type": "code",
   "execution_count": 196,
   "metadata": {},
   "outputs": [
    {
     "data": {
      "text/html": [
       "<div>\n",
       "<style scoped>\n",
       "    .dataframe tbody tr th:only-of-type {\n",
       "        vertical-align: middle;\n",
       "    }\n",
       "\n",
       "    .dataframe tbody tr th {\n",
       "        vertical-align: top;\n",
       "    }\n",
       "\n",
       "    .dataframe thead th {\n",
       "        text-align: right;\n",
       "    }\n",
       "</style>\n",
       "<table border=\"1\" class=\"dataframe\">\n",
       "  <thead>\n",
       "    <tr style=\"text-align: right;\">\n",
       "      <th></th>\n",
       "      <th>season</th>\n",
       "      <th>year</th>\n",
       "      <th>month</th>\n",
       "      <th>holiday</th>\n",
       "      <th>weekday</th>\n",
       "      <th>weather</th>\n",
       "      <th>temperature</th>\n",
       "      <th>humidity</th>\n",
       "      <th>windspeed</th>\n",
       "    </tr>\n",
       "  </thead>\n",
       "  <tbody>\n",
       "    <tr>\n",
       "      <th>0</th>\n",
       "      <td>3</td>\n",
       "      <td>1</td>\n",
       "      <td>7</td>\n",
       "      <td>0</td>\n",
       "      <td>0</td>\n",
       "      <td>1</td>\n",
       "      <td>0.721667</td>\n",
       "      <td>0.623750</td>\n",
       "      <td>0.170396</td>\n",
       "    </tr>\n",
       "    <tr>\n",
       "      <th>1</th>\n",
       "      <td>2</td>\n",
       "      <td>1</td>\n",
       "      <td>5</td>\n",
       "      <td>0</td>\n",
       "      <td>4</td>\n",
       "      <td>1</td>\n",
       "      <td>0.593333</td>\n",
       "      <td>0.520000</td>\n",
       "      <td>0.229475</td>\n",
       "    </tr>\n",
       "    <tr>\n",
       "      <th>2</th>\n",
       "      <td>3</td>\n",
       "      <td>1</td>\n",
       "      <td>8</td>\n",
       "      <td>0</td>\n",
       "      <td>5</td>\n",
       "      <td>2</td>\n",
       "      <td>0.765833</td>\n",
       "      <td>0.642500</td>\n",
       "      <td>0.215792</td>\n",
       "    </tr>\n",
       "    <tr>\n",
       "      <th>3</th>\n",
       "      <td>2</td>\n",
       "      <td>1</td>\n",
       "      <td>4</td>\n",
       "      <td>0</td>\n",
       "      <td>5</td>\n",
       "      <td>1</td>\n",
       "      <td>0.403333</td>\n",
       "      <td>0.377083</td>\n",
       "      <td>0.300388</td>\n",
       "    </tr>\n",
       "    <tr>\n",
       "      <th>4</th>\n",
       "      <td>4</td>\n",
       "      <td>1</td>\n",
       "      <td>11</td>\n",
       "      <td>0</td>\n",
       "      <td>1</td>\n",
       "      <td>1</td>\n",
       "      <td>0.319167</td>\n",
       "      <td>0.494167</td>\n",
       "      <td>0.236325</td>\n",
       "    </tr>\n",
       "  </tbody>\n",
       "</table>\n",
       "</div>"
      ],
      "text/plain": [
       "   season  year  month  holiday  weekday  weather  temperature  humidity  \\\n",
       "0       3     1      7        0        0        1     0.721667  0.623750   \n",
       "1       2     1      5        0        4        1     0.593333  0.520000   \n",
       "2       3     1      8        0        5        2     0.765833  0.642500   \n",
       "3       2     1      4        0        5        1     0.403333  0.377083   \n",
       "4       4     1     11        0        1        1     0.319167  0.494167   \n",
       "\n",
       "   windspeed  \n",
       "0   0.170396  \n",
       "1   0.229475  \n",
       "2   0.215792  \n",
       "3   0.300388  \n",
       "4   0.236325  "
      ]
     },
     "execution_count": 196,
     "metadata": {},
     "output_type": "execute_result"
    }
   ],
   "source": [
    "df_test_no = pd.DataFrame(data = X_test_no, columns = X_test_no.columns)\n",
    "df_test_no.head()"
   ]
  },
  {
   "cell_type": "code",
   "execution_count": 197,
   "metadata": {},
   "outputs": [],
   "source": [
    "df_test_no['y_test_count'] = y_test_no\n",
    "df_test_no['predict_count'] = pred2_no\n",
    "df_test_no.to_csv(\"../dataset/no_outliers/danny_test.csv\", index=False)"
   ]
  },
  {
   "cell_type": "code",
   "execution_count": 198,
   "metadata": {},
   "outputs": [
    {
     "name": "stdout",
     "output_type": "stream",
     "text": [
      "Mean Absolute Error: 0.20084931642147416\n",
      "Mean Squared Error: 758132.947107728\n",
      "Root Mean Squared Error: 870.7083019632511\n"
     ]
    }
   ],
   "source": [
    "# acc_no = reg.score(y_test_no, pred2_no)\n",
    "\n",
    "mape = metrics.mean_absolute_percentage_error(y_test_no, pred2_no)\n",
    "mse = metrics.mean_squared_error(y_test_no, pred2_no)\n",
    "rmse = np.sqrt(metrics.mean_squared_error(y_test_no, pred2_no))\n",
    "\n",
    "print('Mean Absolute Error:', mape)\n",
    "print('Mean Squared Error:', mse)\n",
    "print('Root Mean Squared Error:', rmse)"
   ]
  },
  {
   "cell_type": "code",
   "execution_count": 199,
   "metadata": {},
   "outputs": [
    {
     "name": "stdout",
     "output_type": "stream",
     "text": [
      "Accuracy: 99.79915068357853\n"
     ]
    }
   ],
   "source": [
    "print(\"Accuracy: {}\".format(100 - mape))"
   ]
  }
 ],
 "metadata": {
  "interpreter": {
   "hash": "03e513152586af444efee41b34e3ed8f2efe22788010ed489e1331f5cae7cd24"
  },
  "kernelspec": {
   "display_name": "Python 3.9.7 64-bit",
   "language": "python",
   "name": "python3"
  },
  "language_info": {
   "codemirror_mode": {
    "name": "ipython",
    "version": 3
   },
   "file_extension": ".py",
   "mimetype": "text/x-python",
   "name": "python",
   "nbconvert_exporter": "python",
   "pygments_lexer": "ipython3",
   "version": "3.9.7"
  },
  "orig_nbformat": 4
 },
 "nbformat": 4,
 "nbformat_minor": 2
}
