{
 "cells": [
  {
   "cell_type": "markdown",
   "metadata": {},
   "source": [
    "# 4.4 Artificial Neural Networks for Regression\n",
    "\n",
    "_By: Ling Li Ya, Liana_"
   ]
  },
  {
   "cell_type": "markdown",
   "metadata": {},
   "source": [
    "## 4.4.1 Pre-training preparation"
   ]
  },
  {
   "cell_type": "markdown",
   "metadata": {},
   "source": [
    "### Installing dependencies"
   ]
  },
  {
   "cell_type": "code",
   "execution_count": 1,
   "metadata": {},
   "outputs": [
    {
     "name": "stdout",
     "output_type": "stream",
     "text": [
      "Requirement already satisfied: tensorflow in /home/liana/.local/lib/python3.8/site-packages (2.7.0)\n",
      "Requirement already satisfied: keras-preprocessing>=1.1.1 in /home/liana/.local/lib/python3.8/site-packages (from tensorflow) (1.1.2)\n",
      "Requirement already satisfied: six>=1.12.0 in /home/liana/.local/lib/python3.8/site-packages (from tensorflow) (1.16.0)\n",
      "Requirement already satisfied: libclang>=9.0.1 in /home/liana/.local/lib/python3.8/site-packages (from tensorflow) (12.0.0)\n",
      "Requirement already satisfied: astunparse>=1.6.0 in /home/liana/.local/lib/python3.8/site-packages (from tensorflow) (1.6.3)\n",
      "Requirement already satisfied: google-pasta>=0.1.1 in /home/liana/.local/lib/python3.8/site-packages (from tensorflow) (0.2.0)\n",
      "Requirement already satisfied: keras<2.8,>=2.7.0rc0 in /home/liana/.local/lib/python3.8/site-packages (from tensorflow) (2.7.0)\n",
      "Requirement already satisfied: h5py>=2.9.0 in /home/liana/.local/lib/python3.8/site-packages (from tensorflow) (3.6.0)\n",
      "Requirement already satisfied: termcolor>=1.1.0 in /home/liana/.local/lib/python3.8/site-packages (from tensorflow) (1.1.0)\n",
      "Requirement already satisfied: tensorflow-estimator<2.8,~=2.7.0rc0 in /home/liana/.local/lib/python3.8/site-packages (from tensorflow) (2.7.0)\n",
      "Requirement already satisfied: gast<0.5.0,>=0.2.1 in /home/liana/.local/lib/python3.8/site-packages (from tensorflow) (0.4.0)\n",
      "Requirement already satisfied: tensorflow-io-gcs-filesystem>=0.21.0 in /home/liana/.local/lib/python3.8/site-packages (from tensorflow) (0.22.0)\n",
      "Requirement already satisfied: flatbuffers<3.0,>=1.12 in /home/liana/.local/lib/python3.8/site-packages (from tensorflow) (2.0)\n",
      "Requirement already satisfied: protobuf>=3.9.2 in /home/liana/.local/lib/python3.8/site-packages (from tensorflow) (3.19.1)\n",
      "Requirement already satisfied: wrapt>=1.11.0 in /home/liana/.local/lib/python3.8/site-packages (from tensorflow) (1.13.3)\n",
      "Requirement already satisfied: opt-einsum>=2.3.2 in /home/liana/.local/lib/python3.8/site-packages (from tensorflow) (3.3.0)\n",
      "Requirement already satisfied: typing-extensions>=3.6.6 in /home/liana/.local/lib/python3.8/site-packages (from tensorflow) (4.0.0)\n",
      "Requirement already satisfied: absl-py>=0.4.0 in /home/liana/.local/lib/python3.8/site-packages (from tensorflow) (1.0.0)\n",
      "Requirement already satisfied: numpy>=1.14.5 in /home/liana/.local/lib/python3.8/site-packages (from tensorflow) (1.21.4)\n",
      "Requirement already satisfied: tensorboard~=2.6 in /home/liana/.local/lib/python3.8/site-packages (from tensorflow) (2.7.0)\n",
      "Requirement already satisfied: wheel<1.0,>=0.32.0 in /usr/lib/python3/dist-packages (from tensorflow) (0.34.2)\n",
      "Requirement already satisfied: grpcio<2.0,>=1.24.3 in /home/liana/.local/lib/python3.8/site-packages (from tensorflow) (1.42.0)\n",
      "Requirement already satisfied: google-auth<3,>=1.6.3 in /home/liana/.local/lib/python3.8/site-packages (from tensorboard~=2.6->tensorflow) (2.3.3)\n",
      "Requirement already satisfied: google-auth-oauthlib<0.5,>=0.4.1 in /home/liana/.local/lib/python3.8/site-packages (from tensorboard~=2.6->tensorflow) (0.4.6)\n",
      "Requirement already satisfied: markdown>=2.6.8 in /home/liana/.local/lib/python3.8/site-packages (from tensorboard~=2.6->tensorflow) (3.3.6)\n",
      "Requirement already satisfied: tensorboard-data-server<0.7.0,>=0.6.0 in /home/liana/.local/lib/python3.8/site-packages (from tensorboard~=2.6->tensorflow) (0.6.1)\n",
      "Requirement already satisfied: requests<3,>=2.21.0 in /usr/lib/python3/dist-packages (from tensorboard~=2.6->tensorflow) (2.22.0)\n",
      "Requirement already satisfied: tensorboard-plugin-wit>=1.6.0 in /home/liana/.local/lib/python3.8/site-packages (from tensorboard~=2.6->tensorflow) (1.8.0)\n",
      "Requirement already satisfied: setuptools>=41.0.0 in /home/liana/.local/lib/python3.8/site-packages (from tensorboard~=2.6->tensorflow) (59.2.0)\n",
      "Requirement already satisfied: werkzeug>=0.11.15 in /home/liana/.local/lib/python3.8/site-packages (from tensorboard~=2.6->tensorflow) (2.0.2)\n",
      "Requirement already satisfied: cachetools<5.0,>=2.0.0 in /home/liana/.local/lib/python3.8/site-packages (from google-auth<3,>=1.6.3->tensorboard~=2.6->tensorflow) (4.2.4)\n",
      "Requirement already satisfied: rsa<5,>=3.1.4; python_version >= \"3.6\" in /home/liana/.local/lib/python3.8/site-packages (from google-auth<3,>=1.6.3->tensorboard~=2.6->tensorflow) (4.7.2)\n",
      "Requirement already satisfied: pyasn1-modules>=0.2.1 in /usr/lib/python3/dist-packages (from google-auth<3,>=1.6.3->tensorboard~=2.6->tensorflow) (0.2.1)\n",
      "Requirement already satisfied: requests-oauthlib>=0.7.0 in /home/liana/.local/lib/python3.8/site-packages (from google-auth-oauthlib<0.5,>=0.4.1->tensorboard~=2.6->tensorflow) (1.3.0)\n",
      "Requirement already satisfied: importlib-metadata>=4.4; python_version < \"3.10\" in /home/liana/.local/lib/python3.8/site-packages (from markdown>=2.6.8->tensorboard~=2.6->tensorflow) (4.8.2)\n",
      "Requirement already satisfied: pyasn1>=0.1.3 in /usr/lib/python3/dist-packages (from rsa<5,>=3.1.4; python_version >= \"3.6\"->google-auth<3,>=1.6.3->tensorboard~=2.6->tensorflow) (0.4.2)\n",
      "Requirement already satisfied: oauthlib>=3.0.0 in /usr/lib/python3/dist-packages (from requests-oauthlib>=0.7.0->google-auth-oauthlib<0.5,>=0.4.1->tensorboard~=2.6->tensorflow) (3.1.0)\n",
      "Requirement already satisfied: zipp>=0.5 in /usr/lib/python3/dist-packages (from importlib-metadata>=4.4; python_version < \"3.10\"->markdown>=2.6.8->tensorboard~=2.6->tensorflow) (1.0.0)\n",
      "Requirement already satisfied: keras in /home/liana/.local/lib/python3.8/site-packages (2.7.0)\n"
     ]
    }
   ],
   "source": [
    "!pip install tensorflow\n",
    "!pip install keras"
   ]
  },
  {
   "cell_type": "markdown",
   "metadata": {},
   "source": [
    "### Import libraries"
   ]
  },
  {
   "cell_type": "code",
   "execution_count": 2,
   "metadata": {},
   "outputs": [
    {
     "name": "stderr",
     "output_type": "stream",
     "text": [
      "2021-12-02 13:34:34.534224: W tensorflow/stream_executor/platform/default/dso_loader.cc:64] Could not load dynamic library 'libcudart.so.11.0'; dlerror: libcudart.so.11.0: cannot open shared object file: No such file or directory\n",
      "2021-12-02 13:34:34.534546: I tensorflow/stream_executor/cuda/cudart_stub.cc:29] Ignore above cudart dlerror if you do not have a GPU set up on your machine.\n"
     ]
    }
   ],
   "source": [
    "import pandas as pd\n",
    "import numpy as np\n",
    "import tensorflow as tf\n",
    "from keras.models import Sequential\n",
    "import matplotlib.pyplot as plt\n",
    "from keras.layers import Dense\n",
    "from sklearn.metrics import r2_score\n",
    "from sklearn.preprocessing import StandardScaler"
   ]
  },
  {
   "cell_type": "markdown",
   "metadata": {},
   "source": [
    "### Loading data"
   ]
  },
  {
   "cell_type": "code",
   "execution_count": 3,
   "metadata": {},
   "outputs": [],
   "source": [
    "# Cleaned dataset with no outliers\n",
    "X_train_no = pd.read_csv('../dataset/no_outliers/X_train.csv')\n",
    "X_test_no = pd.read_csv('../dataset/no_outliers/X_test.csv')\n",
    "y_train_no = pd.read_csv('../dataset/no_outliers/y_train.csv')\n",
    "y_test_no = pd.read_csv('../dataset/no_outliers/y_test.csv')\n",
    "\n",
    "# Uncleaned original data\n",
    "X_train_with = pd.read_csv('../dataset/with_outliers/X_train.csv')\n",
    "X_test_with = pd.read_csv('../dataset/with_outliers/X_test.csv')\n",
    "y_train_with = pd.read_csv('../dataset/with_outliers/y_train.csv')\n",
    "y_test_with = pd.read_csv('../dataset/with_outliers/y_test.csv')"
   ]
  },
  {
   "cell_type": "code",
   "execution_count": 4,
   "metadata": {},
   "outputs": [],
   "source": [
    "# def standardise_data(X_train, y_train, X_test, y_test):\n",
    "    # X_scaler = StandardScaler()\n",
    "    # y_scaler = StandardScaler()\n",
    "\n",
    "    # # Scale data to standardise data values\n",
    "    # X_train_trans = X_scaler.fit_transform(X_train)\n",
    "    # y_train_trans = y_scaler.fit_transform(y_train)\n",
    "    # X_test_trans = X_scaler.transform(X_test)\n",
    "    # y_test_trans = y_scaler.transform(y_test)\n",
    "    \n",
    "    # print(X_train_trans.shape, y_train_trans.shape, X_test_trans.shape, y_test_trans.shape)\n",
    "\n",
    "    # return X_scaler, y_scaler, X_train_trans, y_train_trans, X_test_trans, y_test_trans\n",
    "    # return X_scaler, y_scaler, X_train, y_train, X_test, y_test\n",
    "\n",
    "# X_scaler_no, y_scaler_no, X_train_no_trans, y_train_no_trans, X_test_no_trans, y_test_no_trans = standardise_data(X_train_no, y_train_no, X_test_no, y_test_no)\n",
    "X_train_no_trans, y_train_no_trans, X_test_no_trans, y_test_no_trans = X_train_no.to_numpy(), y_train_no.to_numpy(), X_test_no.to_numpy(), y_test_no.to_numpy()"
   ]
  },
  {
   "cell_type": "markdown",
   "metadata": {},
   "source": [
    "## 4.4.2 Training\n",
    "\n",
    "Using a layer with 5 neurons, with 9 input dimensions of normal weight, using relu activation function. Batch size is 20 and training epochs are 50."
   ]
  },
  {
   "cell_type": "code",
   "execution_count": 5,
   "metadata": {},
   "outputs": [
    {
     "name": "stderr",
     "output_type": "stream",
     "text": [
      "2021-12-02 13:34:37.028880: E tensorflow/stream_executor/cuda/cuda_driver.cc:271] failed call to cuInit: UNKNOWN ERROR (100)\n",
      "2021-12-02 13:34:37.028960: I tensorflow/stream_executor/cuda/cuda_diagnostics.cc:156] kernel driver does not appear to be running on this host (Liana-ASUS): /proc/driver/nvidia/version does not exist\n",
      "2021-12-02 13:34:37.029639: I tensorflow/core/platform/cpu_feature_guard.cc:151] This TensorFlow binary is optimized with oneAPI Deep Neural Network Library (oneDNN) to use the following CPU instructions in performance-critical operations:  AVX2 AVX512F FMA\n",
      "To enable them in other operations, rebuild TensorFlow with the appropriate compiler flags.\n"
     ]
    },
    {
     "name": "stdout",
     "output_type": "stream",
     "text": [
      "Epoch 1/50\n",
      "29/29 [==============================] - 0s 1ms/step - loss: 0.3079 - mse: 0.3079 - mae: 0.5074\n",
      "Epoch 2/50\n",
      "29/29 [==============================] - 0s 2ms/step - loss: 0.2586 - mse: 0.2586 - mae: 0.4568\n",
      "Epoch 3/50\n",
      "29/29 [==============================] - 0s 3ms/step - loss: 0.1718 - mse: 0.1718 - mae: 0.3576\n",
      "Epoch 4/50\n",
      "29/29 [==============================] - 0s 858us/step - loss: 0.0757 - mse: 0.0757 - mae: 0.2283\n",
      "Epoch 5/50\n",
      "29/29 [==============================] - 0s 910us/step - loss: 0.0402 - mse: 0.0402 - mae: 0.1627\n",
      "Epoch 6/50\n",
      "29/29 [==============================] - 0s 968us/step - loss: 0.0379 - mse: 0.0379 - mae: 0.1572\n",
      "Epoch 7/50\n",
      "29/29 [==============================] - 0s 915us/step - loss: 0.0358 - mse: 0.0358 - mae: 0.1530\n",
      "Epoch 8/50\n",
      "29/29 [==============================] - 0s 896us/step - loss: 0.0325 - mse: 0.0325 - mae: 0.1457\n",
      "Epoch 9/50\n",
      "29/29 [==============================] - 0s 857us/step - loss: 0.0272 - mse: 0.0272 - mae: 0.1331\n",
      "Epoch 10/50\n",
      "29/29 [==============================] - 0s 1ms/step - loss: 0.0218 - mse: 0.0218 - mae: 0.1180\n",
      "Epoch 11/50\n",
      "29/29 [==============================] - 0s 860us/step - loss: 0.0173 - mse: 0.0173 - mae: 0.1041\n",
      "Epoch 12/50\n",
      "29/29 [==============================] - 0s 936us/step - loss: 0.0148 - mse: 0.0148 - mae: 0.0953\n",
      "Epoch 13/50\n",
      "29/29 [==============================] - 0s 1ms/step - loss: 0.0134 - mse: 0.0134 - mae: 0.0901\n",
      "Epoch 14/50\n",
      "29/29 [==============================] - 0s 982us/step - loss: 0.0126 - mse: 0.0126 - mae: 0.0869\n",
      "Epoch 15/50\n",
      "29/29 [==============================] - 0s 1ms/step - loss: 0.0121 - mse: 0.0121 - mae: 0.0844\n",
      "Epoch 16/50\n",
      "29/29 [==============================] - 0s 1ms/step - loss: 0.0116 - mse: 0.0116 - mae: 0.0826\n",
      "Epoch 17/50\n",
      "29/29 [==============================] - 0s 1ms/step - loss: 0.0114 - mse: 0.0114 - mae: 0.0816\n",
      "Epoch 18/50\n",
      "29/29 [==============================] - 0s 1ms/step - loss: 0.0110 - mse: 0.0110 - mae: 0.0803\n",
      "Epoch 19/50\n",
      "29/29 [==============================] - 0s 1ms/step - loss: 0.0112 - mse: 0.0112 - mae: 0.0800\n",
      "Epoch 20/50\n",
      "29/29 [==============================] - 0s 1ms/step - loss: 0.0108 - mse: 0.0108 - mae: 0.0794\n",
      "Epoch 21/50\n",
      "29/29 [==============================] - 0s 1ms/step - loss: 0.0107 - mse: 0.0107 - mae: 0.0786\n",
      "Epoch 22/50\n",
      "29/29 [==============================] - 0s 994us/step - loss: 0.0106 - mse: 0.0106 - mae: 0.0786\n",
      "Epoch 23/50\n",
      "29/29 [==============================] - 0s 3ms/step - loss: 0.0105 - mse: 0.0105 - mae: 0.0784\n",
      "Epoch 24/50\n",
      "29/29 [==============================] - 0s 3ms/step - loss: 0.0105 - mse: 0.0105 - mae: 0.0777\n",
      "Epoch 25/50\n",
      "29/29 [==============================] - 0s 3ms/step - loss: 0.0106 - mse: 0.0106 - mae: 0.0779\n",
      "Epoch 26/50\n",
      "29/29 [==============================] - 0s 2ms/step - loss: 0.0103 - mse: 0.0103 - mae: 0.0767\n",
      "Epoch 27/50\n",
      "29/29 [==============================] - 0s 941us/step - loss: 0.0105 - mse: 0.0105 - mae: 0.0782\n",
      "Epoch 28/50\n",
      "29/29 [==============================] - 0s 895us/step - loss: 0.0103 - mse: 0.0103 - mae: 0.0776\n",
      "Epoch 29/50\n",
      "29/29 [==============================] - 0s 901us/step - loss: 0.0103 - mse: 0.0103 - mae: 0.0774\n",
      "Epoch 30/50\n",
      "29/29 [==============================] - 0s 866us/step - loss: 0.0103 - mse: 0.0103 - mae: 0.0773\n",
      "Epoch 31/50\n",
      "29/29 [==============================] - 0s 3ms/step - loss: 0.0103 - mse: 0.0103 - mae: 0.0777\n",
      "Epoch 32/50\n",
      "29/29 [==============================] - 0s 2ms/step - loss: 0.0104 - mse: 0.0104 - mae: 0.0780\n",
      "Epoch 33/50\n",
      "29/29 [==============================] - 0s 944us/step - loss: 0.0102 - mse: 0.0102 - mae: 0.0775\n",
      "Epoch 34/50\n",
      "29/29 [==============================] - 0s 858us/step - loss: 0.0102 - mse: 0.0102 - mae: 0.0775\n",
      "Epoch 35/50\n",
      "29/29 [==============================] - 0s 987us/step - loss: 0.0102 - mse: 0.0102 - mae: 0.0765\n",
      "Epoch 36/50\n",
      "29/29 [==============================] - 0s 966us/step - loss: 0.0101 - mse: 0.0101 - mae: 0.0775\n",
      "Epoch 37/50\n",
      "29/29 [==============================] - 0s 1ms/step - loss: 0.0100 - mse: 0.0100 - mae: 0.0770\n",
      "Epoch 38/50\n",
      "29/29 [==============================] - 0s 3ms/step - loss: 0.0101 - mse: 0.0101 - mae: 0.0769\n",
      "Epoch 39/50\n",
      "29/29 [==============================] - 0s 1ms/step - loss: 0.0098 - mse: 0.0098 - mae: 0.0763\n",
      "Epoch 40/50\n",
      "29/29 [==============================] - 0s 920us/step - loss: 0.0098 - mse: 0.0098 - mae: 0.0761\n",
      "Epoch 41/50\n",
      "29/29 [==============================] - 0s 2ms/step - loss: 0.0097 - mse: 0.0097 - mae: 0.0758\n",
      "Epoch 42/50\n",
      "29/29 [==============================] - 0s 988us/step - loss: 0.0097 - mse: 0.0097 - mae: 0.0758\n",
      "Epoch 43/50\n",
      "29/29 [==============================] - 0s 2ms/step - loss: 0.0095 - mse: 0.0095 - mae: 0.0745\n",
      "Epoch 44/50\n",
      "29/29 [==============================] - 0s 1ms/step - loss: 0.0095 - mse: 0.0095 - mae: 0.0749\n",
      "Epoch 45/50\n",
      "29/29 [==============================] - 0s 957us/step - loss: 0.0095 - mse: 0.0095 - mae: 0.0741\n",
      "Epoch 46/50\n",
      "29/29 [==============================] - 0s 925us/step - loss: 0.0093 - mse: 0.0093 - mae: 0.0740\n",
      "Epoch 47/50\n",
      "29/29 [==============================] - 0s 835us/step - loss: 0.0092 - mse: 0.0092 - mae: 0.0730\n",
      "Epoch 48/50\n",
      "29/29 [==============================] - 0s 988us/step - loss: 0.0093 - mse: 0.0093 - mae: 0.0735\n",
      "Epoch 49/50\n",
      "29/29 [==============================] - 0s 3ms/step - loss: 0.0091 - mse: 0.0091 - mae: 0.0726\n",
      "Epoch 50/50\n",
      "29/29 [==============================] - 0s 2ms/step - loss: 0.0093 - mse: 0.0093 - mae: 0.0734\n"
     ]
    }
   ],
   "source": [
    "def create_seq_model():\n",
    "    model = Sequential()\n",
    "\n",
    "    # Defining the input layer and first hidden layer\n",
    "    model.add(Dense(units=5, input_dim=9, kernel_initializer='normal', activation='relu'))\n",
    "\n",
    "    # Defining the second layer of the model\n",
    "    model.add(Dense(units=5, kernel_initializer='normal', activation='tanh'))\n",
    "\n",
    "    # The output neuron is a single fully connected node as only a single number is predicted\n",
    "    model.add(Dense(1, kernel_initializer='normal'))\n",
    "\n",
    "    # Compiling the model\n",
    "    model.compile(loss='mse', optimizer='adam', metrics=['mse', 'mae'])\n",
    "\n",
    "    return model\n",
    "\n",
    "def train_model(model, X_train, y_train):\n",
    "    # Fitting the ANN to the training data\n",
    "    model.fit(X_train, y_train, batch_size=20, epochs=50, verbose=1)\n",
    "\n",
    "    return model\n",
    "\n",
    "model_no = create_seq_model()\n",
    "model_no = train_model(model_no, X_train_no_trans, y_train_no_trans)"
   ]
  },
  {
   "cell_type": "markdown",
   "metadata": {},
   "source": [
    "#### Using data with outliers"
   ]
  },
  {
   "cell_type": "code",
   "execution_count": 11,
   "metadata": {},
   "outputs": [],
   "source": [
    "# X_scaler_with, y_scaler_with, X_train_with_trans, y_train_with_trans, X_test_with_trans, y_test_with_trans = standardise_data(X_train_with, y_train_with, X_test_with, y_test_with)\n",
    "X_train_with_trans, y_train_with_trans, X_test_with_trans, y_test_with_trans = X_train_with.to_numpy(), y_train_with.to_numpy(), X_test_with.to_numpy(), y_test_with.to_numpy()"
   ]
  },
  {
   "cell_type": "code",
   "execution_count": 12,
   "metadata": {},
   "outputs": [
    {
     "name": "stdout",
     "output_type": "stream",
     "text": [
      "Epoch 1/50\n",
      "30/30 [==============================] - 0s 877us/step - loss: 0.3033 - mse: 0.3033 - mae: 0.5040\n",
      "Epoch 2/50\n",
      "30/30 [==============================] - 0s 922us/step - loss: 0.2443 - mse: 0.2443 - mae: 0.4427\n",
      "Epoch 3/50\n",
      "30/30 [==============================] - 0s 856us/step - loss: 0.1558 - mse: 0.1558 - mae: 0.3383\n",
      "Epoch 4/50\n",
      "30/30 [==============================] - 0s 811us/step - loss: 0.0679 - mse: 0.0679 - mae: 0.2137\n",
      "Epoch 5/50\n",
      "30/30 [==============================] - 0s 878us/step - loss: 0.0377 - mse: 0.0377 - mae: 0.1579\n",
      "Epoch 6/50\n",
      "30/30 [==============================] - 0s 901us/step - loss: 0.0356 - mse: 0.0356 - mae: 0.1527\n",
      "Epoch 7/50\n",
      "30/30 [==============================] - 0s 796us/step - loss: 0.0332 - mse: 0.0332 - mae: 0.1478\n",
      "Epoch 8/50\n",
      "30/30 [==============================] - 0s 815us/step - loss: 0.0296 - mse: 0.0296 - mae: 0.1391\n",
      "Epoch 9/50\n",
      "30/30 [==============================] - 0s 828us/step - loss: 0.0253 - mse: 0.0253 - mae: 0.1286\n",
      "Epoch 10/50\n",
      "30/30 [==============================] - 0s 806us/step - loss: 0.0212 - mse: 0.0212 - mae: 0.1173\n",
      "Epoch 11/50\n",
      "30/30 [==============================] - 0s 833us/step - loss: 0.0179 - mse: 0.0179 - mae: 0.1056\n",
      "Epoch 12/50\n",
      "30/30 [==============================] - 0s 874us/step - loss: 0.0154 - mse: 0.0154 - mae: 0.0970\n",
      "Epoch 13/50\n",
      "30/30 [==============================] - 0s 972us/step - loss: 0.0141 - mse: 0.0141 - mae: 0.0918\n",
      "Epoch 14/50\n",
      "30/30 [==============================] - 0s 848us/step - loss: 0.0131 - mse: 0.0131 - mae: 0.0883\n",
      "Epoch 15/50\n",
      "30/30 [==============================] - 0s 883us/step - loss: 0.0124 - mse: 0.0124 - mae: 0.0857\n",
      "Epoch 16/50\n",
      "30/30 [==============================] - 0s 817us/step - loss: 0.0119 - mse: 0.0119 - mae: 0.0841\n",
      "Epoch 17/50\n",
      "30/30 [==============================] - 0s 840us/step - loss: 0.0115 - mse: 0.0115 - mae: 0.0823\n",
      "Epoch 18/50\n",
      "30/30 [==============================] - 0s 901us/step - loss: 0.0110 - mse: 0.0110 - mae: 0.0807\n",
      "Epoch 19/50\n",
      "30/30 [==============================] - 0s 2ms/step - loss: 0.0107 - mse: 0.0107 - mae: 0.0794\n",
      "Epoch 20/50\n",
      "30/30 [==============================] - 0s 3ms/step - loss: 0.0106 - mse: 0.0106 - mae: 0.0787\n",
      "Epoch 21/50\n",
      "30/30 [==============================] - 0s 2ms/step - loss: 0.0104 - mse: 0.0104 - mae: 0.0776\n",
      "Epoch 22/50\n",
      "30/30 [==============================] - 0s 820us/step - loss: 0.0104 - mse: 0.0104 - mae: 0.0778\n",
      "Epoch 23/50\n",
      "30/30 [==============================] - 0s 806us/step - loss: 0.0102 - mse: 0.0102 - mae: 0.0769\n",
      "Epoch 24/50\n",
      "30/30 [==============================] - 0s 957us/step - loss: 0.0100 - mse: 0.0100 - mae: 0.0758\n",
      "Epoch 25/50\n",
      "30/30 [==============================] - 0s 1ms/step - loss: 0.0103 - mse: 0.0103 - mae: 0.0777\n",
      "Epoch 26/50\n",
      "30/30 [==============================] - 0s 999us/step - loss: 0.0101 - mse: 0.0101 - mae: 0.0761\n",
      "Epoch 27/50\n",
      "30/30 [==============================] - 0s 848us/step - loss: 0.0100 - mse: 0.0100 - mae: 0.0763\n",
      "Epoch 28/50\n",
      "30/30 [==============================] - 0s 878us/step - loss: 0.0098 - mse: 0.0098 - mae: 0.0748\n",
      "Epoch 29/50\n",
      "30/30 [==============================] - 0s 839us/step - loss: 0.0098 - mse: 0.0098 - mae: 0.0749\n",
      "Epoch 30/50\n",
      "30/30 [==============================] - 0s 797us/step - loss: 0.0098 - mse: 0.0098 - mae: 0.0749\n",
      "Epoch 31/50\n",
      "30/30 [==============================] - 0s 876us/step - loss: 0.0097 - mse: 0.0097 - mae: 0.0743\n",
      "Epoch 32/50\n",
      "30/30 [==============================] - 0s 828us/step - loss: 0.0097 - mse: 0.0097 - mae: 0.0742\n",
      "Epoch 33/50\n",
      "30/30 [==============================] - 0s 824us/step - loss: 0.0097 - mse: 0.0097 - mae: 0.0750\n",
      "Epoch 34/50\n",
      "30/30 [==============================] - 0s 845us/step - loss: 0.0097 - mse: 0.0097 - mae: 0.0744\n",
      "Epoch 35/50\n",
      "30/30 [==============================] - 0s 903us/step - loss: 0.0096 - mse: 0.0096 - mae: 0.0742\n",
      "Epoch 36/50\n",
      "30/30 [==============================] - 0s 814us/step - loss: 0.0096 - mse: 0.0096 - mae: 0.0743\n",
      "Epoch 37/50\n",
      "30/30 [==============================] - 0s 815us/step - loss: 0.0096 - mse: 0.0096 - mae: 0.0746\n",
      "Epoch 38/50\n",
      "30/30 [==============================] - 0s 851us/step - loss: 0.0095 - mse: 0.0095 - mae: 0.0738\n",
      "Epoch 39/50\n",
      "30/30 [==============================] - 0s 820us/step - loss: 0.0095 - mse: 0.0095 - mae: 0.0737\n",
      "Epoch 40/50\n",
      "30/30 [==============================] - 0s 813us/step - loss: 0.0094 - mse: 0.0094 - mae: 0.0738\n",
      "Epoch 41/50\n",
      "30/30 [==============================] - 0s 825us/step - loss: 0.0094 - mse: 0.0094 - mae: 0.0737\n",
      "Epoch 42/50\n",
      "30/30 [==============================] - 0s 802us/step - loss: 0.0093 - mse: 0.0093 - mae: 0.0734\n",
      "Epoch 43/50\n",
      "30/30 [==============================] - 0s 825us/step - loss: 0.0092 - mse: 0.0092 - mae: 0.0727\n",
      "Epoch 44/50\n",
      "30/30 [==============================] - 0s 863us/step - loss: 0.0092 - mse: 0.0092 - mae: 0.0726\n",
      "Epoch 45/50\n",
      "30/30 [==============================] - 0s 809us/step - loss: 0.0091 - mse: 0.0091 - mae: 0.0725\n",
      "Epoch 46/50\n",
      "30/30 [==============================] - 0s 883us/step - loss: 0.0091 - mse: 0.0091 - mae: 0.0725\n",
      "Epoch 47/50\n",
      "30/30 [==============================] - 0s 863us/step - loss: 0.0089 - mse: 0.0089 - mae: 0.0715\n",
      "Epoch 48/50\n",
      "30/30 [==============================] - 0s 803us/step - loss: 0.0088 - mse: 0.0088 - mae: 0.0712\n",
      "Epoch 49/50\n",
      "30/30 [==============================] - 0s 822us/step - loss: 0.0087 - mse: 0.0087 - mae: 0.0701\n",
      "Epoch 50/50\n",
      "30/30 [==============================] - 0s 861us/step - loss: 0.0086 - mse: 0.0086 - mae: 0.0700\n"
     ]
    }
   ],
   "source": [
    "model_with = create_seq_model()\n",
    "model_with = train_model(model_with, X_train_with_trans, y_train_with_trans)"
   ]
  },
  {
   "cell_type": "markdown",
   "metadata": {},
   "source": [
    "## 4.4.3 Hyperparameter tuning\n",
    "\n",
    "To find the best accuracy with the minimum number of layers/neurons."
   ]
  },
  {
   "cell_type": "markdown",
   "metadata": {},
   "source": [
    "### Grid search\n",
    "\n",
    "Mean Square Error (MSE) is used with the formula `(sum of all (y_true - y_pred)^2)/total number of y_true`"
   ]
  },
  {
   "cell_type": "code",
   "execution_count": 6,
   "metadata": {},
   "outputs": [
    {
     "name": "stdout",
     "output_type": "stream",
     "text": [
      "<class 'numpy.ndarray'>\n",
      "1 Parameters: batch_size: 5 - Epochs: 5 MSE: 0.017635188410956966\n",
      "2 Parameters: batch_size: 5 - Epochs: 10 MSE: 0.01403044278123201\n",
      "3 Parameters: batch_size: 5 - Epochs: 50 MSE: 0.008130271051181017\n",
      "4 Parameters: batch_size: 5 - Epochs: 100 MSE: 0.007804983862675252\n",
      "5 Parameters: batch_size: 10 - Epochs: 5 MSE: 0.032442627737033325\n",
      "6 Parameters: batch_size: 10 - Epochs: 10 MSE: 0.015060443617070094\n",
      "7 Parameters: batch_size: 10 - Epochs: 50 MSE: 0.00837337365383405\n",
      "8 Parameters: batch_size: 10 - Epochs: 100 MSE: 0.010940945560182455\n",
      "9 Parameters: batch_size: 15 - Epochs: 5 MSE: 0.041065336039560855\n",
      "10 Parameters: batch_size: 15 - Epochs: 10 MSE: 0.020831606351105397\n",
      "11 Parameters: batch_size: 15 - Epochs: 50 MSE: 0.008410321237324514\n",
      "12 Parameters: batch_size: 15 - Epochs: 100 MSE: 0.010834147090105151\n",
      "13 Parameters: batch_size: 20 - Epochs: 5 MSE: 0.04697578592542259\n",
      "14 Parameters: batch_size: 20 - Epochs: 10 MSE: 0.026136945057218794\n",
      "15 Parameters: batch_size: 20 - Epochs: 50 MSE: 0.010574378350527106\n",
      "16 Parameters: batch_size: 20 - Epochs: 100 MSE: 0.010815566676418009\n"
     ]
    }
   ],
   "source": [
    "# Find the best parameters for ANN\n",
    "def find_best_params(X_train, y_train, X_test, y_test):\n",
    "\n",
    "    print(type(y_test))\n",
    "    \n",
    "    # Defining the list of hyper parameters to try\n",
    "    batch_size_list = [5, 10, 15, 20]\n",
    "    epoch_list = [5, 10, 50, 100]\n",
    "\n",
    "    results = pd.DataFrame(columns=['trial_num', 'param', 'accuracy'])\n",
    "    \n",
    "    # Initialising the trials\n",
    "    trial_number = 0\n",
    "    for batch_size_trial in batch_size_list:\n",
    "        for epochs_trial in epoch_list:\n",
    "            trial_number += 1\n",
    "            # Create ANN model\n",
    "            model = Sequential()\n",
    "\n",
    "            # Defining the first layer of the model\n",
    "            model.add(Dense(units=5, input_dim=X_train.shape[1], kernel_initializer='normal', activation='relu'))\n",
    "\n",
    "            # Defining the second layer of the model\n",
    "            model.add(Dense(units=5, kernel_initializer='normal', activation='relu'))\n",
    "\n",
    "            # Output neuron\n",
    "            model.add(Dense(1, kernel_initializer='normal'))\n",
    "\n",
    "            # Compiling the model\n",
    "            model.compile(loss='mean_squared_error', optimizer='adam')\n",
    "\n",
    "            # Fitting the ANN to the Training set\n",
    "            model.fit(X_train, y_train ,batch_size = batch_size_trial, epochs = epochs_trial, verbose=0)\n",
    "\n",
    "            pred = model.predict(X_test)\n",
    "\n",
    "            MSE = 0\n",
    "            for i in range(y_test.shape[0]):\n",
    "                MSE += (y_test[i,0] - pred[i][0])**2\n",
    "\n",
    "            MSE /= y_test.shape[0]\n",
    "            \n",
    "            # Printing the results of the current iteration\n",
    "            print(trial_number, 'Parameters:','batch_size:', batch_size_trial,'-', 'Epochs:',epochs_trial, 'MSE:', MSE)\n",
    "            \n",
    "            results = results.append(pd.DataFrame(data=[[trial_number, str(batch_size_trial)+'-'+str(epochs_trial), MSE]], columns=['trial_num', 'param', 'mse'] ))\n",
    "\n",
    "    return(results)\n",
    "\n",
    "results_no = find_best_params(X_train_no_trans, y_train_no_trans, X_test_no_trans, y_test_no_trans)"
   ]
  },
  {
   "cell_type": "markdown",
   "metadata": {},
   "source": [
    "### Plotting results"
   ]
  },
  {
   "cell_type": "code",
   "execution_count": 7,
   "metadata": {},
   "outputs": [
    {
     "data": {
      "image/png": "[encoded data removed]",
      "text/plain": [
       "<Figure size 1008x432 with 1 Axes>"
      ]
     },
     "metadata": {
      "needs_background": "light"
     },
     "output_type": "display_data"
    }
   ],
   "source": [
    "def plot_bar_chart(results):\n",
    "    plt.figure(figsize=(14,6))\n",
    "    colors = ['pink' if result != min(results['mse']) else 'purple' for result in results['mse']]\n",
    "    plt.bar(results['param'], height=results['mse'], color=colors)\n",
    "    # plt.axhline(y=1.0, color='purple', linestyle='-')\n",
    "    for a, b in zip([x for x in range(len(results['mse']))], round(results['mse'], 5)):\n",
    "        plt.text(a, b, str(b), color='black')\n",
    "    plt.show()\n",
    "\n",
    "plot_bar_chart(results_no)"
   ]
  },
  {
   "cell_type": "markdown",
   "metadata": {},
   "source": [
    "For MSE, a lower value is better. From the graph above, it can be known that the best hyperparameters are `batch_size` = 5 and `epochs` = 100."
   ]
  },
  {
   "cell_type": "code",
   "execution_count": 8,
   "metadata": {},
   "outputs": [],
   "source": [
    "def evaluate_model(test_data):\n",
    "    # Sum of squared error\n",
    "    test_data['SE'] = (test_data['count'] - test_data['pred_count'])**2\n",
    "    r2 = r2_score(test_data['count'], test_data['pred_count'])\n",
    "\n",
    "    print(test_data.head())\n",
    "\n",
    "    print(\"r2: \", r2)\n",
    "    print(\"MSE: \", np.mean(test_data['SE']))"
   ]
  },
  {
   "cell_type": "markdown",
   "metadata": {},
   "source": [
    "## 4.4.4 Fine-tuning and evaluation"
   ]
  },
  {
   "cell_type": "code",
   "execution_count": 15,
   "metadata": {},
   "outputs": [
    {
     "name": "stdout",
     "output_type": "stream",
     "text": [
      "     season  year     month  holiday   weekday  weather  temperature  \\\n",
      "0  0.666667   1.0  0.545455      0.0  0.000000      0.0     0.838615   \n",
      "1  0.333333   1.0  0.363636      0.0  0.666667      0.0     0.676174   \n",
      "2  0.666667   1.0  0.636364      0.0  0.833333      0.5     0.894519   \n",
      "3  0.333333   1.0  0.272727      0.0  0.833333      0.0     0.435679   \n",
      "4  1.000000   1.0  0.909091      0.0  0.166667      0.0     0.329145   \n",
      "\n",
      "   humidity  windspeed     count  pred_count        SE  \n",
      "0  0.499402   0.337110  0.770538    0.808525  0.001443  \n",
      "1  0.350479   0.492593  0.862768    0.818375  0.001971  \n",
      "2  0.526316   0.456582  0.838275    0.790218  0.002309  \n",
      "3  0.145335   0.679220  0.754483    0.648287  0.011277  \n",
      "4  0.313398   0.510620  0.613735    0.593400  0.000413  \n",
      "r2:  0.8610889177637269\n",
      "MSE:  0.007985720980195267\n"
     ]
    }
   ],
   "source": [
    "# Fine-tune hyperparameters\n",
    "# def fine_tune_model(model, batch_size, epochs, X_scaler, y_scaler, X_train_trans, y_train_trans, X_test_trans, y_test_trans, columns):\n",
    "def fine_tune_model(model, batch_size, epochs, X_train_trans, y_train_trans, X_test_trans, y_test_trans, columns):\n",
    "    model.fit(X_train_trans, y_train_trans, batch_size=batch_size, epochs=epochs, verbose=0)\n",
    "\n",
    "    pred = model.predict(X_test_trans)\n",
    "\n",
    "    test_data_scaled = pd.DataFrame(data=X_test_trans, columns=columns)\n",
    "    test_data_scaled['count'] = y_test_trans\n",
    "    test_data_scaled['pred_count'] = pred\n",
    "    evaluate_model(test_data_scaled)\n",
    "    return test_data_scaled\n",
    "\n",
    "test_data_no = fine_tune_model(\n",
    "        model=model_no,\n",
    "        batch_size=5,\n",
    "        epochs=100,\n",
    "        # X_scaler=X_scaler_no,\n",
    "        # y_scaler=y_scaler_no,\n",
    "        X_train_trans=X_train_no_trans,\n",
    "        y_train_trans=y_train_no_trans,\n",
    "        X_test_trans=X_test_no_trans,\n",
    "        y_test_trans=y_test_no_trans,\n",
    "        columns=X_test_no.columns\n",
    "    )"
   ]
  },
  {
   "cell_type": "code",
   "execution_count": 10,
   "metadata": {},
   "outputs": [
    {
     "name": "stdout",
     "output_type": "stream",
     "text": [
      "Model: \"sequential\"\n",
      "_________________________________________________________________\n",
      " Layer (type)                Output Shape              Param #   \n",
      "=================================================================\n",
      " dense (Dense)               (None, 5)                 50        \n",
      "                                                                 \n",
      " dense_1 (Dense)             (None, 5)                 30        \n",
      "                                                                 \n",
      " dense_2 (Dense)             (None, 1)                 6         \n",
      "                                                                 \n",
      "=================================================================\n",
      "Total params: 86\n",
      "Trainable params: 86\n",
      "Non-trainable params: 0\n",
      "_________________________________________________________________\n"
     ]
    }
   ],
   "source": [
    "model_no.summary()"
   ]
  },
  {
   "cell_type": "markdown",
   "metadata": {},
   "source": [
    "#### Using Data With Outliers"
   ]
  },
  {
   "cell_type": "markdown",
   "metadata": {},
   "source": [
    "The same `batch_size` and `epochs` are used for accuracy comparison."
   ]
  },
  {
   "cell_type": "code",
   "execution_count": 16,
   "metadata": {},
   "outputs": [
    {
     "name": "stdout",
     "output_type": "stream",
     "text": [
      "     season  year     month  holiday   weekday  weather  temperature  \\\n",
      "0  0.666667   0.0  0.545455      0.0  1.000000      0.0     0.794313   \n",
      "1  0.666667   0.0  0.545455      0.0  0.666667      0.0     0.874478   \n",
      "2  0.000000   0.0  0.000000      0.0  1.000000      0.5     0.220499   \n",
      "3  0.000000   0.0  0.090909      0.0  0.333333      0.5     0.168402   \n",
      "4  0.000000   1.0  0.000000      0.0  0.666667      0.5     0.357625   \n",
      "\n",
      "   humidity  windspeed     count  pred_count        SE  \n",
      "0  0.443780   0.436975  0.691550    0.562434  0.016671  \n",
      "1  0.538876   0.307644  0.535568    0.540551  0.000025  \n",
      "2  0.319976   0.304389  0.143677    0.201897  0.003389  \n",
      "3  0.794830   0.028710  0.156803    0.123195  0.001129  \n",
      "4  0.708732   0.081826  0.474979    0.430659  0.001964  \n",
      "r2:  0.8544147523979604\n",
      "MSE:  0.008504011624982854\n"
     ]
    }
   ],
   "source": [
    "test_data_with = fine_tune_model(\n",
    "    model=model_with,\n",
    "    batch_size=5,\n",
    "    epochs=100,\n",
    "    X_train_trans=X_train_with_trans,\n",
    "    y_train_trans=y_train_with_trans,\n",
    "    X_test_trans=X_test_with_trans,\n",
    "    y_test_trans=y_test_with_trans,\n",
    "    columns=X_test_with.columns,\n",
    ")"
   ]
  },
  {
   "cell_type": "code",
   "execution_count": 14,
   "metadata": {},
   "outputs": [
    {
     "name": "stdout",
     "output_type": "stream",
     "text": [
      "Model: \"sequential_17\"\n",
      "_________________________________________________________________\n",
      " Layer (type)                Output Shape              Param #   \n",
      "=================================================================\n",
      " dense_51 (Dense)            (None, 5)                 50        \n",
      "                                                                 \n",
      " dense_52 (Dense)            (None, 5)                 30        \n",
      "                                                                 \n",
      " dense_53 (Dense)            (None, 1)                 6         \n",
      "                                                                 \n",
      "=================================================================\n",
      "Total params: 86\n",
      "Trainable params: 86\n",
      "Non-trainable params: 0\n",
      "_________________________________________________________________\n"
     ]
    }
   ],
   "source": [
    "model_with.summary()"
   ]
  },
  {
   "cell_type": "markdown",
   "metadata": {},
   "source": [
    "In conclusion, using cleaned data without outliers would give a higher accuracy than using data with outliers."
   ]
  }
 ],
 "metadata": {
  "interpreter": {
   "hash": "916dbcbb3f70747c44a77c7bcd40155683ae19c65e1c03b4aa3499c5328201f1"
  },
  "kernelspec": {
   "display_name": "Python 3",
   "language": "python",
   "name": "python3"
  },
  "language_info": {
   "codemirror_mode": {
    "name": "ipython",
    "version": 3
   },
   "file_extension": ".py",
   "mimetype": "text/x-python",
   "name": "python",
   "nbconvert_exporter": "python",
   "pygments_lexer": "ipython3",
   "version": "3.8.10"
  }
 },
 "nbformat": 4,
 "nbformat_minor": 2
}
