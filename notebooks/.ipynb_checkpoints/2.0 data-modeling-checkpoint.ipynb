{
 "cells": [
  {
   "cell_type": "markdown",
   "id": "0079d618",
   "metadata": {},
   "source": [
    "# 2.0 Data Modeling"
   ]
  },
  {
   "cell_type": "markdown",
   "id": "4f707435",
   "metadata": {},
   "source": [
    "In this section, the cleaned dataset will be load and model. The cleaned dataset load is the cleaned.csv."
   ]
  },
  {
   "cell_type": "markdown",
   "id": "39174fa9",
   "metadata": {},
   "source": [
    "## 2.1 Import libary"
   ]
  },
  {
   "cell_type": "code",
   "execution_count": 3,
   "id": "c707dd85",
   "metadata": {},
   "outputs": [],
   "source": [
    "import pandas as pd\n",
    "import numpy as np\n",
    "import seaborn as sns\n",
    "import matplotlib.pyplot as plt\n",
    "from sklearn.linear_model import LinearRegression, Ridge, HuberRegressor, ElasticNetCV\n",
    "from sklearn.tree import DecisionTreeRegressor\n",
    "from sklearn.ensemble import RandomForestRegressor, GradientBoostingRegressor, ExtraTreesRegressor\n",
    "\n",
    "plt.style.use('ggplot')\n",
    "%config InlineBackend.figure_format = 'svg'\n",
    "%matplotlib inline"
   ]
  },
  {
   "cell_type": "markdown",
   "id": "ac3b77c9",
   "metadata": {},
   "source": [
    "## 2.2 Exploratory Data Analysis"
   ]
  },
  {
   "cell_type": "code",
   "execution_count": 2,
   "id": "fc931421",
   "metadata": {},
   "outputs": [],
   "source": []
  },
  {
   "cell_type": "markdown",
   "id": "4a438d6f",
   "metadata": {},
   "source": [
    "## 2.3 Coorelation Matrix"
   ]
  },
  {
   "cell_type": "code",
   "execution_count": 2,
   "id": "af9fad26",
   "metadata": {},
   "outputs": [],
   "source": []
  },
  {
   "cell_type": "markdown",
   "id": "1495bfb4",
   "metadata": {},
   "source": [
    "## 2.4 Model Training"
   ]
  },
  {
   "cell_type": "code",
   "execution_count": 2,
   "id": "1441a4d7",
   "metadata": {},
   "outputs": [],
   "source": []
  },
  {
   "cell_type": "markdown",
   "id": "c0d99de8",
   "metadata": {},
   "source": [
    "## 2.5 "
   ]
  },
  {
   "cell_type": "code",
   "execution_count": null,
   "id": "615305e2",
   "metadata": {},
   "outputs": [],
   "source": []
  },
  {
   "cell_type": "markdown",
   "id": "87c41c95",
   "metadata": {},
   "source": [
    "## 2.6 "
   ]
  },
  {
   "cell_type": "code",
   "execution_count": null,
   "id": "6adc6623",
   "metadata": {},
   "outputs": [],
   "source": []
  },
  {
   "cell_type": "markdown",
   "id": "bdad6c03",
   "metadata": {},
   "source": [
    "## 2.7"
   ]
  },
  {
   "cell_type": "code",
   "execution_count": null,
   "id": "14623d10",
   "metadata": {},
   "outputs": [],
   "source": []
  },
  {
   "cell_type": "markdown",
   "id": "c81663ab",
   "metadata": {},
   "source": [
    "## 2.8"
   ]
  },
  {
   "cell_type": "code",
   "execution_count": null,
   "id": "dd1af2df",
   "metadata": {},
   "outputs": [],
   "source": []
  },
  {
   "cell_type": "markdown",
   "id": "cafb512f",
   "metadata": {},
   "source": [
    "## 2.9 Export Diagram"
   ]
  },
  {
   "cell_type": "code",
   "execution_count": 2,
   "id": "3350b898",
   "metadata": {},
   "outputs": [],
   "source": []
  }
 ],
 "metadata": {
  "kernelspec": {
   "display_name": "Python 3",
   "language": "python",
   "name": "python3"
  },
  "language_info": {
   "codemirror_mode": {
    "name": "ipython",
    "version": 3
   },
   "file_extension": ".py",
   "mimetype": "text/x-python",
   "name": "python",
   "nbconvert_exporter": "python",
   "pygments_lexer": "ipython3",
   "version": "3.8.8"
  }
 },
 "nbformat": 4,
 "nbformat_minor": 5
}
