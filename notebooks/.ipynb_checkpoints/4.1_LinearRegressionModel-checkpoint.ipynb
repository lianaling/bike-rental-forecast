{
 "cells": [
  {
   "cell_type": "markdown",
   "metadata": {},
   "source": [
    "# 4.1 Linear Regression Model"
   ]
  },
  {
   "cell_type": "markdown",
   "metadata": {},
   "source": [
    "## 4.1.1 Import libraries"
   ]
  },
  {
   "cell_type": "code",
   "execution_count": 23,
   "metadata": {},
   "outputs": [],
   "source": [
    "import pandas as pd\n",
    "import numpy as np\n",
    "\n",
    "import warnings\n",
    "\n",
    "from sklearn.neighbors import LocalOutlierFactor\n",
    "from sklearn import datasets, linear_model, metrics\n",
    "from sklearn.linear_model import LinearRegression\n",
    "from sklearn.tree import DecisionTreeRegressor, DecisionTreeClassifier\n",
    "from sklearn.metrics import accuracy_score\n",
    "from sklearn import metrics\n",
    "import seaborn as sns\n",
    "import matplotlib.pyplot as plt\n",
    "%matplotlib inline\n",
    "warnings.filterwarnings('ignore')"
   ]
  },
  {
   "cell_type": "markdown",
   "metadata": {},
   "source": [
    "## 4.1.2 Load dataset"
   ]
  },
  {
   "cell_type": "code",
   "execution_count": 24,
   "metadata": {},
   "outputs": [],
   "source": [
    "# no outliers\n",
    "X_train_no = pd.read_csv('../dataset/no_outliers/X_train.csv')\n",
    "X_test_no = pd.read_csv('../dataset/no_outliers/X_test.csv')\n",
    "y_train_no = pd.read_csv('../dataset/no_outliers/y_train.csv')\n",
    "y_test_no = pd.read_csv('../dataset/no_outliers/y_test.csv')\n",
    "\n",
    "# original data\n",
    "X_train_with = pd.read_csv('../dataset/with_outliers/X_train.csv')\n",
    "X_test_with = pd.read_csv('../dataset/with_outliers/X_test.csv')\n",
    "y_train_with = pd.read_csv('../dataset/with_outliers/y_train.csv')\n",
    "y_test_with = pd.read_csv('../dataset/with_outliers/y_test.csv')"
   ]
  },
  {
   "cell_type": "markdown",
   "metadata": {},
   "source": [
    "## 4.1.3 Model training and evaluation"
   ]
  },
  {
   "cell_type": "code",
   "execution_count": 25,
   "metadata": {},
   "outputs": [],
   "source": [
    "model = LinearRegression()"
   ]
  },
  {
   "cell_type": "markdown",
   "metadata": {},
   "source": [
    "### Without outliers"
   ]
  },
  {
   "cell_type": "code",
   "execution_count": 27,
   "metadata": {},
   "outputs": [],
   "source": [
    "reg = model.fit(X_train_no, y_train_no)"
   ]
  },
  {
   "cell_type": "code",
   "execution_count": 28,
   "metadata": {},
   "outputs": [],
   "source": [
    "pred_no = reg.predict(X_test_no)"
   ]
  },
  {
   "cell_type": "code",
   "execution_count": 29,
   "metadata": {},
   "outputs": [
    {
     "data": {
      "text/plain": [
       "array([0.82054053, 0.71948332, 0.79178193, 0.60754567, 0.61189722,\n",
       "       0.69439322, 0.37885467, 0.17774356, 0.13055142, 0.19382167,\n",
       "       0.64181612, 0.61431353, 0.23172503, 0.39351248, 0.48853896,\n",
       "       0.23416289, 0.45753897, 0.52966265, 0.48296494, 0.83734826,\n",
       "       0.34011356, 0.29130584, 0.45522435, 0.65969691, 0.60825841,\n",
       "       0.62172779, 0.51556193, 0.74872801, 0.09752597, 0.51369892,\n",
       "       0.50904461, 0.58737231, 0.70639886, 0.58396554, 0.82990136,\n",
       "       0.97277379, 0.68736439, 0.50608642, 0.30604265, 0.17056992,\n",
       "       0.27991999, 0.47395354, 0.24398121, 0.77292584, 0.60204261,\n",
       "       0.62204647, 0.39381209, 0.44141737, 0.40060625, 0.77860739,\n",
       "       0.4778154 , 0.73462769, 0.89031034, 0.83887849, 0.68256123,\n",
       "       0.55394808, 0.36176806, 0.32885214, 0.8615979 , 0.84320029,\n",
       "       0.57508769, 0.9030528 , 0.73080545, 0.14682104, 0.54671629,\n",
       "       0.65461289, 0.33412581, 0.25206183, 0.65090183, 0.60491997,\n",
       "       0.61644744, 0.84412341, 0.41043367, 0.37242051, 0.29593104,\n",
       "       0.46947161, 0.23006148, 0.73675041, 0.35358845, 0.56280976,\n",
       "       0.51928659, 0.0767624 , 0.51838994, 0.86803763, 0.74136368,\n",
       "       0.65019315, 0.87816665, 0.52830107, 0.11306129, 0.18458823,\n",
       "       0.76221209, 0.69331183, 0.30187001, 0.58335252, 0.78516844,\n",
       "       0.36899226, 0.63987971, 0.391725  , 0.75401361, 0.63617352,\n",
       "       0.42862419, 0.43516771, 0.618071  , 0.8379575 , 0.7013016 ,\n",
       "       0.35598953, 0.81297569, 0.54133756, 0.44518985, 0.79741058,\n",
       "       0.23346166, 0.56927395, 0.21526046, 0.8752849 , 0.48876798,\n",
       "       0.56092142, 0.51620596, 0.25846056, 0.26774517, 0.27900548,\n",
       "       0.90201011, 0.71478701, 0.45967023, 0.16073913, 0.35727208,\n",
       "       0.60126365, 0.3462139 , 0.16618862, 0.80033347, 0.26245866,\n",
       "       0.43553785, 0.33498817, 0.49418524, 0.51562101, 0.63071999,\n",
       "       0.78644049, 0.53703419, 0.41536203, 0.42996288, 0.50632329,\n",
       "       0.71167733, 0.53451378, 0.57804072, 0.54188972, 0.26961978])"
      ]
     },
     "execution_count": 29,
     "metadata": {},
     "output_type": "execute_result"
    }
   ],
   "source": [
    "pred2_no = np.array(pred_no).flatten()\n",
    "pred2_no"
   ]
  },
  {
   "cell_type": "code",
   "execution_count": 30,
   "metadata": {},
   "outputs": [
    {
     "data": {
      "text/html": [
       "<div>\n",
       "<style scoped>\n",
       "    .dataframe tbody tr th:only-of-type {\n",
       "        vertical-align: middle;\n",
       "    }\n",
       "\n",
       "    .dataframe tbody tr th {\n",
       "        vertical-align: top;\n",
       "    }\n",
       "\n",
       "    .dataframe thead th {\n",
       "        text-align: right;\n",
       "    }\n",
       "</style>\n",
       "<table border=\"1\" class=\"dataframe\">\n",
       "  <thead>\n",
       "    <tr style=\"text-align: right;\">\n",
       "      <th></th>\n",
       "      <th>season</th>\n",
       "      <th>year</th>\n",
       "      <th>month</th>\n",
       "      <th>holiday</th>\n",
       "      <th>weekday</th>\n",
       "      <th>weather</th>\n",
       "      <th>temperature</th>\n",
       "      <th>humidity</th>\n",
       "      <th>windspeed</th>\n",
       "    </tr>\n",
       "  </thead>\n",
       "  <tbody>\n",
       "    <tr>\n",
       "      <th>0</th>\n",
       "      <td>0.666667</td>\n",
       "      <td>1.0</td>\n",
       "      <td>0.545455</td>\n",
       "      <td>0.0</td>\n",
       "      <td>0.000000</td>\n",
       "      <td>0.0</td>\n",
       "      <td>0.838615</td>\n",
       "      <td>0.499402</td>\n",
       "      <td>0.337110</td>\n",
       "    </tr>\n",
       "    <tr>\n",
       "      <th>1</th>\n",
       "      <td>0.333333</td>\n",
       "      <td>1.0</td>\n",
       "      <td>0.363636</td>\n",
       "      <td>0.0</td>\n",
       "      <td>0.666667</td>\n",
       "      <td>0.0</td>\n",
       "      <td>0.676174</td>\n",
       "      <td>0.350479</td>\n",
       "      <td>0.492593</td>\n",
       "    </tr>\n",
       "    <tr>\n",
       "      <th>2</th>\n",
       "      <td>0.666667</td>\n",
       "      <td>1.0</td>\n",
       "      <td>0.636364</td>\n",
       "      <td>0.0</td>\n",
       "      <td>0.833333</td>\n",
       "      <td>0.5</td>\n",
       "      <td>0.894519</td>\n",
       "      <td>0.526316</td>\n",
       "      <td>0.456582</td>\n",
       "    </tr>\n",
       "    <tr>\n",
       "      <th>3</th>\n",
       "      <td>0.333333</td>\n",
       "      <td>1.0</td>\n",
       "      <td>0.272727</td>\n",
       "      <td>0.0</td>\n",
       "      <td>0.833333</td>\n",
       "      <td>0.0</td>\n",
       "      <td>0.435679</td>\n",
       "      <td>0.145335</td>\n",
       "      <td>0.679220</td>\n",
       "    </tr>\n",
       "    <tr>\n",
       "      <th>4</th>\n",
       "      <td>1.000000</td>\n",
       "      <td>1.0</td>\n",
       "      <td>0.909091</td>\n",
       "      <td>0.0</td>\n",
       "      <td>0.166667</td>\n",
       "      <td>0.0</td>\n",
       "      <td>0.329145</td>\n",
       "      <td>0.313398</td>\n",
       "      <td>0.510620</td>\n",
       "    </tr>\n",
       "  </tbody>\n",
       "</table>\n",
       "</div>"
      ],
      "text/plain": [
       "     season  year     month  holiday   weekday  weather  temperature  \\\n",
       "0  0.666667   1.0  0.545455      0.0  0.000000      0.0     0.838615   \n",
       "1  0.333333   1.0  0.363636      0.0  0.666667      0.0     0.676174   \n",
       "2  0.666667   1.0  0.636364      0.0  0.833333      0.5     0.894519   \n",
       "3  0.333333   1.0  0.272727      0.0  0.833333      0.0     0.435679   \n",
       "4  1.000000   1.0  0.909091      0.0  0.166667      0.0     0.329145   \n",
       "\n",
       "   humidity  windspeed  \n",
       "0  0.499402   0.337110  \n",
       "1  0.350479   0.492593  \n",
       "2  0.526316   0.456582  \n",
       "3  0.145335   0.679220  \n",
       "4  0.313398   0.510620  "
      ]
     },
     "execution_count": 30,
     "metadata": {},
     "output_type": "execute_result"
    }
   ],
   "source": [
    "df_no = pd.DataFrame(data = X_test_no, columns = X_test_no.columns)\n",
    "df_no.head()"
   ]
  },
  {
   "cell_type": "code",
   "execution_count": 31,
   "metadata": {},
   "outputs": [
    {
     "data": {
      "text/html": [
       "<div>\n",
       "<style scoped>\n",
       "    .dataframe tbody tr th:only-of-type {\n",
       "        vertical-align: middle;\n",
       "    }\n",
       "\n",
       "    .dataframe tbody tr th {\n",
       "        vertical-align: top;\n",
       "    }\n",
       "\n",
       "    .dataframe thead th {\n",
       "        text-align: right;\n",
       "    }\n",
       "</style>\n",
       "<table border=\"1\" class=\"dataframe\">\n",
       "  <thead>\n",
       "    <tr style=\"text-align: right;\">\n",
       "      <th></th>\n",
       "      <th>season</th>\n",
       "      <th>year</th>\n",
       "      <th>month</th>\n",
       "      <th>holiday</th>\n",
       "      <th>weekday</th>\n",
       "      <th>weather</th>\n",
       "      <th>temperature</th>\n",
       "      <th>humidity</th>\n",
       "      <th>windspeed</th>\n",
       "      <th>y_test_count(with)</th>\n",
       "      <th>predict_count</th>\n",
       "    </tr>\n",
       "  </thead>\n",
       "  <tbody>\n",
       "    <tr>\n",
       "      <th>0</th>\n",
       "      <td>0.666667</td>\n",
       "      <td>1.0</td>\n",
       "      <td>0.545455</td>\n",
       "      <td>0.0</td>\n",
       "      <td>0.000000</td>\n",
       "      <td>0.0</td>\n",
       "      <td>0.838615</td>\n",
       "      <td>0.499402</td>\n",
       "      <td>0.337110</td>\n",
       "      <td>0.691550</td>\n",
       "      <td>0.820541</td>\n",
       "    </tr>\n",
       "    <tr>\n",
       "      <th>1</th>\n",
       "      <td>0.333333</td>\n",
       "      <td>1.0</td>\n",
       "      <td>0.363636</td>\n",
       "      <td>0.0</td>\n",
       "      <td>0.666667</td>\n",
       "      <td>0.0</td>\n",
       "      <td>0.676174</td>\n",
       "      <td>0.350479</td>\n",
       "      <td>0.492593</td>\n",
       "      <td>0.535568</td>\n",
       "      <td>0.719483</td>\n",
       "    </tr>\n",
       "    <tr>\n",
       "      <th>2</th>\n",
       "      <td>0.666667</td>\n",
       "      <td>1.0</td>\n",
       "      <td>0.636364</td>\n",
       "      <td>0.0</td>\n",
       "      <td>0.833333</td>\n",
       "      <td>0.5</td>\n",
       "      <td>0.894519</td>\n",
       "      <td>0.526316</td>\n",
       "      <td>0.456582</td>\n",
       "      <td>0.143677</td>\n",
       "      <td>0.791782</td>\n",
       "    </tr>\n",
       "    <tr>\n",
       "      <th>3</th>\n",
       "      <td>0.333333</td>\n",
       "      <td>1.0</td>\n",
       "      <td>0.272727</td>\n",
       "      <td>0.0</td>\n",
       "      <td>0.833333</td>\n",
       "      <td>0.0</td>\n",
       "      <td>0.435679</td>\n",
       "      <td>0.145335</td>\n",
       "      <td>0.679220</td>\n",
       "      <td>0.156803</td>\n",
       "      <td>0.607546</td>\n",
       "    </tr>\n",
       "    <tr>\n",
       "      <th>4</th>\n",
       "      <td>1.000000</td>\n",
       "      <td>1.0</td>\n",
       "      <td>0.909091</td>\n",
       "      <td>0.0</td>\n",
       "      <td>0.166667</td>\n",
       "      <td>0.0</td>\n",
       "      <td>0.329145</td>\n",
       "      <td>0.313398</td>\n",
       "      <td>0.510620</td>\n",
       "      <td>0.474979</td>\n",
       "      <td>0.611897</td>\n",
       "    </tr>\n",
       "  </tbody>\n",
       "</table>\n",
       "</div>"
      ],
      "text/plain": [
       "     season  year     month  holiday   weekday  weather  temperature  \\\n",
       "0  0.666667   1.0  0.545455      0.0  0.000000      0.0     0.838615   \n",
       "1  0.333333   1.0  0.363636      0.0  0.666667      0.0     0.676174   \n",
       "2  0.666667   1.0  0.636364      0.0  0.833333      0.5     0.894519   \n",
       "3  0.333333   1.0  0.272727      0.0  0.833333      0.0     0.435679   \n",
       "4  1.000000   1.0  0.909091      0.0  0.166667      0.0     0.329145   \n",
       "\n",
       "   humidity  windspeed  y_test_count(with)  predict_count  \n",
       "0  0.499402   0.337110            0.691550       0.820541  \n",
       "1  0.350479   0.492593            0.535568       0.719483  \n",
       "2  0.526316   0.456582            0.143677       0.791782  \n",
       "3  0.145335   0.679220            0.156803       0.607546  \n",
       "4  0.313398   0.510620            0.474979       0.611897  "
      ]
     },
     "execution_count": 31,
     "metadata": {},
     "output_type": "execute_result"
    }
   ],
   "source": [
    "df_no['y_test_count(with)'] = y_test_with\n",
    "\n",
    "df_no['predict_count'] = pred2_no\n",
    "\n",
    "df_no.head()"
   ]
  },
  {
   "cell_type": "code",
   "execution_count": 32,
   "metadata": {},
   "outputs": [
    {
     "name": "stdout",
     "output_type": "stream",
     "text": [
      "Mean Absolute Error: 0.20316398898483953\n",
      "Mean Squared Error: 0.010412185085195525\n",
      "Root Mean Squared Error: 0.10204011507831381\n",
      "Root Square: 0.8188807369784254\n"
     ]
    }
   ],
   "source": [
    "mape_no = metrics.mean_absolute_percentage_error(y_test_no, pred2_no)\n",
    "mse_no = metrics.mean_squared_error(y_test_no, pred2_no)\n",
    "rmse_no = np.sqrt(metrics.mean_squared_error(y_test_no, pred2_no))\n",
    "r2_no = metrics.r2_score(y_test_no, pred2_no)\n",
    "\n",
    "print('Mean Absolute Error:', mape_no)\n",
    "print('Mean Squared Error:', mse_no)\n",
    "print('Root Mean Squared Error:', rmse_no)\n",
    "print('Root Square:', r2_no)"
   ]
  },
  {
   "cell_type": "code",
   "execution_count": 33,
   "metadata": {},
   "outputs": [
    {
     "name": "stdout",
     "output_type": "stream",
     "text": [
      "Accuracy: 81.88807369784254%\n"
     ]
    }
   ],
   "source": [
    "print(\"Accuracy: {}%\".format(r2_no * 100))"
   ]
  },
  {
   "cell_type": "markdown",
   "metadata": {},
   "source": [
    "### With outliers"
   ]
  },
  {
   "cell_type": "code",
   "execution_count": 34,
   "metadata": {},
   "outputs": [],
   "source": [
    "reg = model.fit(X_train_with, y_train_with)"
   ]
  },
  {
   "cell_type": "code",
   "execution_count": 35,
   "metadata": {},
   "outputs": [],
   "source": [
    "pred = reg.predict(X_test_with)\n"
   ]
  },
  {
   "cell_type": "code",
   "execution_count": 36,
   "metadata": {},
   "outputs": [
    {
     "data": {
      "text/plain": [
       "array([0.60523268, 0.63554391, 0.20553659, 0.13078415, 0.47687984,\n",
       "       0.32944032, 0.40660713, 0.70324813, 0.66323184, 0.14698711,\n",
       "       0.17716138, 0.13726535, 0.17533248, 0.53865147, 0.6327383 ,\n",
       "       0.41358627, 0.71697761, 0.73659321, 0.43220689, 0.25144433,\n",
       "       0.87439885, 0.38154652, 0.61015544, 0.49885937, 0.28304488,\n",
       "       0.71447303, 0.72490858, 0.60061261, 0.74849211, 0.73370616,\n",
       "       0.09417281, 0.57705451, 0.61681121, 0.62895702, 0.23408131,\n",
       "       0.52326795, 0.84635611, 0.97490211, 0.32112013, 0.35462822,\n",
       "       0.67819579, 0.17431712, 0.58845313, 0.46838579, 0.8368095 ,\n",
       "       0.77259489, 0.38481929, 0.40244801, 0.42281706, 0.20679013,\n",
       "       0.70149363, 0.83728941, 0.5666676 , 0.69266976, 0.51638795,\n",
       "       0.43694033, 0.36911559, 0.73403107, 0.82902155, 0.50733193,\n",
       "       0.68905493, 0.54708631, 0.59849863, 0.77854947, 0.73669225,\n",
       "       0.38633451, 0.55990651, 0.54429325, 0.77336531, 0.59246534,\n",
       "       0.62657292, 0.84289286, 0.48138957, 0.8157162 , 0.45003135,\n",
       "       0.69841913, 0.61664505, 0.84374569, 0.32683434, 0.35342133,\n",
       "       0.71029913, 0.6206278 , 0.68525372, 0.23522772, 0.5268966 ,\n",
       "       0.75754376, 0.64366022, 0.68076784, 0.61398442, 0.37768293,\n",
       "       0.11698778, 0.25448673, 0.90530413, 0.8009967 , 0.58312277,\n",
       "       0.30671634, 0.16279721, 0.87380749, 0.55851144, 0.47444556,\n",
       "       0.44758   , 0.61929907, 0.56974638, 0.74861162, 0.38085612,\n",
       "       0.66034747, 0.83452281, 0.77282507, 0.51837883, 0.18364026,\n",
       "       0.35683945, 0.4933251 , 0.48872704, 0.28726132, 0.28405884,\n",
       "       0.53547306, 0.54679115, 0.35466818, 0.71547197, 0.5684721 ,\n",
       "       0.24931772, 0.60751298, 0.3925803 , 0.49117755, 0.44133901,\n",
       "       0.52246696, 0.16263153, 0.59502876, 0.40243205, 0.41105843,\n",
       "       0.10321123, 0.79418336, 0.17236595, 0.47690586, 0.48754923,\n",
       "       0.60593378, 0.69802576, 0.41406373, 0.58342059, 0.57546396,\n",
       "       0.5810091 , 0.45094526, 0.71489994, 0.56850624, 0.54724623,\n",
       "       0.79845683, 0.53306235])"
      ]
     },
     "execution_count": 36,
     "metadata": {},
     "output_type": "execute_result"
    }
   ],
   "source": [
    "pred2 = np.array(pred).flatten()\n",
    "pred2"
   ]
  },
  {
   "cell_type": "code",
   "execution_count": 37,
   "metadata": {},
   "outputs": [
    {
     "data": {
      "text/html": [
       "<div>\n",
       "<style scoped>\n",
       "    .dataframe tbody tr th:only-of-type {\n",
       "        vertical-align: middle;\n",
       "    }\n",
       "\n",
       "    .dataframe tbody tr th {\n",
       "        vertical-align: top;\n",
       "    }\n",
       "\n",
       "    .dataframe thead th {\n",
       "        text-align: right;\n",
       "    }\n",
       "</style>\n",
       "<table border=\"1\" class=\"dataframe\">\n",
       "  <thead>\n",
       "    <tr style=\"text-align: right;\">\n",
       "      <th></th>\n",
       "      <th>season</th>\n",
       "      <th>year</th>\n",
       "      <th>month</th>\n",
       "      <th>holiday</th>\n",
       "      <th>weekday</th>\n",
       "      <th>weather</th>\n",
       "      <th>temperature</th>\n",
       "      <th>humidity</th>\n",
       "      <th>windspeed</th>\n",
       "    </tr>\n",
       "  </thead>\n",
       "  <tbody>\n",
       "    <tr>\n",
       "      <th>0</th>\n",
       "      <td>0.666667</td>\n",
       "      <td>0.0</td>\n",
       "      <td>0.545455</td>\n",
       "      <td>0.0</td>\n",
       "      <td>1.000000</td>\n",
       "      <td>0.0</td>\n",
       "      <td>0.794313</td>\n",
       "      <td>0.443780</td>\n",
       "      <td>0.436975</td>\n",
       "    </tr>\n",
       "    <tr>\n",
       "      <th>1</th>\n",
       "      <td>0.666667</td>\n",
       "      <td>0.0</td>\n",
       "      <td>0.545455</td>\n",
       "      <td>0.0</td>\n",
       "      <td>0.666667</td>\n",
       "      <td>0.0</td>\n",
       "      <td>0.874478</td>\n",
       "      <td>0.538876</td>\n",
       "      <td>0.307644</td>\n",
       "    </tr>\n",
       "    <tr>\n",
       "      <th>2</th>\n",
       "      <td>0.000000</td>\n",
       "      <td>0.0</td>\n",
       "      <td>0.000000</td>\n",
       "      <td>0.0</td>\n",
       "      <td>1.000000</td>\n",
       "      <td>0.5</td>\n",
       "      <td>0.220499</td>\n",
       "      <td>0.319976</td>\n",
       "      <td>0.304389</td>\n",
       "    </tr>\n",
       "    <tr>\n",
       "      <th>3</th>\n",
       "      <td>0.000000</td>\n",
       "      <td>0.0</td>\n",
       "      <td>0.090909</td>\n",
       "      <td>0.0</td>\n",
       "      <td>0.333333</td>\n",
       "      <td>0.5</td>\n",
       "      <td>0.168402</td>\n",
       "      <td>0.794830</td>\n",
       "      <td>0.028710</td>\n",
       "    </tr>\n",
       "    <tr>\n",
       "      <th>4</th>\n",
       "      <td>0.000000</td>\n",
       "      <td>1.0</td>\n",
       "      <td>0.000000</td>\n",
       "      <td>0.0</td>\n",
       "      <td>0.666667</td>\n",
       "      <td>0.5</td>\n",
       "      <td>0.357625</td>\n",
       "      <td>0.708732</td>\n",
       "      <td>0.081826</td>\n",
       "    </tr>\n",
       "  </tbody>\n",
       "</table>\n",
       "</div>"
      ],
      "text/plain": [
       "     season  year     month  holiday   weekday  weather  temperature  \\\n",
       "0  0.666667   0.0  0.545455      0.0  1.000000      0.0     0.794313   \n",
       "1  0.666667   0.0  0.545455      0.0  0.666667      0.0     0.874478   \n",
       "2  0.000000   0.0  0.000000      0.0  1.000000      0.5     0.220499   \n",
       "3  0.000000   0.0  0.090909      0.0  0.333333      0.5     0.168402   \n",
       "4  0.000000   1.0  0.000000      0.0  0.666667      0.5     0.357625   \n",
       "\n",
       "   humidity  windspeed  \n",
       "0  0.443780   0.436975  \n",
       "1  0.538876   0.307644  \n",
       "2  0.319976   0.304389  \n",
       "3  0.794830   0.028710  \n",
       "4  0.708732   0.081826  "
      ]
     },
     "execution_count": 37,
     "metadata": {},
     "output_type": "execute_result"
    }
   ],
   "source": [
    "df = pd.DataFrame(data = X_test_with, columns = X_test_with.columns)\n",
    "df.head()"
   ]
  },
  {
   "cell_type": "code",
   "execution_count": 38,
   "metadata": {},
   "outputs": [
    {
     "data": {
      "text/html": [
       "<div>\n",
       "<style scoped>\n",
       "    .dataframe tbody tr th:only-of-type {\n",
       "        vertical-align: middle;\n",
       "    }\n",
       "\n",
       "    .dataframe tbody tr th {\n",
       "        vertical-align: top;\n",
       "    }\n",
       "\n",
       "    .dataframe thead th {\n",
       "        text-align: right;\n",
       "    }\n",
       "</style>\n",
       "<table border=\"1\" class=\"dataframe\">\n",
       "  <thead>\n",
       "    <tr style=\"text-align: right;\">\n",
       "      <th></th>\n",
       "      <th>season</th>\n",
       "      <th>year</th>\n",
       "      <th>month</th>\n",
       "      <th>holiday</th>\n",
       "      <th>weekday</th>\n",
       "      <th>weather</th>\n",
       "      <th>temperature</th>\n",
       "      <th>humidity</th>\n",
       "      <th>windspeed</th>\n",
       "      <th>y_test_count(with)</th>\n",
       "      <th>predict_count</th>\n",
       "    </tr>\n",
       "  </thead>\n",
       "  <tbody>\n",
       "    <tr>\n",
       "      <th>0</th>\n",
       "      <td>0.666667</td>\n",
       "      <td>0.0</td>\n",
       "      <td>0.545455</td>\n",
       "      <td>0.0</td>\n",
       "      <td>1.000000</td>\n",
       "      <td>0.0</td>\n",
       "      <td>0.794313</td>\n",
       "      <td>0.443780</td>\n",
       "      <td>0.436975</td>\n",
       "      <td>0.691550</td>\n",
       "      <td>0.605233</td>\n",
       "    </tr>\n",
       "    <tr>\n",
       "      <th>1</th>\n",
       "      <td>0.666667</td>\n",
       "      <td>0.0</td>\n",
       "      <td>0.545455</td>\n",
       "      <td>0.0</td>\n",
       "      <td>0.666667</td>\n",
       "      <td>0.0</td>\n",
       "      <td>0.874478</td>\n",
       "      <td>0.538876</td>\n",
       "      <td>0.307644</td>\n",
       "      <td>0.535568</td>\n",
       "      <td>0.635544</td>\n",
       "    </tr>\n",
       "    <tr>\n",
       "      <th>2</th>\n",
       "      <td>0.000000</td>\n",
       "      <td>0.0</td>\n",
       "      <td>0.000000</td>\n",
       "      <td>0.0</td>\n",
       "      <td>1.000000</td>\n",
       "      <td>0.5</td>\n",
       "      <td>0.220499</td>\n",
       "      <td>0.319976</td>\n",
       "      <td>0.304389</td>\n",
       "      <td>0.143677</td>\n",
       "      <td>0.205537</td>\n",
       "    </tr>\n",
       "    <tr>\n",
       "      <th>3</th>\n",
       "      <td>0.000000</td>\n",
       "      <td>0.0</td>\n",
       "      <td>0.090909</td>\n",
       "      <td>0.0</td>\n",
       "      <td>0.333333</td>\n",
       "      <td>0.5</td>\n",
       "      <td>0.168402</td>\n",
       "      <td>0.794830</td>\n",
       "      <td>0.028710</td>\n",
       "      <td>0.156803</td>\n",
       "      <td>0.130784</td>\n",
       "    </tr>\n",
       "    <tr>\n",
       "      <th>4</th>\n",
       "      <td>0.000000</td>\n",
       "      <td>1.0</td>\n",
       "      <td>0.000000</td>\n",
       "      <td>0.0</td>\n",
       "      <td>0.666667</td>\n",
       "      <td>0.5</td>\n",
       "      <td>0.357625</td>\n",
       "      <td>0.708732</td>\n",
       "      <td>0.081826</td>\n",
       "      <td>0.474979</td>\n",
       "      <td>0.476880</td>\n",
       "    </tr>\n",
       "  </tbody>\n",
       "</table>\n",
       "</div>"
      ],
      "text/plain": [
       "     season  year     month  holiday   weekday  weather  temperature  \\\n",
       "0  0.666667   0.0  0.545455      0.0  1.000000      0.0     0.794313   \n",
       "1  0.666667   0.0  0.545455      0.0  0.666667      0.0     0.874478   \n",
       "2  0.000000   0.0  0.000000      0.0  1.000000      0.5     0.220499   \n",
       "3  0.000000   0.0  0.090909      0.0  0.333333      0.5     0.168402   \n",
       "4  0.000000   1.0  0.000000      0.0  0.666667      0.5     0.357625   \n",
       "\n",
       "   humidity  windspeed  y_test_count(with)  predict_count  \n",
       "0  0.443780   0.436975            0.691550       0.605233  \n",
       "1  0.538876   0.307644            0.535568       0.635544  \n",
       "2  0.319976   0.304389            0.143677       0.205537  \n",
       "3  0.794830   0.028710            0.156803       0.130784  \n",
       "4  0.708732   0.081826            0.474979       0.476880  "
      ]
     },
     "execution_count": 38,
     "metadata": {},
     "output_type": "execute_result"
    }
   ],
   "source": [
    "df['y_test_count(with)'] = y_test_with\n",
    "\n",
    "df['predict_count'] = pred2\n",
    "\n",
    "df.head()"
   ]
  },
  {
   "cell_type": "code",
   "execution_count": 39,
   "metadata": {},
   "outputs": [
    {
     "name": "stdout",
     "output_type": "stream",
     "text": [
      "Mean Absolute Error: 0.21613177289094146\n",
      "Mean Squared Error: 0.0116497901542051\n",
      "Root Mean Squared Error: 0.10793419362836366\n",
      "Root Square: 0.8005602933174292\n"
     ]
    }
   ],
   "source": [
    "mape = metrics.mean_absolute_percentage_error(y_test_with, pred2)\n",
    "mse = metrics.mean_squared_error(y_test_with, pred2)\n",
    "rmse = np.sqrt(metrics.mean_squared_error(y_test_with, pred2))\n",
    "r2 = metrics.r2_score(y_test_with, pred2)\n",
    "\n",
    "print('Mean Absolute Error:', mape)\n",
    "print('Mean Squared Error:', mse)\n",
    "print('Root Mean Squared Error:', rmse)\n",
    "print('Root Square:', r2)"
   ]
  },
  {
   "cell_type": "code",
   "execution_count": 40,
   "metadata": {},
   "outputs": [
    {
     "name": "stdout",
     "output_type": "stream",
     "text": [
      "Accuracy: 80.05602933174292%\n"
     ]
    }
   ],
   "source": [
    "print(\"Accuracy: {}%\".format(r2 * 100))"
   ]
  }
 ],
 "metadata": {
  "interpreter": {
   "hash": "03e513152586af444efee41b34e3ed8f2efe22788010ed489e1331f5cae7cd24"
  },
  "kernelspec": {
   "display_name": "Python 3",
   "language": "python",
   "name": "python3"
  },
  "language_info": {
   "codemirror_mode": {
    "name": "ipython",
    "version": 3
   },
   "file_extension": ".py",
   "mimetype": "text/x-python",
   "name": "python",
   "nbconvert_exporter": "python",
   "pygments_lexer": "ipython3",
   "version": "3.8.8"
  }
 },
 "nbformat": 4,
 "nbformat_minor": 2
}
