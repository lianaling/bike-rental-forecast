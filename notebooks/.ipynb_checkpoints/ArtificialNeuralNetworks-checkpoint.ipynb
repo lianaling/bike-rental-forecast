{
 "cells": [
  {
   "cell_type": "markdown",
   "metadata": {},
   "source": [
    "# Artificial Neural Networks for Regression\n",
    "\n",
    "_By: Ling Li Ya, Liana_"
   ]
  },
  {
   "cell_type": "markdown",
   "metadata": {},
   "source": [
    "## Pre-training Preparation"
   ]
  },
  {
   "cell_type": "markdown",
   "metadata": {},
   "source": [
    "### Installing Dependencies"
   ]
  },
  {
   "cell_type": "code",
   "execution_count": 1,
   "metadata": {},
   "outputs": [
    {
     "name": "stdout",
     "output_type": "stream",
     "text": [
      "Requirement already satisfied: tensorflow in /home/liana/.local/lib/python3.8/site-packages (2.7.0)\n",
      "Requirement already satisfied: libclang>=9.0.1 in /home/liana/.local/lib/python3.8/site-packages (from tensorflow) (12.0.0)\n",
      "Requirement already satisfied: tensorboard~=2.6 in /home/liana/.local/lib/python3.8/site-packages (from tensorflow) (2.7.0)\n",
      "Requirement already satisfied: h5py>=2.9.0 in /home/liana/.local/lib/python3.8/site-packages (from tensorflow) (3.6.0)\n",
      "Requirement already satisfied: numpy>=1.14.5 in /home/liana/.local/lib/python3.8/site-packages (from tensorflow) (1.21.4)\n",
      "Requirement already satisfied: termcolor>=1.1.0 in /home/liana/.local/lib/python3.8/site-packages (from tensorflow) (1.1.0)\n",
      "Requirement already satisfied: protobuf>=3.9.2 in /home/liana/.local/lib/python3.8/site-packages (from tensorflow) (3.19.1)\n",
      "Requirement already satisfied: wheel<1.0,>=0.32.0 in /usr/lib/python3/dist-packages (from tensorflow) (0.34.2)\n",
      "Requirement already satisfied: opt-einsum>=2.3.2 in /home/liana/.local/lib/python3.8/site-packages (from tensorflow) (3.3.0)\n",
      "Requirement already satisfied: gast<0.5.0,>=0.2.1 in /home/liana/.local/lib/python3.8/site-packages (from tensorflow) (0.4.0)\n",
      "Requirement already satisfied: absl-py>=0.4.0 in /home/liana/.local/lib/python3.8/site-packages (from tensorflow) (1.0.0)\n",
      "Requirement already satisfied: astunparse>=1.6.0 in /home/liana/.local/lib/python3.8/site-packages (from tensorflow) (1.6.3)\n",
      "Requirement already satisfied: tensorflow-io-gcs-filesystem>=0.21.0 in /home/liana/.local/lib/python3.8/site-packages (from tensorflow) (0.22.0)\n",
      "Requirement already satisfied: grpcio<2.0,>=1.24.3 in /home/liana/.local/lib/python3.8/site-packages (from tensorflow) (1.42.0)\n",
      "Requirement already satisfied: keras-preprocessing>=1.1.1 in /home/liana/.local/lib/python3.8/site-packages (from tensorflow) (1.1.2)\n",
      "Requirement already satisfied: flatbuffers<3.0,>=1.12 in /home/liana/.local/lib/python3.8/site-packages (from tensorflow) (2.0)\n",
      "Requirement already satisfied: keras<2.8,>=2.7.0rc0 in /home/liana/.local/lib/python3.8/site-packages (from tensorflow) (2.7.0)\n",
      "Requirement already satisfied: tensorflow-estimator<2.8,~=2.7.0rc0 in /home/liana/.local/lib/python3.8/site-packages (from tensorflow) (2.7.0)\n",
      "Requirement already satisfied: wrapt>=1.11.0 in /home/liana/.local/lib/python3.8/site-packages (from tensorflow) (1.13.3)\n",
      "Requirement already satisfied: typing-extensions>=3.6.6 in /home/liana/.local/lib/python3.8/site-packages (from tensorflow) (4.0.0)\n",
      "Requirement already satisfied: six>=1.12.0 in /home/liana/.local/lib/python3.8/site-packages (from tensorflow) (1.16.0)\n",
      "Requirement already satisfied: google-pasta>=0.1.1 in /home/liana/.local/lib/python3.8/site-packages (from tensorflow) (0.2.0)\n",
      "Requirement already satisfied: tensorboard-plugin-wit>=1.6.0 in /home/liana/.local/lib/python3.8/site-packages (from tensorboard~=2.6->tensorflow) (1.8.0)\n",
      "Requirement already satisfied: werkzeug>=0.11.15 in /home/liana/.local/lib/python3.8/site-packages (from tensorboard~=2.6->tensorflow) (2.0.2)\n",
      "Requirement already satisfied: google-auth-oauthlib<0.5,>=0.4.1 in /home/liana/.local/lib/python3.8/site-packages (from tensorboard~=2.6->tensorflow) (0.4.6)\n",
      "Requirement already satisfied: google-auth<3,>=1.6.3 in /home/liana/.local/lib/python3.8/site-packages (from tensorboard~=2.6->tensorflow) (2.3.3)\n",
      "Requirement already satisfied: requests<3,>=2.21.0 in /usr/lib/python3/dist-packages (from tensorboard~=2.6->tensorflow) (2.22.0)\n",
      "Requirement already satisfied: setuptools>=41.0.0 in /home/liana/.local/lib/python3.8/site-packages (from tensorboard~=2.6->tensorflow) (59.2.0)\n",
      "Requirement already satisfied: tensorboard-data-server<0.7.0,>=0.6.0 in /home/liana/.local/lib/python3.8/site-packages (from tensorboard~=2.6->tensorflow) (0.6.1)\n",
      "Requirement already satisfied: markdown>=2.6.8 in /home/liana/.local/lib/python3.8/site-packages (from tensorboard~=2.6->tensorflow) (3.3.6)\n",
      "Requirement already satisfied: requests-oauthlib>=0.7.0 in /home/liana/.local/lib/python3.8/site-packages (from google-auth-oauthlib<0.5,>=0.4.1->tensorboard~=2.6->tensorflow) (1.3.0)\n",
      "Requirement already satisfied: pyasn1-modules>=0.2.1 in /usr/lib/python3/dist-packages (from google-auth<3,>=1.6.3->tensorboard~=2.6->tensorflow) (0.2.1)\n",
      "Requirement already satisfied: rsa<5,>=3.1.4; python_version >= \"3.6\" in /home/liana/.local/lib/python3.8/site-packages (from google-auth<3,>=1.6.3->tensorboard~=2.6->tensorflow) (4.7.2)\n",
      "Requirement already satisfied: cachetools<5.0,>=2.0.0 in /home/liana/.local/lib/python3.8/site-packages (from google-auth<3,>=1.6.3->tensorboard~=2.6->tensorflow) (4.2.4)\n",
      "Requirement already satisfied: importlib-metadata>=4.4; python_version < \"3.10\" in /home/liana/.local/lib/python3.8/site-packages (from markdown>=2.6.8->tensorboard~=2.6->tensorflow) (4.8.2)\n",
      "Requirement already satisfied: oauthlib>=3.0.0 in /usr/lib/python3/dist-packages (from requests-oauthlib>=0.7.0->google-auth-oauthlib<0.5,>=0.4.1->tensorboard~=2.6->tensorflow) (3.1.0)\n",
      "Requirement already satisfied: pyasn1>=0.1.3 in /usr/lib/python3/dist-packages (from rsa<5,>=3.1.4; python_version >= \"3.6\"->google-auth<3,>=1.6.3->tensorboard~=2.6->tensorflow) (0.4.2)\n",
      "Requirement already satisfied: zipp>=0.5 in /usr/lib/python3/dist-packages (from importlib-metadata>=4.4; python_version < \"3.10\"->markdown>=2.6.8->tensorboard~=2.6->tensorflow) (1.0.0)\n",
      "Requirement already satisfied: keras in /home/liana/.local/lib/python3.8/site-packages (2.7.0)\n"
     ]
    }
   ],
   "source": [
    "!pip install tensorflow\n",
    "!pip install keras"
   ]
  },
  {
   "cell_type": "markdown",
   "metadata": {},
   "source": [
    "### Import Libraries"
   ]
  },
  {
   "cell_type": "code",
   "execution_count": 32,
   "metadata": {},
   "outputs": [],
   "source": [
    "import pandas as pd\n",
    "import numpy as np\n",
    "from keras.models import Sequential\n",
    "from keras.layers import Dense"
   ]
  },
  {
   "cell_type": "markdown",
   "metadata": {},
   "source": [
    "### Loading Data"
   ]
  },
  {
   "cell_type": "code",
   "execution_count": 33,
   "metadata": {},
   "outputs": [],
   "source": [
    "X_train_no = pd.read_csv('../dataset/no_outliers/X_train.csv')\n",
    "X_test_no = pd.read_csv('../dataset/no_outliers/X_test.csv')\n",
    "y_train_no = pd.read_csv('../dataset/no_outliers/y_train.csv')\n",
    "y_test_no = pd.read_csv('../dataset/no_outliers/y_test.csv')\n",
    "\n",
    "X_train_with = pd.read_csv('../dataset/with_outliers/X_train.csv')\n",
    "X_test_with = pd.read_csv('../dataset/with_outliers/X_test.csv')\n",
    "y_train_with = pd.read_csv('../dataset/with_outliers/y_train.csv')\n",
    "y_test_with = pd.read_csv('../dataset/with_outliers/y_test.csv')"
   ]
  },
  {
   "cell_type": "code",
   "execution_count": 34,
   "metadata": {},
   "outputs": [
    {
     "data": {
      "text/html": [
       "<div>\n",
       "<style scoped>\n",
       "    .dataframe tbody tr th:only-of-type {\n",
       "        vertical-align: middle;\n",
       "    }\n",
       "\n",
       "    .dataframe tbody tr th {\n",
       "        vertical-align: top;\n",
       "    }\n",
       "\n",
       "    .dataframe thead th {\n",
       "        text-align: right;\n",
       "    }\n",
       "</style>\n",
       "<table border=\"1\" class=\"dataframe\">\n",
       "  <thead>\n",
       "    <tr style=\"text-align: right;\">\n",
       "      <th></th>\n",
       "      <th>season</th>\n",
       "      <th>year</th>\n",
       "      <th>month</th>\n",
       "      <th>holiday</th>\n",
       "      <th>weekday</th>\n",
       "      <th>weather</th>\n",
       "      <th>temperature</th>\n",
       "      <th>humidity</th>\n",
       "      <th>windspeed</th>\n",
       "    </tr>\n",
       "  </thead>\n",
       "  <tbody>\n",
       "    <tr>\n",
       "      <th>0</th>\n",
       "      <td>1</td>\n",
       "      <td>1</td>\n",
       "      <td>1</td>\n",
       "      <td>0</td>\n",
       "      <td>4</td>\n",
       "      <td>1</td>\n",
       "      <td>0.190000</td>\n",
       "      <td>0.497500</td>\n",
       "      <td>0.220158</td>\n",
       "    </tr>\n",
       "    <tr>\n",
       "      <th>1</th>\n",
       "      <td>2</td>\n",
       "      <td>1</td>\n",
       "      <td>5</td>\n",
       "      <td>0</td>\n",
       "      <td>6</td>\n",
       "      <td>1</td>\n",
       "      <td>0.564167</td>\n",
       "      <td>0.480417</td>\n",
       "      <td>0.123133</td>\n",
       "    </tr>\n",
       "    <tr>\n",
       "      <th>2</th>\n",
       "      <td>3</td>\n",
       "      <td>0</td>\n",
       "      <td>7</td>\n",
       "      <td>0</td>\n",
       "      <td>0</td>\n",
       "      <td>1</td>\n",
       "      <td>0.719167</td>\n",
       "      <td>0.604167</td>\n",
       "      <td>0.245033</td>\n",
       "    </tr>\n",
       "    <tr>\n",
       "      <th>3</th>\n",
       "      <td>3</td>\n",
       "      <td>0</td>\n",
       "      <td>8</td>\n",
       "      <td>0</td>\n",
       "      <td>2</td>\n",
       "      <td>1</td>\n",
       "      <td>0.639167</td>\n",
       "      <td>0.548333</td>\n",
       "      <td>0.125008</td>\n",
       "    </tr>\n",
       "    <tr>\n",
       "      <th>4</th>\n",
       "      <td>1</td>\n",
       "      <td>0</td>\n",
       "      <td>1</td>\n",
       "      <td>0</td>\n",
       "      <td>2</td>\n",
       "      <td>2</td>\n",
       "      <td>0.216667</td>\n",
       "      <td>0.861667</td>\n",
       "      <td>0.146775</td>\n",
       "    </tr>\n",
       "  </tbody>\n",
       "</table>\n",
       "</div>"
      ],
      "text/plain": [
       "   season  year  month  holiday  weekday  weather  temperature  humidity  \\\n",
       "0       1     1      1        0        4        1     0.190000  0.497500   \n",
       "1       2     1      5        0        6        1     0.564167  0.480417   \n",
       "2       3     0      7        0        0        1     0.719167  0.604167   \n",
       "3       3     0      8        0        2        1     0.639167  0.548333   \n",
       "4       1     0      1        0        2        2     0.216667  0.861667   \n",
       "\n",
       "   windspeed  \n",
       "0   0.220158  \n",
       "1   0.123133  \n",
       "2   0.245033  \n",
       "3   0.125008  \n",
       "4   0.146775  "
      ]
     },
     "execution_count": 34,
     "metadata": {},
     "output_type": "execute_result"
    }
   ],
   "source": [
    "X_train_no.head()"
   ]
  },
  {
   "cell_type": "code",
   "execution_count": 35,
   "metadata": {},
   "outputs": [
    {
     "name": "stdout",
     "output_type": "stream",
     "text": [
      "(578, 9) (578, 1)\n"
     ]
    }
   ],
   "source": [
    "print(X_train_no.shape, y_train_no.shape)"
   ]
  },
  {
   "cell_type": "markdown",
   "metadata": {},
   "source": [
    "### Create Model\n",
    "\n",
    "Using a layer with 5 neurons, with 9 input dimensions of normal weight, using relu activation function. Batch size is 20 and training epochs are 50."
   ]
  },
  {
   "cell_type": "code",
   "execution_count": 36,
   "metadata": {},
   "outputs": [
    {
     "name": "stdout",
     "output_type": "stream",
     "text": [
      "Epoch 1/50\n",
      "29/29 [==============================] - 0s 968us/step - loss: 23880234.0000\n",
      "Epoch 2/50\n",
      "29/29 [==============================] - 0s 973us/step - loss: 23879594.0000\n",
      "Epoch 3/50\n",
      "29/29 [==============================] - 0s 871us/step - loss: 23877782.0000\n",
      "Epoch 4/50\n",
      "29/29 [==============================] - 0s 837us/step - loss: 23874372.0000\n",
      "Epoch 5/50\n",
      "29/29 [==============================] - 0s 1ms/step - loss: 23870762.0000\n",
      "Epoch 6/50\n",
      "29/29 [==============================] - 0s 925us/step - loss: 23867912.0000\n",
      "Epoch 7/50\n",
      "29/29 [==============================] - 0s 838us/step - loss: 23865540.0000\n",
      "Epoch 8/50\n",
      "29/29 [==============================] - 0s 959us/step - loss: 23863402.0000\n",
      "Epoch 9/50\n",
      "29/29 [==============================] - 0s 982us/step - loss: 23861410.0000\n",
      "Epoch 10/50\n",
      "29/29 [==============================] - 0s 1ms/step - loss: 23859488.0000\n",
      "Epoch 11/50\n",
      "29/29 [==============================] - 0s 1ms/step - loss: 23857620.0000\n",
      "Epoch 12/50\n",
      "29/29 [==============================] - 0s 1ms/step - loss: 23855818.0000\n",
      "Epoch 13/50\n",
      "29/29 [==============================] - 0s 1ms/step - loss: 23854030.0000\n",
      "Epoch 14/50\n",
      "29/29 [==============================] - 0s 1ms/step - loss: 23852262.0000\n",
      "Epoch 15/50\n",
      "29/29 [==============================] - 0s 1ms/step - loss: 23850536.0000\n",
      "Epoch 16/50\n",
      "29/29 [==============================] - 0s 876us/step - loss: 23848824.0000\n",
      "Epoch 17/50\n",
      "29/29 [==============================] - 0s 880us/step - loss: 23847110.0000\n",
      "Epoch 18/50\n",
      "29/29 [==============================] - 0s 847us/step - loss: 23845426.0000\n",
      "Epoch 19/50\n",
      "29/29 [==============================] - 0s 1ms/step - loss: 23843740.0000\n",
      "Epoch 20/50\n",
      "29/29 [==============================] - 0s 988us/step - loss: 23842076.0000\n",
      "Epoch 21/50\n",
      "29/29 [==============================] - 0s 939us/step - loss: 23840414.0000\n",
      "Epoch 22/50\n",
      "29/29 [==============================] - 0s 842us/step - loss: 23838760.0000\n",
      "Epoch 23/50\n",
      "29/29 [==============================] - 0s 1ms/step - loss: 23837112.0000\n",
      "Epoch 24/50\n",
      "29/29 [==============================] - 0s 955us/step - loss: 23835468.0000\n",
      "Epoch 25/50\n",
      "29/29 [==============================] - 0s 812us/step - loss: 23833840.0000\n",
      "Epoch 26/50\n",
      "29/29 [==============================] - 0s 917us/step - loss: 23832210.0000\n",
      "Epoch 27/50\n",
      "29/29 [==============================] - 0s 919us/step - loss: 23830580.0000\n",
      "Epoch 28/50\n",
      "29/29 [==============================] - 0s 820us/step - loss: 23828952.0000\n",
      "Epoch 29/50\n",
      "29/29 [==============================] - 0s 1ms/step - loss: 23827342.0000\n",
      "Epoch 30/50\n",
      "29/29 [==============================] - 0s 1ms/step - loss: 23825724.0000\n",
      "Epoch 31/50\n",
      "29/29 [==============================] - 0s 3ms/step - loss: 23824106.0000\n",
      "Epoch 32/50\n",
      "29/29 [==============================] - 0s 2ms/step - loss: 23822500.0000\n",
      "Epoch 33/50\n",
      "29/29 [==============================] - 0s 2ms/step - loss: 23820902.0000\n",
      "Epoch 34/50\n",
      "29/29 [==============================] - 0s 1ms/step - loss: 23819294.0000\n",
      "Epoch 35/50\n",
      "29/29 [==============================] - 0s 2ms/step - loss: 23817688.0000\n",
      "Epoch 36/50\n",
      "29/29 [==============================] - 0s 1ms/step - loss: 23816096.0000\n",
      "Epoch 37/50\n",
      "29/29 [==============================] - 0s 1ms/step - loss: 23814494.0000\n",
      "Epoch 38/50\n",
      "29/29 [==============================] - 0s 2ms/step - loss: 23812904.0000\n",
      "Epoch 39/50\n",
      "29/29 [==============================] - 0s 3ms/step - loss: 23811308.0000\n",
      "Epoch 40/50\n",
      "29/29 [==============================] - 0s 1ms/step - loss: 23809720.0000\n",
      "Epoch 41/50\n",
      "29/29 [==============================] - 0s 1ms/step - loss: 23808128.0000\n",
      "Epoch 42/50\n",
      "29/29 [==============================] - 0s 1ms/step - loss: 23806538.0000\n",
      "Epoch 43/50\n",
      "29/29 [==============================] - 0s 3ms/step - loss: 23804954.0000\n",
      "Epoch 44/50\n",
      "29/29 [==============================] - 0s 5ms/step - loss: 23803368.0000\n",
      "Epoch 45/50\n",
      "29/29 [==============================] - 0s 2ms/step - loss: 23801792.0000\n",
      "Epoch 46/50\n",
      "29/29 [==============================] - 0s 2ms/step - loss: 23800204.0000\n",
      "Epoch 47/50\n",
      "29/29 [==============================] - 0s 2ms/step - loss: 23798620.0000\n",
      "Epoch 48/50\n",
      "29/29 [==============================] - 0s 1ms/step - loss: 23797048.0000\n",
      "Epoch 49/50\n",
      "29/29 [==============================] - 0s 3ms/step - loss: 23795466.0000\n",
      "Epoch 50/50\n",
      "29/29 [==============================] - 0s 2ms/step - loss: 23793886.0000\n"
     ]
    },
    {
     "data": {
      "text/plain": [
       "<keras.callbacks.History at 0x7f753c36fdc0>"
      ]
     },
     "execution_count": 36,
     "metadata": {},
     "output_type": "execute_result"
    }
   ],
   "source": [
    "model = Sequential()\n",
    "\n",
    "# Defining the input layer and first hidden layer\n",
    "model.add(Dense(units=5, input_dim=9, kernel_initializer='normal', activation='relu'))\n",
    "\n",
    "# Defining the second layer of the model\n",
    "model.add(Dense(units=5, kernel_initializer='normal', activation='tanh'))\n",
    "\n",
    "# The output neuron is a single fully connected node as only a single number is predicted\n",
    "model.add(Dense(1, kernel_initializer='normal'))\n",
    "\n",
    "# Compiling the model\n",
    "model.compile(loss='mean_squared_error', optimizer='adam')\n",
    "\n",
    "# Fitting the ANN to the training data\n",
    "model.fit(X_train_no[2:], y_train_no[2:], batch_size=20, epochs=50, verbose=1)"
   ]
  }
 ],
 "metadata": {
  "interpreter": {
   "hash": "916dbcbb3f70747c44a77c7bcd40155683ae19c65e1c03b4aa3499c5328201f1"
  },
  "kernelspec": {
   "display_name": "Python 3",
   "language": "python",
   "name": "python3"
  },
  "language_info": {
   "codemirror_mode": {
    "name": "ipython",
    "version": 3
   },
   "file_extension": ".py",
   "mimetype": "text/x-python",
   "name": "python",
   "nbconvert_exporter": "python",
   "pygments_lexer": "ipython3",
   "version": "3.8.8"
  }
 },
 "nbformat": 4,
 "nbformat_minor": 2
}
