{
 "cells": [
  {
   "cell_type": "markdown",
   "id": "29d0a64b",
   "metadata": {},
   "source": [
    "# 2.0 Data Modelling\n",
    "\n",
    "In this section, cleaned dataset will be undergoes data modelling and evaluated their results."
   ]
  },
  {
   "cell_type": "markdown",
   "id": "07f39922",
   "metadata": {},
   "source": [
    "## 2.1 Import libaries"
   ]
  },
  {
   "cell_type": "code",
   "execution_count": null,
   "id": "08faede8",
   "metadata": {},
   "outputs": [],
   "source": []
  },
  {
   "cell_type": "markdown",
   "id": "2e3ecb50",
   "metadata": {},
   "source": [
    "## 2.2 Data Modelling"
   ]
  },
  {
   "cell_type": "code",
   "execution_count": null,
   "id": "c3ee716d",
   "metadata": {},
   "outputs": [],
   "source": []
  },
  {
   "cell_type": "markdown",
   "id": "155f44f6",
   "metadata": {},
   "source": [
    "## 2.3 Evaluation"
   ]
  },
  {
   "cell_type": "code",
   "execution_count": null,
   "id": "5955f5a4",
   "metadata": {},
   "outputs": [],
   "source": []
  },
  {
   "cell_type": "markdown",
   "id": "12927d3a",
   "metadata": {},
   "source": [
    "## 2.4 Export Diagrams"
   ]
  },
  {
   "cell_type": "code",
   "execution_count": null,
   "id": "0366ce96",
   "metadata": {},
   "outputs": [],
   "source": []
  }
 ],
 "metadata": {
  "kernelspec": {
   "display_name": "Python 3",
   "language": "python",
   "name": "python3"
  },
  "language_info": {
   "codemirror_mode": {
    "name": "ipython",
    "version": 3
   },
   "file_extension": ".py",
   "mimetype": "text/x-python",
   "name": "python",
   "nbconvert_exporter": "python",
   "pygments_lexer": "ipython3",
   "version": "3.8.8"
  }
 },
 "nbformat": 4,
 "nbformat_minor": 5
}
