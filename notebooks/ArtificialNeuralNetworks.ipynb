{
 "cells": [
  {
   "cell_type": "markdown",
   "metadata": {},
   "source": [
    "# Artificial Neural Networks for Regression\n",
    "\n",
    "_By: Ling Li Ya, Liana_"
   ]
  },
  {
   "cell_type": "markdown",
   "metadata": {},
   "source": [
    "## Pre-training Preparation"
   ]
  },
  {
   "cell_type": "markdown",
   "metadata": {},
   "source": [
    "### Installing Dependencies"
   ]
  },
  {
   "cell_type": "code",
   "execution_count": 1,
   "metadata": {},
   "outputs": [
    {
     "name": "stdout",
     "output_type": "stream",
     "text": [
      "Requirement already satisfied: tensorflow in /home/liana/.local/lib/python3.8/site-packages (2.7.0)\n",
      "Requirement already satisfied: absl-py>=0.4.0 in /home/liana/.local/lib/python3.8/site-packages (from tensorflow) (1.0.0)\n",
      "Requirement already satisfied: gast<0.5.0,>=0.2.1 in /home/liana/.local/lib/python3.8/site-packages (from tensorflow) (0.4.0)\n",
      "Requirement already satisfied: h5py>=2.9.0 in /home/liana/.local/lib/python3.8/site-packages (from tensorflow) (3.6.0)\n",
      "Requirement already satisfied: tensorflow-io-gcs-filesystem>=0.21.0 in /home/liana/.local/lib/python3.8/site-packages (from tensorflow) (0.22.0)\n",
      "Requirement already satisfied: tensorflow-estimator<2.8,~=2.7.0rc0 in /home/liana/.local/lib/python3.8/site-packages (from tensorflow) (2.7.0)\n",
      "Requirement already satisfied: keras-preprocessing>=1.1.1 in /home/liana/.local/lib/python3.8/site-packages (from tensorflow) (1.1.2)\n",
      "Requirement already satisfied: libclang>=9.0.1 in /home/liana/.local/lib/python3.8/site-packages (from tensorflow) (12.0.0)\n",
      "Requirement already satisfied: protobuf>=3.9.2 in /home/liana/.local/lib/python3.8/site-packages (from tensorflow) (3.19.1)\n",
      "Requirement already satisfied: numpy>=1.14.5 in /home/liana/.local/lib/python3.8/site-packages (from tensorflow) (1.21.4)\n",
      "Requirement already satisfied: typing-extensions>=3.6.6 in /home/liana/.local/lib/python3.8/site-packages (from tensorflow) (4.0.0)\n",
      "Requirement already satisfied: google-pasta>=0.1.1 in /home/liana/.local/lib/python3.8/site-packages (from tensorflow) (0.2.0)\n",
      "Requirement already satisfied: astunparse>=1.6.0 in /home/liana/.local/lib/python3.8/site-packages (from tensorflow) (1.6.3)\n",
      "Requirement already satisfied: opt-einsum>=2.3.2 in /home/liana/.local/lib/python3.8/site-packages (from tensorflow) (3.3.0)\n",
      "Requirement already satisfied: wheel<1.0,>=0.32.0 in /usr/lib/python3/dist-packages (from tensorflow) (0.34.2)\n",
      "Requirement already satisfied: grpcio<2.0,>=1.24.3 in /home/liana/.local/lib/python3.8/site-packages (from tensorflow) (1.42.0)\n",
      "Requirement already satisfied: keras<2.8,>=2.7.0rc0 in /home/liana/.local/lib/python3.8/site-packages (from tensorflow) (2.7.0)\n",
      "Requirement already satisfied: flatbuffers<3.0,>=1.12 in /home/liana/.local/lib/python3.8/site-packages (from tensorflow) (2.0)\n",
      "Requirement already satisfied: wrapt>=1.11.0 in /home/liana/.local/lib/python3.8/site-packages (from tensorflow) (1.13.3)\n",
      "Requirement already satisfied: termcolor>=1.1.0 in /home/liana/.local/lib/python3.8/site-packages (from tensorflow) (1.1.0)\n",
      "Requirement already satisfied: tensorboard~=2.6 in /home/liana/.local/lib/python3.8/site-packages (from tensorflow) (2.7.0)\n",
      "Requirement already satisfied: six>=1.12.0 in /home/liana/.local/lib/python3.8/site-packages (from tensorflow) (1.16.0)\n",
      "Requirement already satisfied: markdown>=2.6.8 in /home/liana/.local/lib/python3.8/site-packages (from tensorboard~=2.6->tensorflow) (3.3.6)\n",
      "Requirement already satisfied: tensorboard-plugin-wit>=1.6.0 in /home/liana/.local/lib/python3.8/site-packages (from tensorboard~=2.6->tensorflow) (1.8.0)\n",
      "Requirement already satisfied: setuptools>=41.0.0 in /home/liana/.local/lib/python3.8/site-packages (from tensorboard~=2.6->tensorflow) (59.2.0)\n",
      "Requirement already satisfied: tensorboard-data-server<0.7.0,>=0.6.0 in /home/liana/.local/lib/python3.8/site-packages (from tensorboard~=2.6->tensorflow) (0.6.1)\n",
      "Requirement already satisfied: google-auth-oauthlib<0.5,>=0.4.1 in /home/liana/.local/lib/python3.8/site-packages (from tensorboard~=2.6->tensorflow) (0.4.6)\n",
      "Requirement already satisfied: werkzeug>=0.11.15 in /home/liana/.local/lib/python3.8/site-packages (from tensorboard~=2.6->tensorflow) (2.0.2)\n",
      "Requirement already satisfied: google-auth<3,>=1.6.3 in /home/liana/.local/lib/python3.8/site-packages (from tensorboard~=2.6->tensorflow) (2.3.3)\n",
      "Requirement already satisfied: requests<3,>=2.21.0 in /usr/lib/python3/dist-packages (from tensorboard~=2.6->tensorflow) (2.22.0)\n",
      "Requirement already satisfied: importlib-metadata>=4.4; python_version < \"3.10\" in /home/liana/.local/lib/python3.8/site-packages (from markdown>=2.6.8->tensorboard~=2.6->tensorflow) (4.8.2)\n",
      "Requirement already satisfied: requests-oauthlib>=0.7.0 in /home/liana/.local/lib/python3.8/site-packages (from google-auth-oauthlib<0.5,>=0.4.1->tensorboard~=2.6->tensorflow) (1.3.0)\n",
      "Requirement already satisfied: pyasn1-modules>=0.2.1 in /usr/lib/python3/dist-packages (from google-auth<3,>=1.6.3->tensorboard~=2.6->tensorflow) (0.2.1)\n",
      "Requirement already satisfied: rsa<5,>=3.1.4; python_version >= \"3.6\" in /home/liana/.local/lib/python3.8/site-packages (from google-auth<3,>=1.6.3->tensorboard~=2.6->tensorflow) (4.7.2)\n",
      "Requirement already satisfied: cachetools<5.0,>=2.0.0 in /home/liana/.local/lib/python3.8/site-packages (from google-auth<3,>=1.6.3->tensorboard~=2.6->tensorflow) (4.2.4)\n",
      "Requirement already satisfied: zipp>=0.5 in /usr/lib/python3/dist-packages (from importlib-metadata>=4.4; python_version < \"3.10\"->markdown>=2.6.8->tensorboard~=2.6->tensorflow) (1.0.0)\n",
      "Requirement already satisfied: oauthlib>=3.0.0 in /usr/lib/python3/dist-packages (from requests-oauthlib>=0.7.0->google-auth-oauthlib<0.5,>=0.4.1->tensorboard~=2.6->tensorflow) (3.1.0)\n",
      "Requirement already satisfied: pyasn1>=0.1.3 in /usr/lib/python3/dist-packages (from rsa<5,>=3.1.4; python_version >= \"3.6\"->google-auth<3,>=1.6.3->tensorboard~=2.6->tensorflow) (0.4.2)\n",
      "Requirement already satisfied: keras in /home/liana/.local/lib/python3.8/site-packages (2.7.0)\n"
     ]
    }
   ],
   "source": [
    "!pip install tensorflow\n",
    "!pip install keras"
   ]
  },
  {
   "cell_type": "markdown",
   "metadata": {},
   "source": [
    "### Import Libraries"
   ]
  },
  {
   "cell_type": "code",
   "execution_count": 2,
   "metadata": {},
   "outputs": [
    {
     "name": "stderr",
     "output_type": "stream",
     "text": [
      "2021-11-26 12:06:33.285102: W tensorflow/stream_executor/platform/default/dso_loader.cc:64] Could not load dynamic library 'libcudart.so.11.0'; dlerror: libcudart.so.11.0: cannot open shared object file: No such file or directory\n",
      "2021-11-26 12:06:33.285192: I tensorflow/stream_executor/cuda/cudart_stub.cc:29] Ignore above cudart dlerror if you do not have a GPU set up on your machine.\n"
     ]
    }
   ],
   "source": [
    "import pandas as pd\n",
    "import numpy as np\n",
    "from keras.models import Sequential\n",
    "import matplotlib.pyplot as plt\n",
    "from keras.layers import Dense\n",
    "from sklearn.model_selection import GridSearchCV\n",
    "from sklearn.metrics import make_scorer\n",
    "from sklearn.preprocessing import MinMaxScaler\n",
    "from sklearn.preprocessing import StandardScaler"
   ]
  },
  {
   "cell_type": "markdown",
   "metadata": {},
   "source": [
    "### Loading Data"
   ]
  },
  {
   "cell_type": "code",
   "execution_count": 3,
   "metadata": {},
   "outputs": [],
   "source": [
    "# Cleaned dataset with no outliers\n",
    "X_train_no = pd.read_csv('../dataset/no_outliers/X_train.csv')\n",
    "X_test_no = pd.read_csv('../dataset/no_outliers/X_test.csv')\n",
    "y_train_no = pd.read_csv('../dataset/no_outliers/y_train.csv')\n",
    "y_test_no = pd.read_csv('../dataset/no_outliers/y_test.csv')\n",
    "\n",
    "# Uncleaned original data\n",
    "X_train_with = pd.read_csv('../dataset/with_outliers/X_train.csv')\n",
    "X_test_with = pd.read_csv('../dataset/with_outliers/X_test.csv')\n",
    "y_train_with = pd.read_csv('../dataset/with_outliers/y_train.csv')\n",
    "y_test_with = pd.read_csv('../dataset/with_outliers/y_test.csv')"
   ]
  },
  {
   "cell_type": "code",
   "execution_count": 4,
   "metadata": {},
   "outputs": [
    {
     "name": "stdout",
     "output_type": "stream",
     "text": [
      "(578, 9) (578, 1) (145, 9) (145, 1)\n"
     ]
    }
   ],
   "source": [
    "def standardise_data(X_train, y_train, X_test, y_test):\n",
    "    X_scaler = StandardScaler()\n",
    "    y_scaler = StandardScaler()\n",
    "\n",
    "    # Scale data to standardise data values\n",
    "    X_train_trans = X_scaler.fit_transform(X_train)\n",
    "    y_train_trans = y_scaler.fit_transform(y_train)\n",
    "    X_test_trans = X_scaler.transform(X_test)\n",
    "    y_test_trans = y_scaler.transform(y_test)\n",
    "    \n",
    "    print(X_train_trans.shape, y_train_trans.shape, X_test_trans.shape, y_test_trans.shape)\n",
    "\n",
    "    return X_scaler, y_scaler, X_train_trans, y_train_trans, X_test_trans, y_test_trans\n",
    "\n",
    "X_scaler_no, y_scaler_no, X_train_no_trans, y_train_no_trans, X_test_no_trans, y_test_no_trans = standardise_data(X_train_no, y_train_no, X_test_no, y_test_no)"
   ]
  },
  {
   "cell_type": "markdown",
   "metadata": {},
   "source": [
    "## Training\n",
    "\n",
    "Using a layer with 5 neurons, with 9 input dimensions of normal weight, using relu activation function. Batch size is 20 and training epochs are 50."
   ]
  },
  {
   "cell_type": "code",
   "execution_count": 5,
   "metadata": {},
   "outputs": [
    {
     "name": "stderr",
     "output_type": "stream",
     "text": [
      "2021-11-26 12:06:38.235637: W tensorflow/stream_executor/platform/default/dso_loader.cc:64] Could not load dynamic library 'libcuda.so.1'; dlerror: libcuda.so.1: cannot open shared object file: No such file or directory\n",
      "2021-11-26 12:06:38.235726: W tensorflow/stream_executor/cuda/cuda_driver.cc:269] failed call to cuInit: UNKNOWN ERROR (303)\n",
      "2021-11-26 12:06:38.235757: I tensorflow/stream_executor/cuda/cuda_diagnostics.cc:156] kernel driver does not appear to be running on this host (Liana-ASUS): /proc/driver/nvidia/version does not exist\n",
      "2021-11-26 12:06:38.236244: I tensorflow/core/platform/cpu_feature_guard.cc:151] This TensorFlow binary is optimized with oneAPI Deep Neural Network Library (oneDNN) to use the following CPU instructions in performance-critical operations:  AVX2 AVX512F FMA\n",
      "To enable them in other operations, rebuild TensorFlow with the appropriate compiler flags.\n"
     ]
    },
    {
     "name": "stdout",
     "output_type": "stream",
     "text": [
      "Epoch 1/50\n",
      "29/29 [==============================] - 1s 2ms/step - loss: 0.9988\n",
      "Epoch 2/50\n",
      "29/29 [==============================] - 0s 4ms/step - loss: 0.9886\n",
      "Epoch 3/50\n",
      "29/29 [==============================] - 0s 5ms/step - loss: 0.9395\n",
      "Epoch 4/50\n",
      "29/29 [==============================] - 0s 4ms/step - loss: 0.8180\n",
      "Epoch 5/50\n",
      "29/29 [==============================] - 0s 5ms/step - loss: 0.6274\n",
      "Epoch 6/50\n",
      "29/29 [==============================] - 0s 2ms/step - loss: 0.4467\n",
      "Epoch 7/50\n",
      "29/29 [==============================] - 0s 2ms/step - loss: 0.3241\n",
      "Epoch 8/50\n",
      "29/29 [==============================] - 0s 2ms/step - loss: 0.2573\n",
      "Epoch 9/50\n",
      "29/29 [==============================] - 0s 3ms/step - loss: 0.2267\n",
      "Epoch 10/50\n",
      "29/29 [==============================] - 0s 2ms/step - loss: 0.2098\n",
      "Epoch 11/50\n",
      "29/29 [==============================] - 0s 3ms/step - loss: 0.1996\n",
      "Epoch 12/50\n",
      "29/29 [==============================] - 0s 3ms/step - loss: 0.1936\n",
      "Epoch 13/50\n",
      "29/29 [==============================] - 0s 3ms/step - loss: 0.1870\n",
      "Epoch 14/50\n",
      "29/29 [==============================] - 0s 5ms/step - loss: 0.1822\n",
      "Epoch 15/50\n",
      "29/29 [==============================] - 0s 3ms/step - loss: 0.1773\n",
      "Epoch 16/50\n",
      "29/29 [==============================] - 0s 2ms/step - loss: 0.1740\n",
      "Epoch 17/50\n",
      "29/29 [==============================] - 0s 3ms/step - loss: 0.1706\n",
      "Epoch 18/50\n",
      "29/29 [==============================] - 0s 3ms/step - loss: 0.1667\n",
      "Epoch 19/50\n",
      "29/29 [==============================] - 0s 3ms/step - loss: 0.1641\n",
      "Epoch 20/50\n",
      "29/29 [==============================] - 0s 4ms/step - loss: 0.1613\n",
      "Epoch 21/50\n",
      "29/29 [==============================] - 0s 4ms/step - loss: 0.1595\n",
      "Epoch 22/50\n",
      "29/29 [==============================] - 0s 4ms/step - loss: 0.1570\n",
      "Epoch 23/50\n",
      "29/29 [==============================] - 0s 2ms/step - loss: 0.1550\n",
      "Epoch 24/50\n",
      "29/29 [==============================] - 0s 2ms/step - loss: 0.1535\n",
      "Epoch 25/50\n",
      "29/29 [==============================] - 0s 3ms/step - loss: 0.1521\n",
      "Epoch 26/50\n",
      "29/29 [==============================] - 0s 2ms/step - loss: 0.1512\n",
      "Epoch 27/50\n",
      "29/29 [==============================] - 0s 2ms/step - loss: 0.1499\n",
      "Epoch 28/50\n",
      "29/29 [==============================] - 0s 2ms/step - loss: 0.1494\n",
      "Epoch 29/50\n",
      "29/29 [==============================] - 0s 3ms/step - loss: 0.1480\n",
      "Epoch 30/50\n",
      "29/29 [==============================] - 0s 3ms/step - loss: 0.1484\n",
      "Epoch 31/50\n",
      "29/29 [==============================] - 0s 3ms/step - loss: 0.1473\n",
      "Epoch 32/50\n",
      "29/29 [==============================] - 0s 3ms/step - loss: 0.1481\n",
      "Epoch 33/50\n",
      "29/29 [==============================] - 0s 3ms/step - loss: 0.1460\n",
      "Epoch 34/50\n",
      "29/29 [==============================] - 0s 2ms/step - loss: 0.1454\n",
      "Epoch 35/50\n",
      "29/29 [==============================] - 0s 4ms/step - loss: 0.1444\n",
      "Epoch 36/50\n",
      "29/29 [==============================] - 0s 5ms/step - loss: 0.1438\n",
      "Epoch 37/50\n",
      "29/29 [==============================] - 0s 2ms/step - loss: 0.1430\n",
      "Epoch 38/50\n",
      "29/29 [==============================] - 0s 3ms/step - loss: 0.1429\n",
      "Epoch 39/50\n",
      "29/29 [==============================] - 0s 3ms/step - loss: 0.1419\n",
      "Epoch 40/50\n",
      "29/29 [==============================] - 0s 2ms/step - loss: 0.1417\n",
      "Epoch 41/50\n",
      "29/29 [==============================] - 0s 2ms/step - loss: 0.1409\n",
      "Epoch 42/50\n",
      "29/29 [==============================] - 0s 3ms/step - loss: 0.1398\n",
      "Epoch 43/50\n",
      "29/29 [==============================] - 0s 3ms/step - loss: 0.1393\n",
      "Epoch 44/50\n",
      "29/29 [==============================] - 0s 3ms/step - loss: 0.1391\n",
      "Epoch 45/50\n",
      "29/29 [==============================] - 0s 3ms/step - loss: 0.1385\n",
      "Epoch 46/50\n",
      "29/29 [==============================] - 0s 2ms/step - loss: 0.1380\n",
      "Epoch 47/50\n",
      "29/29 [==============================] - 0s 2ms/step - loss: 0.1375\n",
      "Epoch 48/50\n",
      "29/29 [==============================] - 0s 2ms/step - loss: 0.1362\n",
      "Epoch 49/50\n",
      "29/29 [==============================] - 0s 3ms/step - loss: 0.1362\n",
      "Epoch 50/50\n",
      "29/29 [==============================] - 0s 2ms/step - loss: 0.1348\n"
     ]
    }
   ],
   "source": [
    "def create_seq_model():\n",
    "    model = Sequential()\n",
    "\n",
    "    # Defining the input layer and first hidden layer\n",
    "    model.add(Dense(units=5, input_dim=9, kernel_initializer='normal', activation='relu'))\n",
    "\n",
    "    # Defining the second layer of the model\n",
    "    model.add(Dense(units=5, kernel_initializer='normal', activation='tanh'))\n",
    "\n",
    "    # The output neuron is a single fully connected node as only a single number is predicted\n",
    "    model.add(Dense(1, kernel_initializer='normal'))\n",
    "\n",
    "    # Compiling the model\n",
    "    model.compile(loss='mean_squared_error', optimizer='adam')\n",
    "\n",
    "    return model\n",
    "\n",
    "def train_model(model, X_train, y_train):\n",
    "    # Fitting the ANN to the training data\n",
    "    model.fit(X_train, y_train, batch_size=20, epochs=50, verbose=1)\n",
    "\n",
    "    return model\n",
    "\n",
    "model_no = create_seq_model()\n",
    "model_no = train_model(model_no, X_train_no_trans, y_train_no_trans)"
   ]
  },
  {
   "cell_type": "markdown",
   "metadata": {},
   "source": [
    "## Hyperparameter Tuning\n",
    "\n",
    "To find the best accuracy with the minimum number of layers/neurons."
   ]
  },
  {
   "cell_type": "markdown",
   "metadata": {},
   "source": [
    "### Grid Search\n",
    "\n",
    "MAPE is used. MAPE is Mean Absolute Percent Error. This is defined as the Average Absolute Error divided by the Average of the Actual Quantity. A more elegant way to compute this would be to divide the Sum of the Absolute Error by the Sum of the Actual Quantity.\n",
    "\n",
    "MAPE = (Sum of Abs. Error) / (Sum of Actuals)"
   ]
  },
  {
   "cell_type": "code",
   "execution_count": 6,
   "metadata": {},
   "outputs": [
    {
     "name": "stdout",
     "output_type": "stream",
     "text": [
      "1 Parameters: batch_size: 5 - Epochs: 5 Accuracy: 78.75279204672135\n",
      "2 Parameters: batch_size: 5 - Epochs: 10 Accuracy: 102.5975166805799\n",
      "3 Parameters: batch_size: 5 - Epochs: 50 Accuracy: 88.87305648826376\n",
      "4 Parameters: batch_size: 5 - Epochs: 100 Accuracy: 77.43303113520837\n",
      "5 Parameters: batch_size: 10 - Epochs: 5 Accuracy: 145.13959171680335\n",
      "6 Parameters: batch_size: 10 - Epochs: 10 Accuracy: 139.36259777098945\n",
      "7 Parameters: batch_size: 10 - Epochs: 50 Accuracy: 81.49941744583646\n",
      "8 Parameters: batch_size: 10 - Epochs: 100 Accuracy: 87.33536491038927\n",
      "9 Parameters: batch_size: 15 - Epochs: 5 Accuracy: 127.55265445721002\n",
      "10 Parameters: batch_size: 15 - Epochs: 10 Accuracy: 117.2652658123902\n",
      "11 Parameters: batch_size: 15 - Epochs: 50 Accuracy: 60.66067935312461\n",
      "12 Parameters: batch_size: 15 - Epochs: 100 Accuracy: 25.738124683843665\n",
      "13 Parameters: batch_size: 20 - Epochs: 5 Accuracy: 97.37661524229348\n",
      "14 Parameters: batch_size: 20 - Epochs: 10 Accuracy: 148.48608045964536\n",
      "15 Parameters: batch_size: 20 - Epochs: 50 Accuracy: 103.22336410877152\n",
      "16 Parameters: batch_size: 20 - Epochs: 100 Accuracy: 111.27402512565331\n"
     ]
    }
   ],
   "source": [
    "# Find the best parameters for ANN\n",
    "def find_best_params(X_train, y_train, X_test, y_test):\n",
    "    \n",
    "    # Defining the list of hyper parameters to try\n",
    "    batch_size_list = [5, 10, 15, 20]\n",
    "    epoch_list = [5, 10, 50, 100]\n",
    "\n",
    "    results = pd.DataFrame(columns=['trial_num', 'param', 'accuracy'])\n",
    "    \n",
    "    # Initialising the trials\n",
    "    trial_number = 0\n",
    "    for batch_size_trial in batch_size_list:\n",
    "        for epochs_trial in epoch_list:\n",
    "            trial_number += 1\n",
    "            # Create ANN model\n",
    "            model = Sequential()\n",
    "\n",
    "            # Defining the first layer of the model\n",
    "            model.add(Dense(units=5, input_dim=X_train.shape[1], kernel_initializer='normal', activation='relu'))\n",
    "\n",
    "            # Defining the second layer of the model\n",
    "            model.add(Dense(units=5, kernel_initializer='normal', activation='relu'))\n",
    "\n",
    "            # Output neuron\n",
    "            model.add(Dense(1, kernel_initializer='normal'))\n",
    "\n",
    "            # Compiling the model\n",
    "            model.compile(loss='mean_squared_error', optimizer='adam')\n",
    "\n",
    "            # Fitting the ANN to the Training set\n",
    "            model.fit(X_train, y_train ,batch_size = batch_size_trial, epochs = epochs_trial, verbose=0)\n",
    "\n",
    "            MAPE = np.mean(100 * (np.abs(y_test-model.predict(X_test))/y_test))\n",
    "            \n",
    "            # Printing the results of the current iteration\n",
    "            print(trial_number, 'Parameters:','batch_size:', batch_size_trial,'-', 'Epochs:',epochs_trial, 'Accuracy:', 100 - MAPE)\n",
    "            \n",
    "            results = results.append(pd.DataFrame(data=[[trial_number, str(batch_size_trial)+'-'+str(epochs_trial), 100-MAPE]], columns=['trial_num', 'param', 'accuracy'] ))\n",
    "\n",
    "    return(results)\n",
    "\n",
    "results_no = find_best_params(X_train_no_trans, y_train_no_trans, X_test_no_trans, y_test_no_trans)"
   ]
  },
  {
   "cell_type": "markdown",
   "metadata": {},
   "source": [
    "### Plotting Results"
   ]
  },
  {
   "cell_type": "code",
   "execution_count": 7,
   "metadata": {},
   "outputs": [
    {
     "data": {
      "image/png": "[encoded data removed]",
      "text/plain": [
       "<Figure size 1008x432 with 1 Axes>"
      ]
     },
     "metadata": {
      "needs_background": "light"
     },
     "output_type": "display_data"
    }
   ],
   "source": [
    "def plot_bar_chart(results):\n",
    "    plt.figure(figsize=(14,6))\n",
    "    plt.bar(results['param'], height=results['accuracy'], color='pink')\n",
    "    plt.axhline(y=100, color='purple', linestyle='-')\n",
    "    for a, b in zip([x for x in range(len(results['accuracy']))], round(results['accuracy'], 2)):\n",
    "        plt.text(a, b, str(b), color='black')\n",
    "    plt.show()\n",
    "\n",
    "plot_bar_chart(results_no)"
   ]
  },
  {
   "cell_type": "markdown",
   "metadata": {},
   "source": [
    "From the graph above, it can be known that the best hyperparameters are `batch_size` = 20 and `epochs` = 10."
   ]
  },
  {
   "cell_type": "code",
   "execution_count": 8,
   "metadata": {},
   "outputs": [
    {
     "name": "stdout",
     "output_type": "stream",
     "text": [
      "   season  year  month  holiday  weekday  weather  temperature  humidity  \\\n",
      "0     3.0   1.0    7.0      0.0      0.0      1.0     0.721667  0.623750   \n",
      "1     2.0   1.0    5.0      0.0      4.0      1.0     0.593333  0.520000   \n",
      "2     3.0   1.0    8.0      0.0      5.0      2.0     0.765833  0.642500   \n",
      "3     2.0   1.0    4.0      0.0      5.0      1.0     0.403333  0.377083   \n",
      "4     4.0   1.0   11.0      0.0      1.0      1.0     0.319167  0.494167   \n",
      "\n",
      "   windspeed   count   pred_count  \n",
      "0   0.170396  6597.0  6846.541016  \n",
      "1   0.229475  7384.0  6958.393066  \n",
      "2   0.215792  7175.0  6984.139648  \n",
      "3   0.300388  6460.0  5668.041016  \n",
      "4   0.236325  5259.0  5018.238281  \n"
     ]
    }
   ],
   "source": [
    "# Fine-tune hyperparameters\n",
    "def fine_tune_model(model, batch_size, epochs, X_scaler, y_scaler, X_train_trans, y_train_trans, X_test_trans, y_test_trans, columns):\n",
    "    model.fit(X_train_trans, y_train_trans, batch_size=batch_size, epochs=epochs, verbose=0)\n",
    "\n",
    "    pred = model.predict(X_test_trans)\n",
    "\n",
    "    # Scale predictions\n",
    "    pred = y_scaler.inverse_transform(pred)\n",
    "\n",
    "    # Scale back to original\n",
    "    y_test = y_scaler.inverse_transform(y_test_trans)\n",
    "    X_test = X_scaler.inverse_transform(X_test_trans)\n",
    "\n",
    "    test_data = pd.DataFrame(data=X_test, columns=columns)\n",
    "    test_data['count'] = y_test\n",
    "    test_data['pred_count'] = pred\n",
    "    print(test_data.head())\n",
    "\n",
    "    return test_data\n",
    "\n",
    "test_data_no = fine_tune_model(\n",
    "        model=model_no,\n",
    "        batch_size=20,\n",
    "        epochs=10,\n",
    "        X_scaler=X_scaler_no,\n",
    "        y_scaler=y_scaler_no,\n",
    "        X_train_trans=X_train_no_trans,\n",
    "        y_train_trans=y_train_no_trans,\n",
    "        X_test_trans=X_test_no_trans,\n",
    "        y_test_trans=y_test_no_trans,\n",
    "        columns=X_test_no.columns\n",
    "    )"
   ]
  },
  {
   "cell_type": "code",
   "execution_count": 9,
   "metadata": {},
   "outputs": [
    {
     "name": "stdout",
     "output_type": "stream",
     "text": [
      "Accuracy:  82.92475018593518\n",
      "   season  year  month  holiday  weekday  weather  temperature  humidity  \\\n",
      "0     3.0   1.0    7.0      0.0      0.0      1.0     0.721667  0.623750   \n",
      "1     2.0   1.0    5.0      0.0      4.0      1.0     0.593333  0.520000   \n",
      "2     3.0   1.0    8.0      0.0      5.0      2.0     0.765833  0.642500   \n",
      "3     2.0   1.0    4.0      0.0      5.0      1.0     0.403333  0.377083   \n",
      "4     4.0   1.0   11.0      0.0      1.0      1.0     0.319167  0.494167   \n",
      "\n",
      "   windspeed   count   pred_count        APE  \n",
      "0   0.170396  6597.0  6846.541016   3.782644  \n",
      "1   0.229475  7384.0  6958.393066   5.763908  \n",
      "2   0.215792  7175.0  6984.139648   2.660075  \n",
      "3   0.300388  6460.0  5668.041016  12.259427  \n",
      "4   0.236325  5259.0  5018.238281   4.578089  \n"
     ]
    }
   ],
   "source": [
    "def evaluate_model(test_data):\n",
    "# Mean Absolute Percentage Error\n",
    "    APE = 100 * (abs(test_data['count'] - test_data['pred_count']) / test_data['count'])\n",
    "    test_data['APE'] = APE\n",
    "\n",
    "    print(\"Accuracy: \", 100 - np.mean(APE))\n",
    "    print(test_data.head())\n",
    "\n",
    "evaluate_model(test_data_no)"
   ]
  },
  {
   "cell_type": "code",
   "execution_count": 10,
   "metadata": {},
   "outputs": [
    {
     "name": "stdout",
     "output_type": "stream",
     "text": [
      "Model: \"sequential\"\n",
      "_________________________________________________________________\n",
      " Layer (type)                Output Shape              Param #   \n",
      "=================================================================\n",
      " dense (Dense)               (None, 5)                 50        \n",
      "                                                                 \n",
      " dense_1 (Dense)             (None, 5)                 30        \n",
      "                                                                 \n",
      " dense_2 (Dense)             (None, 1)                 6         \n",
      "                                                                 \n",
      "=================================================================\n",
      "Total params: 86\n",
      "Trainable params: 86\n",
      "Non-trainable params: 0\n",
      "_________________________________________________________________\n"
     ]
    }
   ],
   "source": [
    "model_no.summary()"
   ]
  },
  {
   "cell_type": "markdown",
   "metadata": {},
   "source": [
    "## Using Data With Outliers"
   ]
  },
  {
   "cell_type": "code",
   "execution_count": 11,
   "metadata": {},
   "outputs": [
    {
     "name": "stdout",
     "output_type": "stream",
     "text": [
      "(584, 9) (584, 1) (147, 9) (147, 1)\n"
     ]
    }
   ],
   "source": [
    "X_scaler_with, y_scaler_with, X_train_with_trans, y_train_with_trans, X_test_with_trans, y_test_with_trans = standardise_data(X_train_with, y_train_with, X_test_with, y_test_with)"
   ]
  },
  {
   "cell_type": "code",
   "execution_count": 12,
   "metadata": {},
   "outputs": [
    {
     "name": "stdout",
     "output_type": "stream",
     "text": [
      "Epoch 1/50\n",
      "30/30 [==============================] - 1s 3ms/step - loss: 0.9992\n",
      "Epoch 2/50\n",
      "30/30 [==============================] - 0s 2ms/step - loss: 0.9909\n",
      "Epoch 3/50\n",
      "30/30 [==============================] - 0s 5ms/step - loss: 0.9547\n",
      "Epoch 4/50\n",
      "30/30 [==============================] - 0s 4ms/step - loss: 0.8443\n",
      "Epoch 5/50\n",
      "30/30 [==============================] - 0s 3ms/step - loss: 0.6600\n",
      "Epoch 6/50\n",
      "30/30 [==============================] - 0s 3ms/step - loss: 0.4754\n",
      "Epoch 7/50\n",
      "30/30 [==============================] - 0s 2ms/step - loss: 0.3426\n",
      "Epoch 8/50\n",
      "30/30 [==============================] - 0s 2ms/step - loss: 0.2643\n",
      "Epoch 9/50\n",
      "30/30 [==============================] - 0s 2ms/step - loss: 0.2262\n",
      "Epoch 10/50\n",
      "30/30 [==============================] - 0s 2ms/step - loss: 0.2081\n",
      "Epoch 11/50\n",
      "30/30 [==============================] - 0s 2ms/step - loss: 0.1958\n",
      "Epoch 12/50\n",
      "30/30 [==============================] - 0s 2ms/step - loss: 0.1873\n",
      "Epoch 13/50\n",
      "30/30 [==============================] - 0s 4ms/step - loss: 0.1791\n",
      "Epoch 14/50\n",
      "30/30 [==============================] - 0s 5ms/step - loss: 0.1731\n",
      "Epoch 15/50\n",
      "30/30 [==============================] - 0s 4ms/step - loss: 0.1674\n",
      "Epoch 16/50\n",
      "30/30 [==============================] - 0s 3ms/step - loss: 0.1625\n",
      "Epoch 17/50\n",
      "30/30 [==============================] - 0s 2ms/step - loss: 0.1586\n",
      "Epoch 18/50\n",
      "30/30 [==============================] - 0s 2ms/step - loss: 0.1549\n",
      "Epoch 19/50\n",
      "30/30 [==============================] - 0s 2ms/step - loss: 0.1501\n",
      "Epoch 20/50\n",
      "30/30 [==============================] - 0s 2ms/step - loss: 0.1463\n",
      "Epoch 21/50\n",
      "30/30 [==============================] - 0s 2ms/step - loss: 0.1436\n",
      "Epoch 22/50\n",
      "30/30 [==============================] - 0s 2ms/step - loss: 0.1409\n",
      "Epoch 23/50\n",
      "30/30 [==============================] - 0s 3ms/step - loss: 0.1387\n",
      "Epoch 24/50\n",
      "30/30 [==============================] - 0s 3ms/step - loss: 0.1369\n",
      "Epoch 25/50\n",
      "30/30 [==============================] - 0s 2ms/step - loss: 0.1348\n",
      "Epoch 26/50\n",
      "30/30 [==============================] - 0s 2ms/step - loss: 0.1337\n",
      "Epoch 27/50\n",
      "30/30 [==============================] - 0s 2ms/step - loss: 0.1324\n",
      "Epoch 28/50\n",
      "30/30 [==============================] - 0s 2ms/step - loss: 0.1309\n",
      "Epoch 29/50\n",
      "30/30 [==============================] - 0s 3ms/step - loss: 0.1292\n",
      "Epoch 30/50\n",
      "30/30 [==============================] - 0s 4ms/step - loss: 0.1276\n",
      "Epoch 31/50\n",
      "30/30 [==============================] - 0s 3ms/step - loss: 0.1267\n",
      "Epoch 32/50\n",
      "30/30 [==============================] - 0s 3ms/step - loss: 0.1259\n",
      "Epoch 33/50\n",
      "30/30 [==============================] - 0s 4ms/step - loss: 0.1244\n",
      "Epoch 34/50\n",
      "30/30 [==============================] - 0s 2ms/step - loss: 0.1239\n",
      "Epoch 35/50\n",
      "30/30 [==============================] - 0s 2ms/step - loss: 0.1235\n",
      "Epoch 36/50\n",
      "30/30 [==============================] - 0s 3ms/step - loss: 0.1226\n",
      "Epoch 37/50\n",
      "30/30 [==============================] - 0s 3ms/step - loss: 0.1214\n",
      "Epoch 38/50\n",
      "30/30 [==============================] - 0s 2ms/step - loss: 0.1207\n",
      "Epoch 39/50\n",
      "30/30 [==============================] - 0s 1ms/step - loss: 0.1200\n",
      "Epoch 40/50\n",
      "30/30 [==============================] - 0s 2ms/step - loss: 0.1199\n",
      "Epoch 41/50\n",
      "30/30 [==============================] - 0s 1ms/step - loss: 0.1189\n",
      "Epoch 42/50\n",
      "30/30 [==============================] - 0s 1ms/step - loss: 0.1187\n",
      "Epoch 43/50\n",
      "30/30 [==============================] - 0s 1ms/step - loss: 0.1189\n",
      "Epoch 44/50\n",
      "30/30 [==============================] - 0s 2ms/step - loss: 0.1181\n",
      "Epoch 45/50\n",
      "30/30 [==============================] - 0s 2ms/step - loss: 0.1167\n",
      "Epoch 46/50\n",
      "30/30 [==============================] - 0s 3ms/step - loss: 0.1163\n",
      "Epoch 47/50\n",
      "30/30 [==============================] - 0s 3ms/step - loss: 0.1153\n",
      "Epoch 48/50\n",
      "30/30 [==============================] - 0s 2ms/step - loss: 0.1156\n",
      "Epoch 49/50\n",
      "30/30 [==============================] - 0s 4ms/step - loss: 0.1148\n",
      "Epoch 50/50\n",
      "30/30 [==============================] - 0s 4ms/step - loss: 0.1144\n"
     ]
    }
   ],
   "source": [
    "model_with = create_seq_model()\n",
    "model_with = train_model(model_with, X_train_with_trans, y_train_with_trans)"
   ]
  },
  {
   "cell_type": "markdown",
   "metadata": {},
   "source": [
    "The same `batch_size` and `epochs` are used for accuracy comparison."
   ]
  },
  {
   "cell_type": "code",
   "execution_count": 13,
   "metadata": {},
   "outputs": [
    {
     "name": "stdout",
     "output_type": "stream",
     "text": [
      "   season  year  month       holiday  weekday  weather  temperature  humidity  \\\n",
      "0     3.0   0.0    7.0 -3.469447e-18      6.0      1.0     0.686667  0.585000   \n",
      "1     3.0   0.0    7.0 -3.469447e-18      4.0      1.0     0.750000  0.651250   \n",
      "2     1.0   0.0    1.0 -3.469447e-18      6.0      2.0     0.233333  0.498750   \n",
      "3     1.0   0.0    2.0 -3.469447e-18      2.0      2.0     0.192174  0.829565   \n",
      "4     1.0   1.0    1.0 -3.469447e-18      4.0      2.0     0.341667  0.769583   \n",
      "\n",
      "   windspeed   count   pred_count  \n",
      "0   0.208342  5923.0  4890.563477  \n",
      "1   0.159200  4592.0  4753.515137  \n",
      "2   0.157963  1248.0  1691.410767  \n",
      "3   0.053213  1360.0  1217.915894  \n",
      "4   0.073396  4075.0  3919.364258  \n"
     ]
    }
   ],
   "source": [
    "test_data_with = fine_tune_model(\n",
    "    model=model_with,\n",
    "    batch_size=20,\n",
    "    epochs=10,\n",
    "    X_scaler=X_scaler_with,\n",
    "    y_scaler=y_scaler_with,\n",
    "    X_train_trans=X_train_with_trans,\n",
    "    y_train_trans=y_train_with_trans,\n",
    "    X_test_trans=X_test_with_trans,\n",
    "    y_test_trans=y_test_with_trans,\n",
    "    columns=X_test_with.columns,\n",
    ")"
   ]
  },
  {
   "cell_type": "code",
   "execution_count": 14,
   "metadata": {},
   "outputs": [
    {
     "name": "stdout",
     "output_type": "stream",
     "text": [
      "Accuracy:  79.89955950538436\n",
      "   season  year  month       holiday  weekday  weather  temperature  humidity  \\\n",
      "0     3.0   0.0    7.0 -3.469447e-18      6.0      1.0     0.686667  0.585000   \n",
      "1     3.0   0.0    7.0 -3.469447e-18      4.0      1.0     0.750000  0.651250   \n",
      "2     1.0   0.0    1.0 -3.469447e-18      6.0      2.0     0.233333  0.498750   \n",
      "3     1.0   0.0    2.0 -3.469447e-18      2.0      2.0     0.192174  0.829565   \n",
      "4     1.0   1.0    1.0 -3.469447e-18      4.0      2.0     0.341667  0.769583   \n",
      "\n",
      "   windspeed   count   pred_count        APE  \n",
      "0   0.208342  5923.0  4890.563477  17.430973  \n",
      "1   0.159200  4592.0  4753.515137   3.517316  \n",
      "2   0.157963  1248.0  1691.410767  35.529709  \n",
      "3   0.053213  1360.0  1217.915894  10.447361  \n",
      "4   0.073396  4075.0  3919.364258   3.819282  \n"
     ]
    }
   ],
   "source": [
    "evaluate_model(test_data=test_data_with)"
   ]
  },
  {
   "cell_type": "code",
   "execution_count": 15,
   "metadata": {},
   "outputs": [
    {
     "name": "stdout",
     "output_type": "stream",
     "text": [
      "Model: \"sequential_17\"\n",
      "_________________________________________________________________\n",
      " Layer (type)                Output Shape              Param #   \n",
      "=================================================================\n",
      " dense_51 (Dense)            (None, 5)                 50        \n",
      "                                                                 \n",
      " dense_52 (Dense)            (None, 5)                 30        \n",
      "                                                                 \n",
      " dense_53 (Dense)            (None, 1)                 6         \n",
      "                                                                 \n",
      "=================================================================\n",
      "Total params: 86\n",
      "Trainable params: 86\n",
      "Non-trainable params: 0\n",
      "_________________________________________________________________\n"
     ]
    }
   ],
   "source": [
    "model_with.summary()"
   ]
  },
  {
   "cell_type": "markdown",
   "metadata": {},
   "source": [
    "In conclusion, using cleaned data without outliers would give a higher accuracy than using data with outliers."
   ]
  }
 ],
 "metadata": {
  "interpreter": {
   "hash": "916dbcbb3f70747c44a77c7bcd40155683ae19c65e1c03b4aa3499c5328201f1"
  },
  "kernelspec": {
   "display_name": "Python 3.8.10 64-bit",
   "language": "python",
   "name": "python3"
  },
  "language_info": {
   "codemirror_mode": {
    "name": "ipython",
    "version": 3
   },
   "file_extension": ".py",
   "mimetype": "text/x-python",
   "name": "python",
   "nbconvert_exporter": "python",
   "pygments_lexer": "ipython3",
   "version": "3.8.10"
  },
  "orig_nbformat": 4
 },
 "nbformat": 4,
 "nbformat_minor": 2
}
