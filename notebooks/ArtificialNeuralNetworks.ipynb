{
 "cells": [
  {
   "cell_type": "markdown",
   "metadata": {},
   "source": [
    "# Artificial Neural Networks for Regression\n",
    "\n",
    "_By: Ling Li Ya, Liana_"
   ]
  },
  {
   "cell_type": "markdown",
   "metadata": {},
   "source": [
    "## Pre-training Preparation"
   ]
  },
  {
   "cell_type": "markdown",
   "metadata": {},
   "source": [
    "### Installing Dependencies"
   ]
  },
  {
   "cell_type": "code",
   "execution_count": 1,
   "metadata": {},
   "outputs": [
    {
     "name": "stdout",
     "output_type": "stream",
     "text": [
      "Requirement already satisfied: tensorflow in /home/liana/projects/fyp/venv/lib/python3.8/site-packages (2.7.0)\n",
      "Requirement already satisfied: keras-preprocessing>=1.1.1 in /home/liana/projects/fyp/venv/lib/python3.8/site-packages (from tensorflow) (1.1.2)\n",
      "Requirement already satisfied: astunparse>=1.6.0 in /home/liana/projects/fyp/venv/lib/python3.8/site-packages (from tensorflow) (1.6.3)\n",
      "Requirement already satisfied: keras<2.8,>=2.7.0rc0 in /home/liana/projects/fyp/venv/lib/python3.8/site-packages (from tensorflow) (2.7.0)\n",
      "Requirement already satisfied: h5py>=2.9.0 in /home/liana/projects/fyp/venv/lib/python3.8/site-packages (from tensorflow) (3.6.0)\n",
      "Requirement already satisfied: typing-extensions>=3.6.6 in /home/liana/projects/fyp/venv/lib/python3.8/site-packages (from tensorflow) (4.0.0)\n",
      "Requirement already satisfied: opt-einsum>=2.3.2 in /home/liana/projects/fyp/venv/lib/python3.8/site-packages (from tensorflow) (3.3.0)\n",
      "Requirement already satisfied: six>=1.12.0 in /home/liana/projects/fyp/venv/lib/python3.8/site-packages (from tensorflow) (1.16.0)\n",
      "Requirement already satisfied: absl-py>=0.4.0 in /home/liana/projects/fyp/venv/lib/python3.8/site-packages (from tensorflow) (1.0.0)\n",
      "Requirement already satisfied: wrapt>=1.11.0 in /home/liana/projects/fyp/venv/lib/python3.8/site-packages (from tensorflow) (1.13.3)\n",
      "Requirement already satisfied: wheel<1.0,>=0.32.0 in /home/liana/projects/fyp/venv/lib/python3.8/site-packages (from tensorflow) (0.37.0)\n",
      "Requirement already satisfied: tensorboard~=2.6 in /home/liana/projects/fyp/venv/lib/python3.8/site-packages (from tensorflow) (2.7.0)\n",
      "Requirement already satisfied: protobuf>=3.9.2 in /home/liana/projects/fyp/venv/lib/python3.8/site-packages (from tensorflow) (3.19.1)\n",
      "Requirement already satisfied: termcolor>=1.1.0 in /home/liana/projects/fyp/venv/lib/python3.8/site-packages (from tensorflow) (1.1.0)\n",
      "Requirement already satisfied: tensorflow-estimator<2.8,~=2.7.0rc0 in /home/liana/projects/fyp/venv/lib/python3.8/site-packages (from tensorflow) (2.7.0)\n",
      "Requirement already satisfied: grpcio<2.0,>=1.24.3 in /home/liana/projects/fyp/venv/lib/python3.8/site-packages (from tensorflow) (1.42.0)\n",
      "Requirement already satisfied: gast<0.5.0,>=0.2.1 in /home/liana/projects/fyp/venv/lib/python3.8/site-packages (from tensorflow) (0.4.0)\n",
      "Requirement already satisfied: tensorflow-io-gcs-filesystem>=0.21.0 in /home/liana/projects/fyp/venv/lib/python3.8/site-packages (from tensorflow) (0.22.0)\n",
      "Requirement already satisfied: google-pasta>=0.1.1 in /home/liana/projects/fyp/venv/lib/python3.8/site-packages (from tensorflow) (0.2.0)\n",
      "Requirement already satisfied: libclang>=9.0.1 in /home/liana/projects/fyp/venv/lib/python3.8/site-packages (from tensorflow) (12.0.0)\n",
      "Requirement already satisfied: numpy>=1.14.5 in /home/liana/projects/fyp/venv/lib/python3.8/site-packages (from tensorflow) (1.21.4)\n",
      "Requirement already satisfied: flatbuffers<3.0,>=1.12 in /home/liana/projects/fyp/venv/lib/python3.8/site-packages (from tensorflow) (2.0)\n",
      "Requirement already satisfied: markdown>=2.6.8 in /home/liana/projects/fyp/venv/lib/python3.8/site-packages (from tensorboard~=2.6->tensorflow) (3.3.6)\n",
      "Requirement already satisfied: requests<3,>=2.21.0 in /home/liana/projects/fyp/venv/lib/python3.8/site-packages (from tensorboard~=2.6->tensorflow) (2.26.0)\n",
      "Requirement already satisfied: tensorboard-plugin-wit>=1.6.0 in /home/liana/projects/fyp/venv/lib/python3.8/site-packages (from tensorboard~=2.6->tensorflow) (1.8.0)\n",
      "Requirement already satisfied: werkzeug>=0.11.15 in /home/liana/projects/fyp/venv/lib/python3.8/site-packages (from tensorboard~=2.6->tensorflow) (2.0.2)\n",
      "Requirement already satisfied: google-auth<3,>=1.6.3 in /home/liana/projects/fyp/venv/lib/python3.8/site-packages (from tensorboard~=2.6->tensorflow) (2.3.3)\n",
      "Requirement already satisfied: tensorboard-data-server<0.7.0,>=0.6.0 in /home/liana/projects/fyp/venv/lib/python3.8/site-packages (from tensorboard~=2.6->tensorflow) (0.6.1)\n",
      "Requirement already satisfied: google-auth-oauthlib<0.5,>=0.4.1 in /home/liana/projects/fyp/venv/lib/python3.8/site-packages (from tensorboard~=2.6->tensorflow) (0.4.6)\n",
      "Requirement already satisfied: setuptools>=41.0.0 in /home/liana/projects/fyp/venv/lib/python3.8/site-packages (from tensorboard~=2.6->tensorflow) (58.3.0)\n",
      "Requirement already satisfied: pyasn1-modules>=0.2.1 in /home/liana/projects/fyp/venv/lib/python3.8/site-packages (from google-auth<3,>=1.6.3->tensorboard~=2.6->tensorflow) (0.2.8)\n",
      "Requirement already satisfied: cachetools<5.0,>=2.0.0 in /home/liana/projects/fyp/venv/lib/python3.8/site-packages (from google-auth<3,>=1.6.3->tensorboard~=2.6->tensorflow) (4.2.4)\n",
      "Requirement already satisfied: rsa<5,>=3.1.4 in /home/liana/projects/fyp/venv/lib/python3.8/site-packages (from google-auth<3,>=1.6.3->tensorboard~=2.6->tensorflow) (4.8)\n",
      "Requirement already satisfied: requests-oauthlib>=0.7.0 in /home/liana/projects/fyp/venv/lib/python3.8/site-packages (from google-auth-oauthlib<0.5,>=0.4.1->tensorboard~=2.6->tensorflow) (1.3.0)\n",
      "Requirement already satisfied: importlib-metadata>=4.4 in /home/liana/projects/fyp/venv/lib/python3.8/site-packages (from markdown>=2.6.8->tensorboard~=2.6->tensorflow) (4.8.2)\n",
      "Requirement already satisfied: idna<4,>=2.5 in /home/liana/projects/fyp/venv/lib/python3.8/site-packages (from requests<3,>=2.21.0->tensorboard~=2.6->tensorflow) (3.3)\n",
      "Requirement already satisfied: urllib3<1.27,>=1.21.1 in /home/liana/projects/fyp/venv/lib/python3.8/site-packages (from requests<3,>=2.21.0->tensorboard~=2.6->tensorflow) (1.26.7)\n",
      "Requirement already satisfied: certifi>=2017.4.17 in /home/liana/projects/fyp/venv/lib/python3.8/site-packages (from requests<3,>=2.21.0->tensorboard~=2.6->tensorflow) (2021.10.8)\n",
      "Requirement already satisfied: charset-normalizer~=2.0.0 in /home/liana/projects/fyp/venv/lib/python3.8/site-packages (from requests<3,>=2.21.0->tensorboard~=2.6->tensorflow) (2.0.8)\n",
      "Requirement already satisfied: zipp>=0.5 in /home/liana/projects/fyp/venv/lib/python3.8/site-packages (from importlib-metadata>=4.4->markdown>=2.6.8->tensorboard~=2.6->tensorflow) (3.6.0)\n",
      "Requirement already satisfied: pyasn1<0.5.0,>=0.4.6 in /home/liana/projects/fyp/venv/lib/python3.8/site-packages (from pyasn1-modules>=0.2.1->google-auth<3,>=1.6.3->tensorboard~=2.6->tensorflow) (0.4.8)\n",
      "Requirement already satisfied: oauthlib>=3.0.0 in /home/liana/projects/fyp/venv/lib/python3.8/site-packages (from requests-oauthlib>=0.7.0->google-auth-oauthlib<0.5,>=0.4.1->tensorboard~=2.6->tensorflow) (3.1.1)\n",
      "Requirement already satisfied: keras in /home/liana/projects/fyp/venv/lib/python3.8/site-packages (2.7.0)\n"
     ]
    }
   ],
   "source": [
    "!pip install tensorflow\n",
    "!pip install keras"
   ]
  },
  {
   "cell_type": "markdown",
   "metadata": {},
   "source": [
    "### Import Libraries"
   ]
  },
  {
   "cell_type": "code",
   "execution_count": 2,
   "metadata": {},
   "outputs": [
    {
     "name": "stderr",
     "output_type": "stream",
     "text": [
      "2021-11-30 17:42:15.832664: W tensorflow/stream_executor/platform/default/dso_loader.cc:64] Could not load dynamic library 'libcudart.so.11.0'; dlerror: libcudart.so.11.0: cannot open shared object file: No such file or directory\n",
      "2021-11-30 17:42:15.832721: I tensorflow/stream_executor/cuda/cudart_stub.cc:29] Ignore above cudart dlerror if you do not have a GPU set up on your machine.\n"
     ]
    }
   ],
   "source": [
    "import pandas as pd\n",
    "import numpy as np\n",
    "import tensorflow as tf\n",
    "from keras.models import Sequential\n",
    "import matplotlib.pyplot as plt\n",
    "from keras.layers import Dense\n",
    "from sklearn.preprocessing import StandardScaler"
   ]
  },
  {
   "cell_type": "markdown",
   "metadata": {},
   "source": [
    "### Loading Data"
   ]
  },
  {
   "cell_type": "code",
   "execution_count": 3,
   "metadata": {},
   "outputs": [],
   "source": [
    "# Cleaned dataset with no outliers\n",
    "X_train_no = pd.read_csv('../dataset/no_outliers/X_train.csv')\n",
    "X_test_no = pd.read_csv('../dataset/no_outliers/X_test.csv')\n",
    "y_train_no = pd.read_csv('../dataset/no_outliers/y_train.csv')\n",
    "y_test_no = pd.read_csv('../dataset/no_outliers/y_test.csv')\n",
    "\n",
    "# Uncleaned original data\n",
    "X_train_with = pd.read_csv('../dataset/with_outliers/X_train.csv')\n",
    "X_test_with = pd.read_csv('../dataset/with_outliers/X_test.csv')\n",
    "y_train_with = pd.read_csv('../dataset/with_outliers/y_train.csv')\n",
    "y_test_with = pd.read_csv('../dataset/with_outliers/y_test.csv')"
   ]
  },
  {
   "cell_type": "code",
   "execution_count": 4,
   "metadata": {},
   "outputs": [
    {
     "name": "stdout",
     "output_type": "stream",
     "text": [
      "(578, 9) (578, 1) (145, 9) (145, 1)\n"
     ]
    }
   ],
   "source": [
    "def standardise_data(X_train, y_train, X_test, y_test):\n",
    "    X_scaler = StandardScaler()\n",
    "    y_scaler = StandardScaler()\n",
    "\n",
    "    # Scale data to standardise data values\n",
    "    X_train_trans = X_scaler.fit_transform(X_train)\n",
    "    y_train_trans = y_scaler.fit_transform(y_train)\n",
    "    X_test_trans = X_scaler.transform(X_test)\n",
    "    y_test_trans = y_scaler.transform(y_test)\n",
    "    \n",
    "    print(X_train_trans.shape, y_train_trans.shape, X_test_trans.shape, y_test_trans.shape)\n",
    "\n",
    "    return X_scaler, y_scaler, X_train_trans, y_train_trans, X_test_trans, y_test_trans\n",
    "\n",
    "X_scaler_no, y_scaler_no, X_train_no_trans, y_train_no_trans, X_test_no_trans, y_test_no_trans = standardise_data(X_train_no, y_train_no, X_test_no, y_test_no)"
   ]
  },
  {
   "cell_type": "markdown",
   "metadata": {},
   "source": [
    "## Training\n",
    "\n",
    "Using a layer with 5 neurons, with 9 input dimensions of normal weight, using relu activation function. Batch size is 20 and training epochs are 50."
   ]
  },
  {
   "cell_type": "code",
   "execution_count": 5,
   "metadata": {},
   "outputs": [
    {
     "name": "stderr",
     "output_type": "stream",
     "text": [
      "2021-11-30 17:42:21.655027: E tensorflow/stream_executor/cuda/cuda_driver.cc:271] failed call to cuInit: UNKNOWN ERROR (100)\n",
      "2021-11-30 17:42:21.655106: I tensorflow/stream_executor/cuda/cuda_diagnostics.cc:156] kernel driver does not appear to be running on this host (Liana-ASUS): /proc/driver/nvidia/version does not exist\n",
      "2021-11-30 17:42:21.655995: I tensorflow/core/platform/cpu_feature_guard.cc:151] This TensorFlow binary is optimized with oneAPI Deep Neural Network Library (oneDNN) to use the following CPU instructions in performance-critical operations:  AVX2 AVX512F FMA\n",
      "To enable them in other operations, rebuild TensorFlow with the appropriate compiler flags.\n"
     ]
    },
    {
     "name": "stdout",
     "output_type": "stream",
     "text": [
      "Epoch 1/50\n",
      "29/29 [==============================] - 1s 6ms/step - loss: 0.9972 - mse: 0.9972 - mae: 0.8129\n",
      "Epoch 2/50\n",
      "29/29 [==============================] - 0s 5ms/step - loss: 0.9790 - mse: 0.9790 - mae: 0.8054\n",
      "Epoch 3/50\n",
      "29/29 [==============================] - 0s 3ms/step - loss: 0.9168 - mse: 0.9168 - mae: 0.7791\n",
      "Epoch 4/50\n",
      "29/29 [==============================] - 0s 2ms/step - loss: 0.7792 - mse: 0.7792 - mae: 0.7165\n",
      "Epoch 5/50\n",
      "29/29 [==============================] - 0s 2ms/step - loss: 0.5830 - mse: 0.5830 - mae: 0.6193\n",
      "Epoch 6/50\n",
      "29/29 [==============================] - 0s 2ms/step - loss: 0.4095 - mse: 0.4095 - mae: 0.5182\n",
      "Epoch 7/50\n",
      "29/29 [==============================] - 0s 2ms/step - loss: 0.2983 - mse: 0.2983 - mae: 0.4367\n",
      "Epoch 8/50\n",
      "29/29 [==============================] - 0s 2ms/step - loss: 0.2454 - mse: 0.2454 - mae: 0.3878\n",
      "Epoch 9/50\n",
      "29/29 [==============================] - 0s 2ms/step - loss: 0.2223 - mse: 0.2223 - mae: 0.3608\n",
      "Epoch 10/50\n",
      "29/29 [==============================] - 0s 2ms/step - loss: 0.2097 - mse: 0.2097 - mae: 0.3491\n",
      "Epoch 11/50\n",
      "29/29 [==============================] - 0s 2ms/step - loss: 0.2004 - mse: 0.2004 - mae: 0.3409\n",
      "Epoch 12/50\n",
      "29/29 [==============================] - 0s 2ms/step - loss: 0.1940 - mse: 0.1940 - mae: 0.3342\n",
      "Epoch 13/50\n",
      "29/29 [==============================] - 0s 2ms/step - loss: 0.1870 - mse: 0.1870 - mae: 0.3264\n",
      "Epoch 14/50\n",
      "29/29 [==============================] - 0s 3ms/step - loss: 0.1811 - mse: 0.1811 - mae: 0.3223\n",
      "Epoch 15/50\n",
      "29/29 [==============================] - 0s 2ms/step - loss: 0.1761 - mse: 0.1761 - mae: 0.3175\n",
      "Epoch 16/50\n",
      "29/29 [==============================] - 0s 2ms/step - loss: 0.1716 - mse: 0.1716 - mae: 0.3138\n",
      "Epoch 17/50\n",
      "29/29 [==============================] - 0s 3ms/step - loss: 0.1666 - mse: 0.1666 - mae: 0.3082\n",
      "Epoch 18/50\n",
      "29/29 [==============================] - 0s 4ms/step - loss: 0.1633 - mse: 0.1633 - mae: 0.3047\n",
      "Epoch 19/50\n",
      "29/29 [==============================] - 0s 3ms/step - loss: 0.1592 - mse: 0.1592 - mae: 0.3023\n",
      "Epoch 20/50\n",
      "29/29 [==============================] - 0s 2ms/step - loss: 0.1562 - mse: 0.1562 - mae: 0.2976\n",
      "Epoch 21/50\n",
      "29/29 [==============================] - 0s 2ms/step - loss: 0.1530 - mse: 0.1530 - mae: 0.2934\n",
      "Epoch 22/50\n",
      "29/29 [==============================] - 0s 2ms/step - loss: 0.1505 - mse: 0.1505 - mae: 0.2927\n",
      "Epoch 23/50\n",
      "29/29 [==============================] - 0s 2ms/step - loss: 0.1477 - mse: 0.1477 - mae: 0.2880\n",
      "Epoch 24/50\n",
      "29/29 [==============================] - 0s 2ms/step - loss: 0.1447 - mse: 0.1447 - mae: 0.2842\n",
      "Epoch 25/50\n",
      "29/29 [==============================] - 0s 2ms/step - loss: 0.1429 - mse: 0.1429 - mae: 0.2833\n",
      "Epoch 26/50\n",
      "29/29 [==============================] - 0s 2ms/step - loss: 0.1408 - mse: 0.1408 - mae: 0.2797\n",
      "Epoch 27/50\n",
      "29/29 [==============================] - 0s 4ms/step - loss: 0.1383 - mse: 0.1383 - mae: 0.2774\n",
      "Epoch 28/50\n",
      "29/29 [==============================] - 0s 2ms/step - loss: 0.1366 - mse: 0.1366 - mae: 0.2751\n",
      "Epoch 29/50\n",
      "29/29 [==============================] - 0s 4ms/step - loss: 0.1358 - mse: 0.1358 - mae: 0.2746\n",
      "Epoch 30/50\n",
      "29/29 [==============================] - 0s 4ms/step - loss: 0.1340 - mse: 0.1340 - mae: 0.2737\n",
      "Epoch 31/50\n",
      "29/29 [==============================] - 0s 2ms/step - loss: 0.1335 - mse: 0.1335 - mae: 0.2721\n",
      "Epoch 32/50\n",
      "29/29 [==============================] - 0s 3ms/step - loss: 0.1328 - mse: 0.1328 - mae: 0.2713\n",
      "Epoch 33/50\n",
      "29/29 [==============================] - 0s 5ms/step - loss: 0.1311 - mse: 0.1311 - mae: 0.2691\n",
      "Epoch 34/50\n",
      "29/29 [==============================] - 0s 3ms/step - loss: 0.1305 - mse: 0.1305 - mae: 0.2696\n",
      "Epoch 35/50\n",
      "29/29 [==============================] - 0s 3ms/step - loss: 0.1303 - mse: 0.1303 - mae: 0.2694\n",
      "Epoch 36/50\n",
      "29/29 [==============================] - 0s 2ms/step - loss: 0.1297 - mse: 0.1297 - mae: 0.2678\n",
      "Epoch 37/50\n",
      "29/29 [==============================] - 0s 2ms/step - loss: 0.1283 - mse: 0.1283 - mae: 0.2684\n",
      "Epoch 38/50\n",
      "29/29 [==============================] - 0s 3ms/step - loss: 0.1275 - mse: 0.1275 - mae: 0.2660\n",
      "Epoch 39/50\n",
      "29/29 [==============================] - 0s 2ms/step - loss: 0.1280 - mse: 0.1280 - mae: 0.2648\n",
      "Epoch 40/50\n",
      "29/29 [==============================] - 0s 3ms/step - loss: 0.1263 - mse: 0.1263 - mae: 0.2662\n",
      "Epoch 41/50\n",
      "29/29 [==============================] - 0s 4ms/step - loss: 0.1263 - mse: 0.1263 - mae: 0.2645\n",
      "Epoch 42/50\n",
      "29/29 [==============================] - 0s 3ms/step - loss: 0.1257 - mse: 0.1257 - mae: 0.2645\n",
      "Epoch 43/50\n",
      "29/29 [==============================] - 0s 4ms/step - loss: 0.1244 - mse: 0.1244 - mae: 0.2625\n",
      "Epoch 44/50\n",
      "29/29 [==============================] - 0s 4ms/step - loss: 0.1239 - mse: 0.1239 - mae: 0.2615\n",
      "Epoch 45/50\n",
      "29/29 [==============================] - 0s 3ms/step - loss: 0.1234 - mse: 0.1234 - mae: 0.2619\n",
      "Epoch 46/50\n",
      "29/29 [==============================] - 0s 5ms/step - loss: 0.1240 - mse: 0.1240 - mae: 0.2631\n",
      "Epoch 47/50\n",
      "29/29 [==============================] - 0s 4ms/step - loss: 0.1240 - mse: 0.1240 - mae: 0.2624\n",
      "Epoch 48/50\n",
      "29/29 [==============================] - 0s 3ms/step - loss: 0.1224 - mse: 0.1224 - mae: 0.2579\n",
      "Epoch 49/50\n",
      "29/29 [==============================] - 0s 2ms/step - loss: 0.1216 - mse: 0.1216 - mae: 0.2593\n",
      "Epoch 50/50\n",
      "29/29 [==============================] - 0s 2ms/step - loss: 0.1213 - mse: 0.1213 - mae: 0.2602\n"
     ]
    }
   ],
   "source": [
    "def create_seq_model():\n",
    "    model = Sequential()\n",
    "\n",
    "    # Defining the input layer and first hidden layer\n",
    "    model.add(Dense(units=5, input_dim=9, kernel_initializer='normal', activation='relu'))\n",
    "\n",
    "    # Defining the second layer of the model\n",
    "    model.add(Dense(units=5, kernel_initializer='normal', activation='tanh'))\n",
    "\n",
    "    # The output neuron is a single fully connected node as only a single number is predicted\n",
    "    model.add(Dense(1, kernel_initializer='normal'))\n",
    "\n",
    "    # Compiling the model\n",
    "    model.compile(loss='mse', optimizer='adam', metrics=['mse', 'mae'])\n",
    "\n",
    "    return model\n",
    "\n",
    "def train_model(model, X_train, y_train):\n",
    "    # Fitting the ANN to the training data\n",
    "    model.fit(X_train, y_train, batch_size=20, epochs=50, verbose=1)\n",
    "\n",
    "    return model\n",
    "\n",
    "model_no = create_seq_model()\n",
    "model_no = train_model(model_no, X_train_no_trans, y_train_no_trans)"
   ]
  },
  {
   "cell_type": "markdown",
   "metadata": {},
   "source": [
    "## Hyperparameter Tuning\n",
    "\n",
    "To find the best accuracy with the minimum number of layers/neurons."
   ]
  },
  {
   "cell_type": "markdown",
   "metadata": {},
   "source": [
    "### Grid Search\n",
    "\n",
    "Mean Square Error (MSE) is used with the formula `(sum of all (y_true - y_pred)^2)/total number of y_true`"
   ]
  },
  {
   "cell_type": "code",
   "execution_count": 6,
   "metadata": {},
   "outputs": [
    {
     "name": "stdout",
     "output_type": "stream",
     "text": [
      "1 Parameters: batch_size: 5 - Epochs: 5 MSE: 0.19724783797882628\n",
      "2 Parameters: batch_size: 5 - Epochs: 10 MSE: 0.1614009120629752\n",
      "3 Parameters: batch_size: 5 - Epochs: 50 MSE: 0.14135062407029314\n",
      "4 Parameters: batch_size: 5 - Epochs: 100 MSE: 0.11702383681250692\n",
      "5 Parameters: batch_size: 10 - Epochs: 5 MSE: 0.41614432148456304\n",
      "6 Parameters: batch_size: 10 - Epochs: 10 MSE: 0.20857683680317574\n",
      "7 Parameters: batch_size: 10 - Epochs: 50 MSE: 0.13570887727805733\n",
      "8 Parameters: batch_size: 10 - Epochs: 100 MSE: 0.13338939726211899\n",
      "9 Parameters: batch_size: 15 - Epochs: 5 MSE: 0.6951336186531647\n",
      "10 Parameters: batch_size: 15 - Epochs: 10 MSE: 0.2506945254710916\n",
      "11 Parameters: batch_size: 15 - Epochs: 50 MSE: 0.14543591651100338\n",
      "12 Parameters: batch_size: 15 - Epochs: 100 MSE: 0.13109650222121746\n",
      "13 Parameters: batch_size: 20 - Epochs: 5 MSE: 0.8193654647813673\n",
      "14 Parameters: batch_size: 20 - Epochs: 10 MSE: 0.5590260245581964\n",
      "15 Parameters: batch_size: 20 - Epochs: 50 MSE: 0.24236319308863344\n",
      "16 Parameters: batch_size: 20 - Epochs: 100 MSE: 0.1302349699938826\n"
     ]
    }
   ],
   "source": [
    "# Find the best parameters for ANN\n",
    "def find_best_params(X_train, y_train, X_test, y_test):\n",
    "    \n",
    "    # Defining the list of hyper parameters to try\n",
    "    batch_size_list = [5, 10, 15, 20]\n",
    "    epoch_list = [5, 10, 50, 100]\n",
    "\n",
    "    results = pd.DataFrame(columns=['trial_num', 'param', 'accuracy'])\n",
    "    \n",
    "    # Initialising the trials\n",
    "    trial_number = 0\n",
    "    for batch_size_trial in batch_size_list:\n",
    "        for epochs_trial in epoch_list:\n",
    "            trial_number += 1\n",
    "            # Create ANN model\n",
    "            model = Sequential()\n",
    "\n",
    "            # Defining the first layer of the model\n",
    "            model.add(Dense(units=5, input_dim=X_train.shape[1], kernel_initializer='normal', activation='relu'))\n",
    "\n",
    "            # Defining the second layer of the model\n",
    "            model.add(Dense(units=5, kernel_initializer='normal', activation='relu'))\n",
    "\n",
    "            # Output neuron\n",
    "            model.add(Dense(1, kernel_initializer='normal'))\n",
    "\n",
    "            # Compiling the model\n",
    "            model.compile(loss='mean_squared_error', optimizer='adam')\n",
    "\n",
    "            # Fitting the ANN to the Training set\n",
    "            model.fit(X_train, y_train ,batch_size = batch_size_trial, epochs = epochs_trial, verbose=0)\n",
    "\n",
    "            pred = model.predict(X_test)\n",
    "\n",
    "            MSE = 0\n",
    "            for i in range(y_test.shape[0]):\n",
    "                MSE += (y_test[i,0] - pred[i][0])**2\n",
    "\n",
    "            MSE /= y_test.shape[0]\n",
    "            \n",
    "            # Printing the results of the current iteration\n",
    "            print(trial_number, 'Parameters:','batch_size:', batch_size_trial,'-', 'Epochs:',epochs_trial, 'MSE:', MSE)\n",
    "            \n",
    "            results = results.append(pd.DataFrame(data=[[trial_number, str(batch_size_trial)+'-'+str(epochs_trial), MSE]], columns=['trial_num', 'param', 'mse'] ))\n",
    "\n",
    "    return(results)\n",
    "\n",
    "results_no = find_best_params(X_train_no_trans, y_train_no_trans, X_test_no_trans, y_test_no_trans)"
   ]
  },
  {
   "cell_type": "markdown",
   "metadata": {},
   "source": [
    "### Plotting Results"
   ]
  },
  {
   "cell_type": "code",
   "execution_count": 7,
   "metadata": {},
   "outputs": [
    {
     "data": {
      "image/png": "[encoded data removed]",
      "text/plain": [
       "<Figure size 1008x432 with 1 Axes>"
      ]
     },
     "metadata": {
      "needs_background": "light"
     },
     "output_type": "display_data"
    }
   ],
   "source": [
    "def plot_bar_chart(results):\n",
    "    plt.figure(figsize=(14,6))\n",
    "    colors = ['pink' if result != min(results['mse']) else 'purple' for result in results['mse']]\n",
    "    plt.bar(results['param'], height=results['mse'], color=colors)\n",
    "    # plt.axhline(y=1.0, color='purple', linestyle='-')\n",
    "    for a, b in zip([x for x in range(len(results['mse']))], round(results['mse'], 5)):\n",
    "        plt.text(a, b, str(b), color='black')\n",
    "    plt.show()\n",
    "\n",
    "plot_bar_chart(results_no)"
   ]
  },
  {
   "cell_type": "markdown",
   "metadata": {},
   "source": [
    "For MSE, a lower value is better. From the graph above, it can be known that the best hyperparameters are `batch_size` = 5 and `epochs` = 100."
   ]
  },
  {
   "cell_type": "code",
   "execution_count": 19,
   "metadata": {},
   "outputs": [],
   "source": [
    "def evaluate_model(test_data):\n",
    "    # Sum of squared error\n",
    "    test_data['SE'] = (test_data['count'] - test_data['pred_count'])**2\n",
    "\n",
    "    print(test_data.head())\n",
    "\n",
    "    print(\"MSE: \", np.mean(test_data['SE']))"
   ]
  },
  {
   "cell_type": "code",
   "execution_count": 24,
   "metadata": {},
   "outputs": [
    {
     "name": "stdout",
     "output_type": "stream",
     "text": [
      "     season      year     month  holiday   weekday   weather  temperature  \\\n",
      "0  0.449189  1.003466  0.147272 -0.16873 -1.505757 -0.736674     1.234309   \n",
      "1 -0.461798  1.003466 -0.439786 -0.16873  0.493847 -0.736674     0.533490   \n",
      "2  0.449189  1.003466  0.440802 -0.16873  0.993748  1.090784     1.475494   \n",
      "3 -0.461798  1.003466 -0.733315 -0.16873  0.993748 -0.736674    -0.504081   \n",
      "4  1.360175  1.003466  1.321389 -0.16873 -1.005856 -0.736674    -0.963703   \n",
      "\n",
      "   humidity  windspeed     count  pred_count        SE  \n",
      "0 -0.028125  -0.246866  1.095397    1.013958  0.006632  \n",
      "1 -0.761407   0.529099  1.506397    1.453898  0.002756  \n",
      "2  0.104396   0.349382  1.397250    0.849386  0.300155  \n",
      "3 -1.771513   1.460496  1.023851    0.445691  0.334268  \n",
      "4 -0.943989   0.619070  0.396644    0.265340  0.017241  \n",
      "MSE:  0.11213698541482214\n"
     ]
    }
   ],
   "source": [
    "# Fine-tune hyperparameters\n",
    "def fine_tune_model(model, batch_size, epochs, X_scaler, y_scaler, X_train_trans, y_train_trans, X_test_trans, y_test_trans, columns):\n",
    "    model.fit(X_train_trans, y_train_trans, batch_size=batch_size, epochs=epochs, verbose=0)\n",
    "\n",
    "    pred = model.predict(X_test_trans)\n",
    "\n",
    "    test_data_scaled = pd.DataFrame(data=X_test_trans, columns=columns)\n",
    "    test_data_scaled['count'] = y_test_trans\n",
    "    test_data_scaled['pred_count'] = pred\n",
    "    evaluate_model(test_data_scaled)\n",
    "\n",
    "    # Scale predictions\n",
    "    pred = y_scaler.inverse_transform(pred)\n",
    "\n",
    "    # Scale back to original\n",
    "    y_test = y_scaler.inverse_transform(y_test_trans)\n",
    "    X_test = X_scaler.inverse_transform(X_test_trans)\n",
    "\n",
    "    test_data = pd.DataFrame(data=X_test, columns=columns)\n",
    "    test_data['count'] = y_test\n",
    "    test_data['pred_count'] = pred\n",
    "    # print(test_data.head())\n",
    "\n",
    "    return test_data\n",
    "\n",
    "test_data_no = fine_tune_model(\n",
    "        model=model_no,\n",
    "        batch_size=5,\n",
    "        epochs=100,\n",
    "        X_scaler=X_scaler_no,\n",
    "        y_scaler=y_scaler_no,\n",
    "        X_train_trans=X_train_no_trans,\n",
    "        y_train_trans=y_train_no_trans,\n",
    "        X_test_trans=X_test_no_trans,\n",
    "        y_test_trans=y_test_no_trans,\n",
    "        columns=X_test_no.columns\n",
    "    )"
   ]
  },
  {
   "cell_type": "code",
   "execution_count": 10,
   "metadata": {},
   "outputs": [
    {
     "name": "stdout",
     "output_type": "stream",
     "text": [
      "Model: \"sequential\"\n",
      "_________________________________________________________________\n",
      " Layer (type)                Output Shape              Param #   \n",
      "=================================================================\n",
      " dense (Dense)               (None, 5)                 50        \n",
      "                                                                 \n",
      " dense_1 (Dense)             (None, 5)                 30        \n",
      "                                                                 \n",
      " dense_2 (Dense)             (None, 1)                 6         \n",
      "                                                                 \n",
      "=================================================================\n",
      "Total params: 86\n",
      "Trainable params: 86\n",
      "Non-trainable params: 0\n",
      "_________________________________________________________________\n"
     ]
    }
   ],
   "source": [
    "model_no.summary()"
   ]
  },
  {
   "cell_type": "markdown",
   "metadata": {},
   "source": [
    "## Using Data With Outliers"
   ]
  },
  {
   "cell_type": "code",
   "execution_count": 11,
   "metadata": {},
   "outputs": [
    {
     "name": "stdout",
     "output_type": "stream",
     "text": [
      "(584, 9) (584, 1) (147, 9) (147, 1)\n"
     ]
    }
   ],
   "source": [
    "X_scaler_with, y_scaler_with, X_train_with_trans, y_train_with_trans, X_test_with_trans, y_test_with_trans = standardise_data(X_train_with, y_train_with, X_test_with, y_test_with)"
   ]
  },
  {
   "cell_type": "code",
   "execution_count": 12,
   "metadata": {},
   "outputs": [
    {
     "name": "stdout",
     "output_type": "stream",
     "text": [
      "Epoch 1/50\n",
      "30/30 [==============================] - 1s 4ms/step - loss: 0.9980 - mse: 0.9980 - mae: 0.8152\n",
      "Epoch 2/50\n",
      "30/30 [==============================] - 0s 4ms/step - loss: 0.9853 - mse: 0.9853 - mae: 0.8102\n",
      "Epoch 3/50\n",
      "30/30 [==============================] - 0s 3ms/step - loss: 0.9332 - mse: 0.9332 - mae: 0.7887\n",
      "Epoch 4/50\n",
      "30/30 [==============================] - 0s 5ms/step - loss: 0.8111 - mse: 0.8111 - mae: 0.7342\n",
      "Epoch 5/50\n",
      "30/30 [==============================] - 0s 4ms/step - loss: 0.6383 - mse: 0.6383 - mae: 0.6483\n",
      "Epoch 6/50\n",
      "30/30 [==============================] - 0s 2ms/step - loss: 0.4765 - mse: 0.4765 - mae: 0.5558\n",
      "Epoch 7/50\n",
      "30/30 [==============================] - 0s 2ms/step - loss: 0.3510 - mse: 0.3510 - mae: 0.4678\n",
      "Epoch 8/50\n",
      "30/30 [==============================] - 0s 3ms/step - loss: 0.2772 - mse: 0.2772 - mae: 0.4090\n",
      "Epoch 9/50\n",
      "30/30 [==============================] - 0s 3ms/step - loss: 0.2372 - mse: 0.2372 - mae: 0.3719\n",
      "Epoch 10/50\n",
      "30/30 [==============================] - 0s 3ms/step - loss: 0.2183 - mse: 0.2183 - mae: 0.3547\n",
      "Epoch 11/50\n",
      "30/30 [==============================] - 0s 3ms/step - loss: 0.2064 - mse: 0.2064 - mae: 0.3443\n",
      "Epoch 12/50\n",
      "30/30 [==============================] - 0s 3ms/step - loss: 0.1972 - mse: 0.1972 - mae: 0.3373\n",
      "Epoch 13/50\n",
      "30/30 [==============================] - 0s 3ms/step - loss: 0.1907 - mse: 0.1907 - mae: 0.3310\n",
      "Epoch 14/50\n",
      "30/30 [==============================] - 0s 3ms/step - loss: 0.1837 - mse: 0.1837 - mae: 0.3253\n",
      "Epoch 15/50\n",
      "30/30 [==============================] - 0s 4ms/step - loss: 0.1776 - mse: 0.1776 - mae: 0.3199\n",
      "Epoch 16/50\n",
      "30/30 [==============================] - 0s 4ms/step - loss: 0.1712 - mse: 0.1712 - mae: 0.3132\n",
      "Epoch 17/50\n",
      "30/30 [==============================] - 0s 4ms/step - loss: 0.1658 - mse: 0.1658 - mae: 0.3082\n",
      "Epoch 18/50\n",
      "30/30 [==============================] - 0s 1ms/step - loss: 0.1612 - mse: 0.1612 - mae: 0.3037\n",
      "Epoch 19/50\n",
      "30/30 [==============================] - 0s 1ms/step - loss: 0.1565 - mse: 0.1565 - mae: 0.2985\n",
      "Epoch 20/50\n",
      "30/30 [==============================] - 0s 2ms/step - loss: 0.1541 - mse: 0.1541 - mae: 0.2951\n",
      "Epoch 21/50\n",
      "30/30 [==============================] - 0s 3ms/step - loss: 0.1500 - mse: 0.1500 - mae: 0.2919\n",
      "Epoch 22/50\n",
      "30/30 [==============================] - 0s 3ms/step - loss: 0.1473 - mse: 0.1473 - mae: 0.2906\n",
      "Epoch 23/50\n",
      "30/30 [==============================] - 0s 4ms/step - loss: 0.1453 - mse: 0.1453 - mae: 0.2853\n",
      "Epoch 24/50\n",
      "30/30 [==============================] - 0s 3ms/step - loss: 0.1423 - mse: 0.1423 - mae: 0.2832\n",
      "Epoch 25/50\n",
      "30/30 [==============================] - 0s 3ms/step - loss: 0.1407 - mse: 0.1407 - mae: 0.2831\n",
      "Epoch 26/50\n",
      "30/30 [==============================] - 0s 4ms/step - loss: 0.1388 - mse: 0.1388 - mae: 0.2789\n",
      "Epoch 27/50\n",
      "30/30 [==============================] - 0s 3ms/step - loss: 0.1376 - mse: 0.1376 - mae: 0.2773\n",
      "Epoch 28/50\n",
      "30/30 [==============================] - 0s 5ms/step - loss: 0.1377 - mse: 0.1377 - mae: 0.2784\n",
      "Epoch 29/50\n",
      "30/30 [==============================] - 0s 4ms/step - loss: 0.1350 - mse: 0.1350 - mae: 0.2748\n",
      "Epoch 30/50\n",
      "30/30 [==============================] - 0s 1ms/step - loss: 0.1340 - mse: 0.1340 - mae: 0.2743\n",
      "Epoch 31/50\n",
      "30/30 [==============================] - 0s 2ms/step - loss: 0.1335 - mse: 0.1335 - mae: 0.2718\n",
      "Epoch 32/50\n",
      "30/30 [==============================] - 0s 3ms/step - loss: 0.1321 - mse: 0.1321 - mae: 0.2724\n",
      "Epoch 33/50\n",
      "30/30 [==============================] - 0s 3ms/step - loss: 0.1314 - mse: 0.1314 - mae: 0.2703\n",
      "Epoch 34/50\n",
      "30/30 [==============================] - 0s 3ms/step - loss: 0.1318 - mse: 0.1318 - mae: 0.2679\n",
      "Epoch 35/50\n",
      "30/30 [==============================] - 0s 3ms/step - loss: 0.1303 - mse: 0.1303 - mae: 0.2710\n",
      "Epoch 36/50\n",
      "30/30 [==============================] - 0s 4ms/step - loss: 0.1300 - mse: 0.1300 - mae: 0.2684\n",
      "Epoch 37/50\n",
      "30/30 [==============================] - 0s 4ms/step - loss: 0.1294 - mse: 0.1294 - mae: 0.2696\n",
      "Epoch 38/50\n",
      "30/30 [==============================] - 0s 3ms/step - loss: 0.1283 - mse: 0.1283 - mae: 0.2666\n",
      "Epoch 39/50\n",
      "30/30 [==============================] - 0s 4ms/step - loss: 0.1278 - mse: 0.1278 - mae: 0.2652\n",
      "Epoch 40/50\n",
      "30/30 [==============================] - 0s 5ms/step - loss: 0.1267 - mse: 0.1267 - mae: 0.2667\n",
      "Epoch 41/50\n",
      "30/30 [==============================] - 0s 3ms/step - loss: 0.1259 - mse: 0.1259 - mae: 0.2635\n",
      "Epoch 42/50\n",
      "30/30 [==============================] - 0s 1ms/step - loss: 0.1258 - mse: 0.1258 - mae: 0.2645\n",
      "Epoch 43/50\n",
      "30/30 [==============================] - 0s 1ms/step - loss: 0.1253 - mse: 0.1253 - mae: 0.2627\n",
      "Epoch 44/50\n",
      "30/30 [==============================] - 0s 1ms/step - loss: 0.1249 - mse: 0.1249 - mae: 0.2636\n",
      "Epoch 45/50\n",
      "30/30 [==============================] - 0s 2ms/step - loss: 0.1243 - mse: 0.1243 - mae: 0.2614\n",
      "Epoch 46/50\n",
      "30/30 [==============================] - 0s 3ms/step - loss: 0.1230 - mse: 0.1230 - mae: 0.2609\n",
      "Epoch 47/50\n",
      "30/30 [==============================] - 0s 3ms/step - loss: 0.1242 - mse: 0.1242 - mae: 0.2636\n",
      "Epoch 48/50\n",
      "30/30 [==============================] - 0s 2ms/step - loss: 0.1228 - mse: 0.1228 - mae: 0.2573\n",
      "Epoch 49/50\n",
      "30/30 [==============================] - 0s 2ms/step - loss: 0.1225 - mse: 0.1225 - mae: 0.2616\n",
      "Epoch 50/50\n",
      "30/30 [==============================] - 0s 3ms/step - loss: 0.1213 - mse: 0.1213 - mae: 0.2556\n"
     ]
    }
   ],
   "source": [
    "model_with = create_seq_model()\n",
    "model_with = train_model(model_with, X_train_with_trans, y_train_with_trans)"
   ]
  },
  {
   "cell_type": "markdown",
   "metadata": {},
   "source": [
    "The same `batch_size` and `epochs` are used for accuracy comparison."
   ]
  },
  {
   "cell_type": "code",
   "execution_count": 26,
   "metadata": {},
   "outputs": [
    {
     "name": "stdout",
     "output_type": "stream",
     "text": [
      "     season      year     month   holiday   weekday   weather  temperature  \\\n",
      "0  0.441688 -0.993174  0.131722 -0.167836  1.508537 -0.720359     1.060122   \n",
      "1  0.441688 -0.993174  0.131722 -0.167836  0.502271 -0.720359     1.404064   \n",
      "2 -1.362130 -0.993174 -1.603446 -0.167836  1.508537  1.141100    -1.401794   \n",
      "3 -1.362130 -0.993174 -1.314251 -0.167836 -0.503995  1.141100    -1.625316   \n",
      "4 -1.362130  1.006873 -1.603446 -0.167836  0.502271  1.141100    -0.813466   \n",
      "\n",
      "   humidity  windspeed     count  pred_count        SE  \n",
      "0 -0.276179   0.246691  0.750388    0.249310  0.251079  \n",
      "1  0.196746  -0.396460  0.050831    0.154996  0.010850  \n",
      "2 -0.891873  -0.412649 -1.706735   -1.418742  0.082939  \n",
      "3  1.469644  -1.783575 -1.647869   -1.753354  0.011127  \n",
      "4  1.041464  -1.519431 -0.220898   -0.283682  0.003942  \n",
      "MSE:  0.14570633455464452\n"
     ]
    }
   ],
   "source": [
    "test_data_with = fine_tune_model(\n",
    "    model=model_with,\n",
    "    batch_size=15,\n",
    "    epochs=10,\n",
    "    X_scaler=X_scaler_with,\n",
    "    y_scaler=y_scaler_with,\n",
    "    X_train_trans=X_train_with_trans,\n",
    "    y_train_trans=y_train_with_trans,\n",
    "    X_test_trans=X_test_with_trans,\n",
    "    y_test_trans=y_test_with_trans,\n",
    "    columns=X_test_with.columns,\n",
    ")"
   ]
  },
  {
   "cell_type": "code",
   "execution_count": 15,
   "metadata": {},
   "outputs": [
    {
     "name": "stdout",
     "output_type": "stream",
     "text": [
      "Model: \"sequential_17\"\n",
      "_________________________________________________________________\n",
      " Layer (type)                Output Shape              Param #   \n",
      "=================================================================\n",
      " dense_51 (Dense)            (None, 5)                 50        \n",
      "                                                                 \n",
      " dense_52 (Dense)            (None, 5)                 30        \n",
      "                                                                 \n",
      " dense_53 (Dense)            (None, 1)                 6         \n",
      "                                                                 \n",
      "=================================================================\n",
      "Total params: 86\n",
      "Trainable params: 86\n",
      "Non-trainable params: 0\n",
      "_________________________________________________________________\n"
     ]
    }
   ],
   "source": [
    "model_with.summary()"
   ]
  },
  {
   "cell_type": "markdown",
   "metadata": {},
   "source": [
    "In conclusion, using cleaned data without outliers would give a higher accuracy than using data with outliers."
   ]
  }
 ],
 "metadata": {
  "interpreter": {
   "hash": "916dbcbb3f70747c44a77c7bcd40155683ae19c65e1c03b4aa3499c5328201f1"
  },
  "kernelspec": {
   "display_name": "Python 3",
   "language": "python",
   "name": "python3"
  },
  "language_info": {
   "codemirror_mode": {
    "name": "ipython",
    "version": 3
   },
   "file_extension": ".py",
   "mimetype": "text/x-python",
   "name": "python",
   "nbconvert_exporter": "python",
   "pygments_lexer": "ipython3",
   "version": "3.8.8"
  }
 },
 "nbformat": 4,
 "nbformat_minor": 2
}
