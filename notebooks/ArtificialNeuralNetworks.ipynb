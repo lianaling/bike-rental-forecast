{
 "cells": [
  {
   "cell_type": "markdown",
   "metadata": {},
   "source": [
    "# Artificial Neural Networks for Regression\n",
    "\n",
    "_By: Ling Li Ya, Liana_"
   ]
  },
  {
   "cell_type": "markdown",
   "metadata": {},
   "source": [
    "## Pre-training Preparation"
   ]
  },
  {
   "cell_type": "markdown",
   "metadata": {},
   "source": [
    "### Installing Dependencies"
   ]
  },
  {
   "cell_type": "code",
   "execution_count": 46,
   "metadata": {},
   "outputs": [
    {
     "name": "stdout",
     "output_type": "stream",
     "text": [
      "Requirement already satisfied: tensorflow in /home/liana/.local/lib/python3.8/site-packages (2.7.0)\n",
      "Requirement already satisfied: tensorflow-io-gcs-filesystem>=0.21.0 in /home/liana/.local/lib/python3.8/site-packages (from tensorflow) (0.22.0)\n",
      "Requirement already satisfied: grpcio<2.0,>=1.24.3 in /home/liana/.local/lib/python3.8/site-packages (from tensorflow) (1.42.0)\n",
      "Requirement already satisfied: h5py>=2.9.0 in /home/liana/.local/lib/python3.8/site-packages (from tensorflow) (3.6.0)\n",
      "Requirement already satisfied: tensorboard~=2.6 in /home/liana/.local/lib/python3.8/site-packages (from tensorflow) (2.7.0)\n",
      "Requirement already satisfied: keras-preprocessing>=1.1.1 in /home/liana/.local/lib/python3.8/site-packages (from tensorflow) (1.1.2)\n",
      "Requirement already satisfied: gast<0.5.0,>=0.2.1 in /home/liana/.local/lib/python3.8/site-packages (from tensorflow) (0.4.0)\n",
      "Requirement already satisfied: numpy>=1.14.5 in /home/liana/.local/lib/python3.8/site-packages (from tensorflow) (1.21.4)\n",
      "Requirement already satisfied: opt-einsum>=2.3.2 in /home/liana/.local/lib/python3.8/site-packages (from tensorflow) (3.3.0)\n",
      "Requirement already satisfied: wheel<1.0,>=0.32.0 in /usr/lib/python3/dist-packages (from tensorflow) (0.34.2)\n",
      "Requirement already satisfied: libclang>=9.0.1 in /home/liana/.local/lib/python3.8/site-packages (from tensorflow) (12.0.0)\n",
      "Requirement already satisfied: protobuf>=3.9.2 in /home/liana/.local/lib/python3.8/site-packages (from tensorflow) (3.19.1)\n",
      "Requirement already satisfied: termcolor>=1.1.0 in /home/liana/.local/lib/python3.8/site-packages (from tensorflow) (1.1.0)\n",
      "Requirement already satisfied: astunparse>=1.6.0 in /home/liana/.local/lib/python3.8/site-packages (from tensorflow) (1.6.3)\n",
      "Requirement already satisfied: flatbuffers<3.0,>=1.12 in /home/liana/.local/lib/python3.8/site-packages (from tensorflow) (2.0)\n",
      "Requirement already satisfied: six>=1.12.0 in /home/liana/.local/lib/python3.8/site-packages (from tensorflow) (1.16.0)\n",
      "Requirement already satisfied: absl-py>=0.4.0 in /home/liana/.local/lib/python3.8/site-packages (from tensorflow) (1.0.0)\n",
      "Requirement already satisfied: google-pasta>=0.1.1 in /home/liana/.local/lib/python3.8/site-packages (from tensorflow) (0.2.0)\n",
      "Requirement already satisfied: tensorflow-estimator<2.8,~=2.7.0rc0 in /home/liana/.local/lib/python3.8/site-packages (from tensorflow) (2.7.0)\n",
      "Requirement already satisfied: wrapt>=1.11.0 in /home/liana/.local/lib/python3.8/site-packages (from tensorflow) (1.13.3)\n",
      "Requirement already satisfied: keras<2.8,>=2.7.0rc0 in /home/liana/.local/lib/python3.8/site-packages (from tensorflow) (2.7.0)\n",
      "Requirement already satisfied: typing-extensions>=3.6.6 in /home/liana/.local/lib/python3.8/site-packages (from tensorflow) (4.0.0)\n",
      "Requirement already satisfied: tensorboard-plugin-wit>=1.6.0 in /home/liana/.local/lib/python3.8/site-packages (from tensorboard~=2.6->tensorflow) (1.8.0)\n",
      "Requirement already satisfied: setuptools>=41.0.0 in /home/liana/.local/lib/python3.8/site-packages (from tensorboard~=2.6->tensorflow) (59.2.0)\n",
      "Requirement already satisfied: google-auth<3,>=1.6.3 in /home/liana/.local/lib/python3.8/site-packages (from tensorboard~=2.6->tensorflow) (2.3.3)\n",
      "Requirement already satisfied: requests<3,>=2.21.0 in /usr/lib/python3/dist-packages (from tensorboard~=2.6->tensorflow) (2.22.0)\n",
      "Requirement already satisfied: tensorboard-data-server<0.7.0,>=0.6.0 in /home/liana/.local/lib/python3.8/site-packages (from tensorboard~=2.6->tensorflow) (0.6.1)\n",
      "Requirement already satisfied: werkzeug>=0.11.15 in /home/liana/.local/lib/python3.8/site-packages (from tensorboard~=2.6->tensorflow) (2.0.2)\n",
      "Requirement already satisfied: markdown>=2.6.8 in /home/liana/.local/lib/python3.8/site-packages (from tensorboard~=2.6->tensorflow) (3.3.6)\n",
      "Requirement already satisfied: google-auth-oauthlib<0.5,>=0.4.1 in /home/liana/.local/lib/python3.8/site-packages (from tensorboard~=2.6->tensorflow) (0.4.6)\n",
      "Requirement already satisfied: rsa<5,>=3.1.4; python_version >= \"3.6\" in /home/liana/.local/lib/python3.8/site-packages (from google-auth<3,>=1.6.3->tensorboard~=2.6->tensorflow) (4.7.2)\n",
      "Requirement already satisfied: pyasn1-modules>=0.2.1 in /usr/lib/python3/dist-packages (from google-auth<3,>=1.6.3->tensorboard~=2.6->tensorflow) (0.2.1)\n",
      "Requirement already satisfied: cachetools<5.0,>=2.0.0 in /home/liana/.local/lib/python3.8/site-packages (from google-auth<3,>=1.6.3->tensorboard~=2.6->tensorflow) (4.2.4)\n",
      "Requirement already satisfied: importlib-metadata>=4.4; python_version < \"3.10\" in /home/liana/.local/lib/python3.8/site-packages (from markdown>=2.6.8->tensorboard~=2.6->tensorflow) (4.8.2)\n",
      "Requirement already satisfied: requests-oauthlib>=0.7.0 in /home/liana/.local/lib/python3.8/site-packages (from google-auth-oauthlib<0.5,>=0.4.1->tensorboard~=2.6->tensorflow) (1.3.0)\n",
      "Requirement already satisfied: pyasn1>=0.1.3 in /usr/lib/python3/dist-packages (from rsa<5,>=3.1.4; python_version >= \"3.6\"->google-auth<3,>=1.6.3->tensorboard~=2.6->tensorflow) (0.4.2)\n",
      "Requirement already satisfied: zipp>=0.5 in /usr/lib/python3/dist-packages (from importlib-metadata>=4.4; python_version < \"3.10\"->markdown>=2.6.8->tensorboard~=2.6->tensorflow) (1.0.0)\n",
      "Requirement already satisfied: oauthlib>=3.0.0 in /usr/lib/python3/dist-packages (from requests-oauthlib>=0.7.0->google-auth-oauthlib<0.5,>=0.4.1->tensorboard~=2.6->tensorflow) (3.1.0)\n",
      "Requirement already satisfied: keras in /home/liana/.local/lib/python3.8/site-packages (2.7.0)\n"
     ]
    }
   ],
   "source": [
    "!pip install tensorflow\n",
    "!pip install keras"
   ]
  },
  {
   "cell_type": "markdown",
   "metadata": {},
   "source": [
    "### Import Libraries"
   ]
  },
  {
   "cell_type": "code",
   "execution_count": 47,
   "metadata": {},
   "outputs": [],
   "source": [
    "import pandas as pd\n",
    "import numpy as np\n",
    "import tensorflow as tf\n",
    "from keras.models import Sequential\n",
    "import matplotlib.pyplot as plt\n",
    "from keras.layers import Dense\n",
    "from sklearn.metrics import r2_score\n",
    "from sklearn.preprocessing import StandardScaler"
   ]
  },
  {
   "cell_type": "markdown",
   "metadata": {},
   "source": [
    "### Loading Data"
   ]
  },
  {
   "cell_type": "code",
   "execution_count": 48,
   "metadata": {},
   "outputs": [],
   "source": [
    "# Cleaned dataset with no outliers\n",
    "X_train_no = pd.read_csv('../dataset/no_outliers/X_train.csv')\n",
    "X_test_no = pd.read_csv('../dataset/no_outliers/X_test.csv')\n",
    "y_train_no = pd.read_csv('../dataset/no_outliers/y_train.csv')\n",
    "y_test_no = pd.read_csv('../dataset/no_outliers/y_test.csv')\n",
    "\n",
    "# Uncleaned original data\n",
    "X_train_with = pd.read_csv('../dataset/with_outliers/X_train.csv')\n",
    "X_test_with = pd.read_csv('../dataset/with_outliers/X_test.csv')\n",
    "y_train_with = pd.read_csv('../dataset/with_outliers/y_train.csv')\n",
    "y_test_with = pd.read_csv('../dataset/with_outliers/y_test.csv')"
   ]
  },
  {
   "cell_type": "code",
   "execution_count": 49,
   "metadata": {},
   "outputs": [
    {
     "name": "stdout",
     "output_type": "stream",
     "text": [
      "(578, 9) (578, 1) (145, 9) (145, 1)\n"
     ]
    }
   ],
   "source": [
    "def standardise_data(X_train, y_train, X_test, y_test):\n",
    "    X_scaler = StandardScaler()\n",
    "    y_scaler = StandardScaler()\n",
    "\n",
    "    # Scale data to standardise data values\n",
    "    X_train_trans = X_scaler.fit_transform(X_train)\n",
    "    y_train_trans = y_scaler.fit_transform(y_train)\n",
    "    X_test_trans = X_scaler.transform(X_test)\n",
    "    y_test_trans = y_scaler.transform(y_test)\n",
    "    \n",
    "    print(X_train_trans.shape, y_train_trans.shape, X_test_trans.shape, y_test_trans.shape)\n",
    "\n",
    "    return X_scaler, y_scaler, X_train_trans, y_train_trans, X_test_trans, y_test_trans\n",
    "\n",
    "X_scaler_no, y_scaler_no, X_train_no_trans, y_train_no_trans, X_test_no_trans, y_test_no_trans = standardise_data(X_train_no, y_train_no, X_test_no, y_test_no)"
   ]
  },
  {
   "cell_type": "markdown",
   "metadata": {},
   "source": [
    "## Training\n",
    "\n",
    "Using a layer with 5 neurons, with 9 input dimensions of normal weight, using relu activation function. Batch size is 20 and training epochs are 50."
   ]
  },
  {
   "cell_type": "code",
   "execution_count": 50,
   "metadata": {},
   "outputs": [
    {
     "name": "stdout",
     "output_type": "stream",
     "text": [
      "Epoch 1/50\n",
      "29/29 [==============================] - 0s 1ms/step - loss: 0.9996 - mse: 0.9996 - mae: 0.8138\n",
      "Epoch 2/50\n",
      "29/29 [==============================] - 0s 851us/step - loss: 0.9928 - mse: 0.9928 - mae: 0.8109\n",
      "Epoch 3/50\n",
      "29/29 [==============================] - 0s 937us/step - loss: 0.9580 - mse: 0.9580 - mae: 0.7961\n",
      "Epoch 4/50\n",
      "29/29 [==============================] - 0s 823us/step - loss: 0.8489 - mse: 0.8489 - mae: 0.7473\n",
      "Epoch 5/50\n",
      "29/29 [==============================] - 0s 875us/step - loss: 0.6563 - mse: 0.6563 - mae: 0.6553\n",
      "Epoch 6/50\n",
      "29/29 [==============================] - 0s 929us/step - loss: 0.4537 - mse: 0.4537 - mae: 0.5435\n",
      "Epoch 7/50\n",
      "29/29 [==============================] - 0s 770us/step - loss: 0.3144 - mse: 0.3144 - mae: 0.4495\n",
      "Epoch 8/50\n",
      "29/29 [==============================] - 0s 906us/step - loss: 0.2486 - mse: 0.2486 - mae: 0.3933\n",
      "Epoch 9/50\n",
      "29/29 [==============================] - 0s 806us/step - loss: 0.2230 - mse: 0.2230 - mae: 0.3639\n",
      "Epoch 10/50\n",
      "29/29 [==============================] - 0s 928us/step - loss: 0.2108 - mse: 0.2108 - mae: 0.3493\n",
      "Epoch 11/50\n",
      "29/29 [==============================] - 0s 875us/step - loss: 0.2018 - mse: 0.2018 - mae: 0.3402\n",
      "Epoch 12/50\n",
      "29/29 [==============================] - 0s 867us/step - loss: 0.1954 - mse: 0.1954 - mae: 0.3338\n",
      "Epoch 13/50\n",
      "29/29 [==============================] - 0s 839us/step - loss: 0.1888 - mse: 0.1888 - mae: 0.3284\n",
      "Epoch 14/50\n",
      "29/29 [==============================] - 0s 930us/step - loss: 0.1843 - mse: 0.1843 - mae: 0.3243\n",
      "Epoch 15/50\n",
      "29/29 [==============================] - 0s 874us/step - loss: 0.1793 - mse: 0.1793 - mae: 0.3191\n",
      "Epoch 16/50\n",
      "29/29 [==============================] - 0s 865us/step - loss: 0.1752 - mse: 0.1752 - mae: 0.3161\n",
      "Epoch 17/50\n",
      "29/29 [==============================] - 0s 928us/step - loss: 0.1711 - mse: 0.1711 - mae: 0.3122\n",
      "Epoch 18/50\n",
      "29/29 [==============================] - 0s 1ms/step - loss: 0.1671 - mse: 0.1671 - mae: 0.3090\n",
      "Epoch 19/50\n",
      "29/29 [==============================] - 0s 1ms/step - loss: 0.1641 - mse: 0.1641 - mae: 0.3051\n",
      "Epoch 20/50\n",
      "29/29 [==============================] - 0s 840us/step - loss: 0.1602 - mse: 0.1602 - mae: 0.3015\n",
      "Epoch 21/50\n",
      "29/29 [==============================] - 0s 922us/step - loss: 0.1579 - mse: 0.1579 - mae: 0.2985\n",
      "Epoch 22/50\n",
      "29/29 [==============================] - 0s 883us/step - loss: 0.1568 - mse: 0.1568 - mae: 0.2989\n",
      "Epoch 23/50\n",
      "29/29 [==============================] - 0s 825us/step - loss: 0.1529 - mse: 0.1529 - mae: 0.2931\n",
      "Epoch 24/50\n",
      "29/29 [==============================] - 0s 930us/step - loss: 0.1512 - mse: 0.1512 - mae: 0.2908\n",
      "Epoch 25/50\n",
      "29/29 [==============================] - 0s 839us/step - loss: 0.1496 - mse: 0.1496 - mae: 0.2897\n",
      "Epoch 26/50\n",
      "29/29 [==============================] - 0s 844us/step - loss: 0.1482 - mse: 0.1482 - mae: 0.2882\n",
      "Epoch 27/50\n",
      "29/29 [==============================] - 0s 919us/step - loss: 0.1473 - mse: 0.1473 - mae: 0.2872\n",
      "Epoch 28/50\n",
      "29/29 [==============================] - 0s 818us/step - loss: 0.1456 - mse: 0.1456 - mae: 0.2850\n",
      "Epoch 29/50\n",
      "29/29 [==============================] - 0s 838us/step - loss: 0.1447 - mse: 0.1447 - mae: 0.2851\n",
      "Epoch 30/50\n",
      "29/29 [==============================] - 0s 880us/step - loss: 0.1437 - mse: 0.1437 - mae: 0.2831\n",
      "Epoch 31/50\n",
      "29/29 [==============================] - 0s 874us/step - loss: 0.1430 - mse: 0.1430 - mae: 0.2820\n",
      "Epoch 32/50\n",
      "29/29 [==============================] - 0s 797us/step - loss: 0.1419 - mse: 0.1419 - mae: 0.2817\n",
      "Epoch 33/50\n",
      "29/29 [==============================] - 0s 901us/step - loss: 0.1415 - mse: 0.1415 - mae: 0.2803\n",
      "Epoch 34/50\n",
      "29/29 [==============================] - 0s 937us/step - loss: 0.1408 - mse: 0.1408 - mae: 0.2798\n",
      "Epoch 35/50\n",
      "29/29 [==============================] - 0s 792us/step - loss: 0.1407 - mse: 0.1407 - mae: 0.2810\n",
      "Epoch 36/50\n",
      "29/29 [==============================] - 0s 913us/step - loss: 0.1394 - mse: 0.1394 - mae: 0.2788\n",
      "Epoch 37/50\n",
      "29/29 [==============================] - 0s 843us/step - loss: 0.1391 - mse: 0.1391 - mae: 0.2779\n",
      "Epoch 38/50\n",
      "29/29 [==============================] - 0s 807us/step - loss: 0.1380 - mse: 0.1380 - mae: 0.2773\n",
      "Epoch 39/50\n",
      "29/29 [==============================] - 0s 898us/step - loss: 0.1375 - mse: 0.1375 - mae: 0.2773\n",
      "Epoch 40/50\n",
      "29/29 [==============================] - 0s 801us/step - loss: 0.1365 - mse: 0.1365 - mae: 0.2748\n",
      "Epoch 41/50\n",
      "29/29 [==============================] - 0s 861us/step - loss: 0.1358 - mse: 0.1358 - mae: 0.2757\n",
      "Epoch 42/50\n",
      "29/29 [==============================] - 0s 910us/step - loss: 0.1349 - mse: 0.1349 - mae: 0.2727\n",
      "Epoch 43/50\n",
      "29/29 [==============================] - 0s 854us/step - loss: 0.1336 - mse: 0.1336 - mae: 0.2726\n",
      "Epoch 44/50\n",
      "29/29 [==============================] - 0s 807us/step - loss: 0.1328 - mse: 0.1328 - mae: 0.2725\n",
      "Epoch 45/50\n",
      "29/29 [==============================] - 0s 867us/step - loss: 0.1322 - mse: 0.1322 - mae: 0.2703\n",
      "Epoch 46/50\n",
      "29/29 [==============================] - 0s 877us/step - loss: 0.1321 - mse: 0.1321 - mae: 0.2719\n",
      "Epoch 47/50\n",
      "29/29 [==============================] - 0s 839us/step - loss: 0.1319 - mse: 0.1319 - mae: 0.2675\n",
      "Epoch 48/50\n",
      "29/29 [==============================] - 0s 875us/step - loss: 0.1300 - mse: 0.1300 - mae: 0.2697\n",
      "Epoch 49/50\n",
      "29/29 [==============================] - 0s 783us/step - loss: 0.1300 - mse: 0.1300 - mae: 0.2681\n",
      "Epoch 50/50\n",
      "29/29 [==============================] - 0s 1ms/step - loss: 0.1293 - mse: 0.1293 - mae: 0.2692\n"
     ]
    }
   ],
   "source": [
    "def create_seq_model():\n",
    "    model = Sequential()\n",
    "\n",
    "    # Defining the input layer and first hidden layer\n",
    "    model.add(Dense(units=5, input_dim=9, kernel_initializer='normal', activation='relu'))\n",
    "\n",
    "    # Defining the second layer of the model\n",
    "    model.add(Dense(units=5, kernel_initializer='normal', activation='tanh'))\n",
    "\n",
    "    # The output neuron is a single fully connected node as only a single number is predicted\n",
    "    model.add(Dense(1, kernel_initializer='normal'))\n",
    "\n",
    "    # Compiling the model\n",
    "    model.compile(loss='mse', optimizer='adam', metrics=['mse', 'mae'])\n",
    "\n",
    "    return model\n",
    "\n",
    "def train_model(model, X_train, y_train):\n",
    "    # Fitting the ANN to the training data\n",
    "    model.fit(X_train, y_train, batch_size=20, epochs=50, verbose=1)\n",
    "\n",
    "    return model\n",
    "\n",
    "model_no = create_seq_model()\n",
    "model_no = train_model(model_no, X_train_no_trans, y_train_no_trans)"
   ]
  },
  {
   "cell_type": "markdown",
   "metadata": {},
   "source": [
    "## Hyperparameter Tuning\n",
    "\n",
    "To find the best accuracy with the minimum number of layers/neurons."
   ]
  },
  {
   "cell_type": "markdown",
   "metadata": {},
   "source": [
    "### Grid Search\n",
    "\n",
    "Mean Square Error (MSE) is used with the formula `(sum of all (y_true - y_pred)^2)/total number of y_true`"
   ]
  },
  {
   "cell_type": "code",
   "execution_count": 51,
   "metadata": {},
   "outputs": [
    {
     "name": "stdout",
     "output_type": "stream",
     "text": [
      "1 Parameters: batch_size: 5 - Epochs: 5 MSE: 0.18868188385425078\n",
      "2 Parameters: batch_size: 5 - Epochs: 10 MSE: 0.1683946006445905\n",
      "3 Parameters: batch_size: 5 - Epochs: 50 MSE: 0.11697317051978914\n",
      "4 Parameters: batch_size: 5 - Epochs: 100 MSE: 0.12777619040696478\n",
      "5 Parameters: batch_size: 10 - Epochs: 5 MSE: 0.32857530275655283\n",
      "6 Parameters: batch_size: 10 - Epochs: 10 MSE: 0.18111057596062158\n",
      "7 Parameters: batch_size: 10 - Epochs: 50 MSE: 0.1574689012836356\n",
      "8 Parameters: batch_size: 10 - Epochs: 100 MSE: 0.11375812369318465\n",
      "9 Parameters: batch_size: 15 - Epochs: 5 MSE: 0.4699701605274497\n",
      "10 Parameters: batch_size: 15 - Epochs: 10 MSE: 0.2056974191721129\n",
      "11 Parameters: batch_size: 15 - Epochs: 50 MSE: 0.13633110362610576\n",
      "12 Parameters: batch_size: 15 - Epochs: 100 MSE: 0.13204566619481575\n",
      "13 Parameters: batch_size: 20 - Epochs: 5 MSE: 0.7736067408150284\n",
      "14 Parameters: batch_size: 20 - Epochs: 10 MSE: 0.5824828585867802\n",
      "15 Parameters: batch_size: 20 - Epochs: 50 MSE: 0.14285528004405834\n",
      "16 Parameters: batch_size: 20 - Epochs: 100 MSE: 0.1438879492129092\n"
     ]
    }
   ],
   "source": [
    "# Find the best parameters for ANN\n",
    "def find_best_params(X_train, y_train, X_test, y_test):\n",
    "    \n",
    "    # Defining the list of hyper parameters to try\n",
    "    batch_size_list = [5, 10, 15, 20]\n",
    "    epoch_list = [5, 10, 50, 100]\n",
    "\n",
    "    results = pd.DataFrame(columns=['trial_num', 'param', 'accuracy'])\n",
    "    \n",
    "    # Initialising the trials\n",
    "    trial_number = 0\n",
    "    for batch_size_trial in batch_size_list:\n",
    "        for epochs_trial in epoch_list:\n",
    "            trial_number += 1\n",
    "            # Create ANN model\n",
    "            model = Sequential()\n",
    "\n",
    "            # Defining the first layer of the model\n",
    "            model.add(Dense(units=5, input_dim=X_train.shape[1], kernel_initializer='normal', activation='relu'))\n",
    "\n",
    "            # Defining the second layer of the model\n",
    "            model.add(Dense(units=5, kernel_initializer='normal', activation='relu'))\n",
    "\n",
    "            # Output neuron\n",
    "            model.add(Dense(1, kernel_initializer='normal'))\n",
    "\n",
    "            # Compiling the model\n",
    "            model.compile(loss='mean_squared_error', optimizer='adam')\n",
    "\n",
    "            # Fitting the ANN to the Training set\n",
    "            model.fit(X_train, y_train ,batch_size = batch_size_trial, epochs = epochs_trial, verbose=0)\n",
    "\n",
    "            pred = model.predict(X_test)\n",
    "\n",
    "            MSE = 0\n",
    "            for i in range(y_test.shape[0]):\n",
    "                MSE += (y_test[i,0] - pred[i][0])**2\n",
    "\n",
    "            MSE /= y_test.shape[0]\n",
    "            \n",
    "            # Printing the results of the current iteration\n",
    "            print(trial_number, 'Parameters:','batch_size:', batch_size_trial,'-', 'Epochs:',epochs_trial, 'MSE:', MSE)\n",
    "            \n",
    "            results = results.append(pd.DataFrame(data=[[trial_number, str(batch_size_trial)+'-'+str(epochs_trial), MSE]], columns=['trial_num', 'param', 'mse'] ))\n",
    "\n",
    "    return(results)\n",
    "\n",
    "results_no = find_best_params(X_train_no_trans, y_train_no_trans, X_test_no_trans, y_test_no_trans)"
   ]
  },
  {
   "cell_type": "markdown",
   "metadata": {},
   "source": [
    "### Plotting Results"
   ]
  },
  {
   "cell_type": "code",
   "execution_count": 52,
   "metadata": {},
   "outputs": [
    {
     "data": {
      "image/png": "[encoded data removed]",
      "text/plain": [
       "<Figure size 1008x432 with 1 Axes>"
      ]
     },
     "metadata": {
      "needs_background": "light"
     },
     "output_type": "display_data"
    }
   ],
   "source": [
    "def plot_bar_chart(results):\n",
    "    plt.figure(figsize=(14,6))\n",
    "    colors = ['pink' if result != min(results['mse']) else 'purple' for result in results['mse']]\n",
    "    plt.bar(results['param'], height=results['mse'], color=colors)\n",
    "    # plt.axhline(y=1.0, color='purple', linestyle='-')\n",
    "    for a, b in zip([x for x in range(len(results['mse']))], round(results['mse'], 5)):\n",
    "        plt.text(a, b, str(b), color='black')\n",
    "    plt.show()\n",
    "\n",
    "plot_bar_chart(results_no)"
   ]
  },
  {
   "cell_type": "markdown",
   "metadata": {},
   "source": [
    "For MSE, a lower value is better. From the graph above, it can be known that the best hyperparameters are `batch_size` = 10 and `epochs` = 100."
   ]
  },
  {
   "cell_type": "code",
   "execution_count": 60,
   "metadata": {},
   "outputs": [],
   "source": [
    "def evaluate_model(test_data):\n",
    "    # Sum of squared error\n",
    "    test_data['SE'] = (test_data['count'] - test_data['pred_count'])**2\n",
    "    r2 = r2_score(test_data['count'], test_data['pred_count'])\n",
    "\n",
    "    print(test_data.head())\n",
    "\n",
    "    print(\"r2: \", r2)\n",
    "    print(\"MSE: \", np.mean(test_data['SE']))"
   ]
  },
  {
   "cell_type": "code",
   "execution_count": 61,
   "metadata": {},
   "outputs": [
    {
     "name": "stdout",
     "output_type": "stream",
     "text": [
      "     season      year     month  holiday   weekday   weather  temperature  \\\n",
      "0  0.449189  1.003466  0.147272 -0.16873 -1.505757 -0.736674     1.234309   \n",
      "1 -0.461798  1.003466 -0.439786 -0.16873  0.493847 -0.736674     0.533490   \n",
      "2  0.449189  1.003466  0.440802 -0.16873  0.993748  1.090784     1.475494   \n",
      "3 -0.461798  1.003466 -0.733315 -0.16873  0.993748 -0.736674    -0.504081   \n",
      "4  1.360175  1.003466  1.321389 -0.16873 -1.005856 -0.736674    -0.963703   \n",
      "\n",
      "   humidity  windspeed     count  pred_count        SE  \n",
      "0 -0.028125  -0.246866  1.095397    1.093887  0.000002  \n",
      "1 -0.761407   0.529099  1.506397    1.486071  0.000413  \n",
      "2  0.104396   0.349382  1.397250    1.041020  0.126899  \n",
      "3 -1.771513   1.460496  1.023851    0.552350  0.222313  \n",
      "4 -0.943989   0.619070  0.396644    0.286113  0.012217  \n",
      "r2:  0.9049814780589727\n",
      "MSE:  0.10847355103362535\n"
     ]
    }
   ],
   "source": [
    "# Fine-tune hyperparameters\n",
    "def fine_tune_model(model, batch_size, epochs, X_scaler, y_scaler, X_train_trans, y_train_trans, X_test_trans, y_test_trans, columns):\n",
    "    model.fit(X_train_trans, y_train_trans, batch_size=batch_size, epochs=epochs, verbose=0)\n",
    "\n",
    "    pred = model.predict(X_test_trans)\n",
    "\n",
    "    test_data_scaled = pd.DataFrame(data=X_test_trans, columns=columns)\n",
    "    test_data_scaled['count'] = y_test_trans\n",
    "    test_data_scaled['pred_count'] = pred\n",
    "    evaluate_model(test_data_scaled)\n",
    "\n",
    "    # Scale predictions\n",
    "    pred = y_scaler.inverse_transform(pred)\n",
    "\n",
    "    # Scale back to original\n",
    "    y_test = y_scaler.inverse_transform(y_test_trans)\n",
    "    X_test = X_scaler.inverse_transform(X_test_trans)\n",
    "\n",
    "    test_data = pd.DataFrame(data=X_test, columns=columns)\n",
    "    test_data['count'] = y_test\n",
    "    test_data['pred_count'] = pred\n",
    "    # print(test_data.head())\n",
    "\n",
    "    return test_data\n",
    "\n",
    "test_data_no = fine_tune_model(\n",
    "        model=model_no,\n",
    "        batch_size=10,\n",
    "        epochs=100,\n",
    "        X_scaler=X_scaler_no,\n",
    "        y_scaler=y_scaler_no,\n",
    "        X_train_trans=X_train_no_trans,\n",
    "        y_train_trans=y_train_no_trans,\n",
    "        X_test_trans=X_test_no_trans,\n",
    "        y_test_trans=y_test_no_trans,\n",
    "        columns=X_test_no.columns\n",
    "    )"
   ]
  },
  {
   "cell_type": "code",
   "execution_count": 62,
   "metadata": {},
   "outputs": [
    {
     "name": "stdout",
     "output_type": "stream",
     "text": [
      "Model: \"sequential_39\"\n",
      "_________________________________________________________________\n",
      " Layer (type)                Output Shape              Param #   \n",
      "=================================================================\n",
      " dense_117 (Dense)           (None, 5)                 50        \n",
      "                                                                 \n",
      " dense_118 (Dense)           (None, 5)                 30        \n",
      "                                                                 \n",
      " dense_119 (Dense)           (None, 1)                 6         \n",
      "                                                                 \n",
      "=================================================================\n",
      "Total params: 86\n",
      "Trainable params: 86\n",
      "Non-trainable params: 0\n",
      "_________________________________________________________________\n"
     ]
    }
   ],
   "source": [
    "model_no.summary()"
   ]
  },
  {
   "cell_type": "markdown",
   "metadata": {},
   "source": [
    "## Using Data With Outliers"
   ]
  },
  {
   "cell_type": "code",
   "execution_count": 63,
   "metadata": {},
   "outputs": [
    {
     "name": "stdout",
     "output_type": "stream",
     "text": [
      "(584, 9) (584, 1) (147, 9) (147, 1)\n"
     ]
    }
   ],
   "source": [
    "X_scaler_with, y_scaler_with, X_train_with_trans, y_train_with_trans, X_test_with_trans, y_test_with_trans = standardise_data(X_train_with, y_train_with, X_test_with, y_test_with)"
   ]
  },
  {
   "cell_type": "code",
   "execution_count": 64,
   "metadata": {},
   "outputs": [
    {
     "name": "stdout",
     "output_type": "stream",
     "text": [
      "Epoch 1/50\n",
      "30/30 [==============================] - 0s 2ms/step - loss: 0.9957 - mse: 0.9957 - mae: 0.8141\n",
      "Epoch 2/50\n",
      "30/30 [==============================] - 0s 1ms/step - loss: 0.9747 - mse: 0.9747 - mae: 0.8055\n",
      "Epoch 3/50\n",
      "30/30 [==============================] - 0s 992us/step - loss: 0.9106 - mse: 0.9106 - mae: 0.7780\n",
      "Epoch 4/50\n",
      "30/30 [==============================] - 0s 916us/step - loss: 0.7709 - mse: 0.7709 - mae: 0.7149\n",
      "Epoch 5/50\n",
      "30/30 [==============================] - 0s 1ms/step - loss: 0.5765 - mse: 0.5765 - mae: 0.6166\n",
      "Epoch 6/50\n",
      "30/30 [==============================] - 0s 1ms/step - loss: 0.4034 - mse: 0.4034 - mae: 0.5120\n",
      "Epoch 7/50\n",
      "30/30 [==============================] - 0s 1ms/step - loss: 0.2918 - mse: 0.2918 - mae: 0.4275\n",
      "Epoch 8/50\n",
      "30/30 [==============================] - 0s 981us/step - loss: 0.2382 - mse: 0.2382 - mae: 0.3758\n",
      "Epoch 9/50\n",
      "30/30 [==============================] - 0s 841us/step - loss: 0.2140 - mse: 0.2140 - mae: 0.3494\n",
      "Epoch 10/50\n",
      "30/30 [==============================] - 0s 799us/step - loss: 0.2024 - mse: 0.2024 - mae: 0.3366\n",
      "Epoch 11/50\n",
      "30/30 [==============================] - 0s 852us/step - loss: 0.1936 - mse: 0.1936 - mae: 0.3287\n",
      "Epoch 12/50\n",
      "30/30 [==============================] - 0s 940us/step - loss: 0.1854 - mse: 0.1854 - mae: 0.3220\n",
      "Epoch 13/50\n",
      "30/30 [==============================] - 0s 801us/step - loss: 0.1783 - mse: 0.1783 - mae: 0.3164\n",
      "Epoch 14/50\n",
      "30/30 [==============================] - 0s 989us/step - loss: 0.1720 - mse: 0.1720 - mae: 0.3113\n",
      "Epoch 15/50\n",
      "30/30 [==============================] - 0s 865us/step - loss: 0.1650 - mse: 0.1650 - mae: 0.3039\n",
      "Epoch 16/50\n",
      "30/30 [==============================] - 0s 968us/step - loss: 0.1598 - mse: 0.1598 - mae: 0.2990\n",
      "Epoch 17/50\n",
      "30/30 [==============================] - 0s 791us/step - loss: 0.1552 - mse: 0.1552 - mae: 0.2943\n",
      "Epoch 18/50\n",
      "30/30 [==============================] - 0s 875us/step - loss: 0.1509 - mse: 0.1509 - mae: 0.2903\n",
      "Epoch 19/50\n",
      "30/30 [==============================] - 0s 895us/step - loss: 0.1475 - mse: 0.1475 - mae: 0.2859\n",
      "Epoch 20/50\n",
      "30/30 [==============================] - 0s 1ms/step - loss: 0.1442 - mse: 0.1442 - mae: 0.2824\n",
      "Epoch 21/50\n",
      "30/30 [==============================] - 0s 1ms/step - loss: 0.1408 - mse: 0.1408 - mae: 0.2787\n",
      "Epoch 22/50\n",
      "30/30 [==============================] - 0s 1ms/step - loss: 0.1384 - mse: 0.1384 - mae: 0.2756\n",
      "Epoch 23/50\n",
      "30/30 [==============================] - 0s 2ms/step - loss: 0.1364 - mse: 0.1364 - mae: 0.2735\n",
      "Epoch 24/50\n",
      "30/30 [==============================] - 0s 1ms/step - loss: 0.1350 - mse: 0.1350 - mae: 0.2750\n",
      "Epoch 25/50\n",
      "30/30 [==============================] - 0s 1ms/step - loss: 0.1327 - mse: 0.1327 - mae: 0.2702\n",
      "Epoch 26/50\n",
      "30/30 [==============================] - 0s 982us/step - loss: 0.1306 - mse: 0.1306 - mae: 0.2687\n",
      "Epoch 27/50\n",
      "30/30 [==============================] - 0s 952us/step - loss: 0.1291 - mse: 0.1291 - mae: 0.2653\n",
      "Epoch 28/50\n",
      "30/30 [==============================] - 0s 1ms/step - loss: 0.1278 - mse: 0.1278 - mae: 0.2640\n",
      "Epoch 29/50\n",
      "30/30 [==============================] - 0s 952us/step - loss: 0.1270 - mse: 0.1270 - mae: 0.2626\n",
      "Epoch 30/50\n",
      "30/30 [==============================] - 0s 1ms/step - loss: 0.1256 - mse: 0.1256 - mae: 0.2624\n",
      "Epoch 31/50\n",
      "30/30 [==============================] - 0s 1ms/step - loss: 0.1243 - mse: 0.1243 - mae: 0.2617\n",
      "Epoch 32/50\n",
      "30/30 [==============================] - 0s 1ms/step - loss: 0.1234 - mse: 0.1234 - mae: 0.2608\n",
      "Epoch 33/50\n",
      "30/30 [==============================] - 0s 1ms/step - loss: 0.1230 - mse: 0.1230 - mae: 0.2602\n",
      "Epoch 34/50\n",
      "30/30 [==============================] - 0s 1ms/step - loss: 0.1225 - mse: 0.1225 - mae: 0.2617\n",
      "Epoch 35/50\n",
      "30/30 [==============================] - 0s 1ms/step - loss: 0.1216 - mse: 0.1216 - mae: 0.2586\n",
      "Epoch 36/50\n",
      "30/30 [==============================] - 0s 1ms/step - loss: 0.1214 - mse: 0.1214 - mae: 0.2582\n",
      "Epoch 37/50\n",
      "30/30 [==============================] - 0s 2ms/step - loss: 0.1205 - mse: 0.1205 - mae: 0.2576\n",
      "Epoch 38/50\n",
      "30/30 [==============================] - 0s 2ms/step - loss: 0.1199 - mse: 0.1199 - mae: 0.2552\n",
      "Epoch 39/50\n",
      "30/30 [==============================] - 0s 1ms/step - loss: 0.1197 - mse: 0.1197 - mae: 0.2564\n",
      "Epoch 40/50\n",
      "30/30 [==============================] - 0s 2ms/step - loss: 0.1196 - mse: 0.1196 - mae: 0.2571\n",
      "Epoch 41/50\n",
      "30/30 [==============================] - 0s 3ms/step - loss: 0.1186 - mse: 0.1186 - mae: 0.2539\n",
      "Epoch 42/50\n",
      "30/30 [==============================] - 0s 2ms/step - loss: 0.1189 - mse: 0.1189 - mae: 0.2558\n",
      "Epoch 43/50\n",
      "30/30 [==============================] - 0s 3ms/step - loss: 0.1186 - mse: 0.1186 - mae: 0.2542\n",
      "Epoch 44/50\n",
      "30/30 [==============================] - 0s 3ms/step - loss: 0.1179 - mse: 0.1179 - mae: 0.2555\n",
      "Epoch 45/50\n",
      "30/30 [==============================] - 0s 3ms/step - loss: 0.1177 - mse: 0.1177 - mae: 0.2541\n",
      "Epoch 46/50\n",
      "30/30 [==============================] - 0s 3ms/step - loss: 0.1171 - mse: 0.1171 - mae: 0.2521\n",
      "Epoch 47/50\n",
      "30/30 [==============================] - 0s 4ms/step - loss: 0.1165 - mse: 0.1165 - mae: 0.2533\n",
      "Epoch 48/50\n",
      "30/30 [==============================] - 0s 1ms/step - loss: 0.1175 - mse: 0.1175 - mae: 0.2561\n",
      "Epoch 49/50\n",
      "30/30 [==============================] - 0s 917us/step - loss: 0.1176 - mse: 0.1176 - mae: 0.2517\n",
      "Epoch 50/50\n",
      "30/30 [==============================] - 0s 979us/step - loss: 0.1161 - mse: 0.1161 - mae: 0.2543\n"
     ]
    }
   ],
   "source": [
    "model_with = create_seq_model()\n",
    "model_with = train_model(model_with, X_train_with_trans, y_train_with_trans)"
   ]
  },
  {
   "cell_type": "markdown",
   "metadata": {},
   "source": [
    "The same `batch_size` and `epochs` are used for accuracy comparison."
   ]
  },
  {
   "cell_type": "code",
   "execution_count": 65,
   "metadata": {},
   "outputs": [
    {
     "name": "stdout",
     "output_type": "stream",
     "text": [
      "     season      year     month   holiday   weekday   weather  temperature  \\\n",
      "0  0.441688 -0.993174  0.131722 -0.167836  1.508537 -0.720359     1.060122   \n",
      "1  0.441688 -0.993174  0.131722 -0.167836  0.502271 -0.720359     1.404064   \n",
      "2 -1.362130 -0.993174 -1.603446 -0.167836  1.508537  1.141100    -1.401794   \n",
      "3 -1.362130 -0.993174 -1.314251 -0.167836 -0.503995  1.141100    -1.625316   \n",
      "4 -1.362130  1.006873 -1.603446 -0.167836  0.502271  1.141100    -0.813466   \n",
      "\n",
      "   humidity  windspeed     count  pred_count        SE  \n",
      "0 -0.276179   0.246691  0.750388    0.313951  0.190477  \n",
      "1  0.196746  -0.396460  0.050831    0.076471  0.000657  \n",
      "2 -0.891873  -0.412649 -1.706735   -1.424517  0.079647  \n",
      "3  1.469644  -1.783575 -1.647869   -1.818341  0.029061  \n",
      "4  1.041464  -1.519431 -0.220898   -0.254788  0.001149  \n",
      "r2:  0.8852795834404821\n",
      "MSE:  0.13478485437745777\n"
     ]
    }
   ],
   "source": [
    "test_data_with = fine_tune_model(\n",
    "    model=model_with,\n",
    "    batch_size=10,\n",
    "    epochs=100,\n",
    "    X_scaler=X_scaler_with,\n",
    "    y_scaler=y_scaler_with,\n",
    "    X_train_trans=X_train_with_trans,\n",
    "    y_train_trans=y_train_with_trans,\n",
    "    X_test_trans=X_test_with_trans,\n",
    "    y_test_trans=y_test_with_trans,\n",
    "    columns=X_test_with.columns,\n",
    ")"
   ]
  },
  {
   "cell_type": "code",
   "execution_count": 66,
   "metadata": {},
   "outputs": [
    {
     "name": "stdout",
     "output_type": "stream",
     "text": [
      "Model: \"sequential_57\"\n",
      "_________________________________________________________________\n",
      " Layer (type)                Output Shape              Param #   \n",
      "=================================================================\n",
      " dense_171 (Dense)           (None, 5)                 50        \n",
      "                                                                 \n",
      " dense_172 (Dense)           (None, 5)                 30        \n",
      "                                                                 \n",
      " dense_173 (Dense)           (None, 1)                 6         \n",
      "                                                                 \n",
      "=================================================================\n",
      "Total params: 86\n",
      "Trainable params: 86\n",
      "Non-trainable params: 0\n",
      "_________________________________________________________________\n"
     ]
    }
   ],
   "source": [
    "model_with.summary()"
   ]
  },
  {
   "cell_type": "markdown",
   "metadata": {},
   "source": [
    "In conclusion, using cleaned data without outliers would give a higher accuracy than using data with outliers."
   ]
  }
 ],
 "metadata": {
  "interpreter": {
   "hash": "916dbcbb3f70747c44a77c7bcd40155683ae19c65e1c03b4aa3499c5328201f1"
  },
  "kernelspec": {
   "display_name": "Python 3",
   "language": "python",
   "name": "python3"
  },
  "language_info": {
   "codemirror_mode": {
    "name": "ipython",
    "version": 3
   },
   "file_extension": ".py",
   "mimetype": "text/x-python",
   "name": "python",
   "nbconvert_exporter": "python",
   "pygments_lexer": "ipython3",
   "version": "3.8.10"
  }
 },
 "nbformat": 4,
 "nbformat_minor": 2
}
