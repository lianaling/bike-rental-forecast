{
 "cells": [
  {
   "cell_type": "markdown",
   "metadata": {},
   "source": [
    "# Artificial Neural Networks for Regression\n",
    "\n",
    "_By: Ling Li Ya, Liana_"
   ]
  },
  {
   "cell_type": "markdown",
   "metadata": {},
   "source": [
    "## Pre-training Preparation"
   ]
  },
  {
   "cell_type": "markdown",
   "metadata": {},
   "source": [
    "### Installing Dependencies"
   ]
  },
  {
   "cell_type": "code",
   "execution_count": 6,
   "metadata": {},
   "outputs": [
    {
     "name": "stdout",
     "output_type": "stream",
     "text": [
      "Requirement already satisfied: tensorflow in /home/liana/projects/fyp/venv/lib/python3.8/site-packages (2.7.0)\n",
      "Requirement already satisfied: opt-einsum>=2.3.2 in /home/liana/projects/fyp/venv/lib/python3.8/site-packages (from tensorflow) (3.3.0)\n",
      "Requirement already satisfied: google-pasta>=0.1.1 in /home/liana/projects/fyp/venv/lib/python3.8/site-packages (from tensorflow) (0.2.0)\n",
      "Requirement already satisfied: h5py>=2.9.0 in /home/liana/projects/fyp/venv/lib/python3.8/site-packages (from tensorflow) (3.6.0)\n",
      "Requirement already satisfied: typing-extensions>=3.6.6 in /home/liana/projects/fyp/venv/lib/python3.8/site-packages (from tensorflow) (4.0.0)\n",
      "Requirement already satisfied: termcolor>=1.1.0 in /home/liana/projects/fyp/venv/lib/python3.8/site-packages (from tensorflow) (1.1.0)\n",
      "Requirement already satisfied: tensorflow-estimator<2.8,~=2.7.0rc0 in /home/liana/projects/fyp/venv/lib/python3.8/site-packages (from tensorflow) (2.7.0)\n",
      "Requirement already satisfied: six>=1.12.0 in /home/liana/projects/fyp/venv/lib/python3.8/site-packages (from tensorflow) (1.16.0)\n",
      "Requirement already satisfied: keras<2.8,>=2.7.0rc0 in /home/liana/projects/fyp/venv/lib/python3.8/site-packages (from tensorflow) (2.7.0)\n",
      "Requirement already satisfied: flatbuffers<3.0,>=1.12 in /home/liana/projects/fyp/venv/lib/python3.8/site-packages (from tensorflow) (2.0)\n",
      "Requirement already satisfied: protobuf>=3.9.2 in /home/liana/projects/fyp/venv/lib/python3.8/site-packages (from tensorflow) (3.19.1)\n",
      "Requirement already satisfied: tensorboard~=2.6 in /home/liana/projects/fyp/venv/lib/python3.8/site-packages (from tensorflow) (2.7.0)\n",
      "Requirement already satisfied: tensorflow-io-gcs-filesystem>=0.21.0 in /home/liana/projects/fyp/venv/lib/python3.8/site-packages (from tensorflow) (0.22.0)\n",
      "Requirement already satisfied: grpcio<2.0,>=1.24.3 in /home/liana/projects/fyp/venv/lib/python3.8/site-packages (from tensorflow) (1.42.0)\n",
      "Requirement already satisfied: keras-preprocessing>=1.1.1 in /home/liana/projects/fyp/venv/lib/python3.8/site-packages (from tensorflow) (1.1.2)\n",
      "Requirement already satisfied: libclang>=9.0.1 in /home/liana/projects/fyp/venv/lib/python3.8/site-packages (from tensorflow) (12.0.0)\n",
      "Requirement already satisfied: gast<0.5.0,>=0.2.1 in /home/liana/projects/fyp/venv/lib/python3.8/site-packages (from tensorflow) (0.4.0)\n",
      "Requirement already satisfied: astunparse>=1.6.0 in /home/liana/projects/fyp/venv/lib/python3.8/site-packages (from tensorflow) (1.6.3)\n",
      "Requirement already satisfied: absl-py>=0.4.0 in /home/liana/projects/fyp/venv/lib/python3.8/site-packages (from tensorflow) (1.0.0)\n",
      "Requirement already satisfied: wrapt>=1.11.0 in /home/liana/projects/fyp/venv/lib/python3.8/site-packages (from tensorflow) (1.13.3)\n",
      "Requirement already satisfied: numpy>=1.14.5 in /home/liana/projects/fyp/venv/lib/python3.8/site-packages (from tensorflow) (1.21.4)\n",
      "Requirement already satisfied: wheel<1.0,>=0.32.0 in /home/liana/projects/fyp/venv/lib/python3.8/site-packages (from tensorflow) (0.37.0)\n",
      "Requirement already satisfied: werkzeug>=0.11.15 in /home/liana/projects/fyp/venv/lib/python3.8/site-packages (from tensorboard~=2.6->tensorflow) (2.0.2)\n",
      "Requirement already satisfied: google-auth<3,>=1.6.3 in /home/liana/projects/fyp/venv/lib/python3.8/site-packages (from tensorboard~=2.6->tensorflow) (2.3.3)\n",
      "Requirement already satisfied: tensorboard-plugin-wit>=1.6.0 in /home/liana/projects/fyp/venv/lib/python3.8/site-packages (from tensorboard~=2.6->tensorflow) (1.8.0)\n",
      "Requirement already satisfied: setuptools>=41.0.0 in /home/liana/projects/fyp/venv/lib/python3.8/site-packages (from tensorboard~=2.6->tensorflow) (58.3.0)\n",
      "Requirement already satisfied: requests<3,>=2.21.0 in /home/liana/projects/fyp/venv/lib/python3.8/site-packages (from tensorboard~=2.6->tensorflow) (2.26.0)\n",
      "Requirement already satisfied: tensorboard-data-server<0.7.0,>=0.6.0 in /home/liana/projects/fyp/venv/lib/python3.8/site-packages (from tensorboard~=2.6->tensorflow) (0.6.1)\n",
      "Requirement already satisfied: google-auth-oauthlib<0.5,>=0.4.1 in /home/liana/projects/fyp/venv/lib/python3.8/site-packages (from tensorboard~=2.6->tensorflow) (0.4.6)\n",
      "Requirement already satisfied: markdown>=2.6.8 in /home/liana/projects/fyp/venv/lib/python3.8/site-packages (from tensorboard~=2.6->tensorflow) (3.3.6)\n",
      "Requirement already satisfied: cachetools<5.0,>=2.0.0 in /home/liana/projects/fyp/venv/lib/python3.8/site-packages (from google-auth<3,>=1.6.3->tensorboard~=2.6->tensorflow) (4.2.4)\n",
      "Requirement already satisfied: pyasn1-modules>=0.2.1 in /home/liana/projects/fyp/venv/lib/python3.8/site-packages (from google-auth<3,>=1.6.3->tensorboard~=2.6->tensorflow) (0.2.8)\n",
      "Requirement already satisfied: rsa<5,>=3.1.4 in /home/liana/projects/fyp/venv/lib/python3.8/site-packages (from google-auth<3,>=1.6.3->tensorboard~=2.6->tensorflow) (4.8)\n",
      "Requirement already satisfied: requests-oauthlib>=0.7.0 in /home/liana/projects/fyp/venv/lib/python3.8/site-packages (from google-auth-oauthlib<0.5,>=0.4.1->tensorboard~=2.6->tensorflow) (1.3.0)\n",
      "Requirement already satisfied: importlib-metadata>=4.4 in /home/liana/projects/fyp/venv/lib/python3.8/site-packages (from markdown>=2.6.8->tensorboard~=2.6->tensorflow) (4.8.2)\n",
      "Requirement already satisfied: certifi>=2017.4.17 in /home/liana/projects/fyp/venv/lib/python3.8/site-packages (from requests<3,>=2.21.0->tensorboard~=2.6->tensorflow) (2021.10.8)\n",
      "Requirement already satisfied: idna<4,>=2.5 in /home/liana/projects/fyp/venv/lib/python3.8/site-packages (from requests<3,>=2.21.0->tensorboard~=2.6->tensorflow) (3.3)\n",
      "Requirement already satisfied: charset-normalizer~=2.0.0 in /home/liana/projects/fyp/venv/lib/python3.8/site-packages (from requests<3,>=2.21.0->tensorboard~=2.6->tensorflow) (2.0.8)\n",
      "Requirement already satisfied: urllib3<1.27,>=1.21.1 in /home/liana/projects/fyp/venv/lib/python3.8/site-packages (from requests<3,>=2.21.0->tensorboard~=2.6->tensorflow) (1.26.7)\n",
      "Requirement already satisfied: zipp>=0.5 in /home/liana/projects/fyp/venv/lib/python3.8/site-packages (from importlib-metadata>=4.4->markdown>=2.6.8->tensorboard~=2.6->tensorflow) (3.6.0)\n",
      "Requirement already satisfied: pyasn1<0.5.0,>=0.4.6 in /home/liana/projects/fyp/venv/lib/python3.8/site-packages (from pyasn1-modules>=0.2.1->google-auth<3,>=1.6.3->tensorboard~=2.6->tensorflow) (0.4.8)\n",
      "Requirement already satisfied: oauthlib>=3.0.0 in /home/liana/projects/fyp/venv/lib/python3.8/site-packages (from requests-oauthlib>=0.7.0->google-auth-oauthlib<0.5,>=0.4.1->tensorboard~=2.6->tensorflow) (3.1.1)\n",
      "Requirement already satisfied: keras in /home/liana/projects/fyp/venv/lib/python3.8/site-packages (2.7.0)\n"
     ]
    }
   ],
   "source": [
    "!pip install tensorflow\n",
    "!pip install keras"
   ]
  },
  {
   "cell_type": "markdown",
   "metadata": {},
   "source": [
    "### Import Libraries"
   ]
  },
  {
   "cell_type": "code",
   "execution_count": 1,
   "metadata": {},
   "outputs": [
    {
     "name": "stderr",
     "output_type": "stream",
     "text": [
      "2021-11-30 15:18:22.641780: W tensorflow/stream_executor/platform/default/dso_loader.cc:64] Could not load dynamic library 'libcudart.so.11.0'; dlerror: libcudart.so.11.0: cannot open shared object file: No such file or directory\n",
      "2021-11-30 15:18:22.641816: I tensorflow/stream_executor/cuda/cudart_stub.cc:29] Ignore above cudart dlerror if you do not have a GPU set up on your machine.\n"
     ]
    }
   ],
   "source": [
    "import pandas as pd\n",
    "import numpy as np\n",
    "import tensorflow as tf\n",
    "from keras.models import Sequential\n",
    "import matplotlib.pyplot as plt\n",
    "from keras.layers import Dense\n",
    "from sklearn.preprocessing import StandardScaler"
   ]
  },
  {
   "cell_type": "markdown",
   "metadata": {},
   "source": [
    "### Loading Data"
   ]
  },
  {
   "cell_type": "code",
   "execution_count": 2,
   "metadata": {},
   "outputs": [],
   "source": [
    "# Cleaned dataset with no outliers\n",
    "X_train_no = pd.read_csv('../dataset/no_outliers/X_train.csv')\n",
    "X_test_no = pd.read_csv('../dataset/no_outliers/X_test.csv')\n",
    "y_train_no = pd.read_csv('../dataset/no_outliers/y_train.csv')\n",
    "y_test_no = pd.read_csv('../dataset/no_outliers/y_test.csv')\n",
    "\n",
    "# Uncleaned original data\n",
    "X_train_with = pd.read_csv('../dataset/with_outliers/X_train.csv')\n",
    "X_test_with = pd.read_csv('../dataset/with_outliers/X_test.csv')\n",
    "y_train_with = pd.read_csv('../dataset/with_outliers/y_train.csv')\n",
    "y_test_with = pd.read_csv('../dataset/with_outliers/y_test.csv')"
   ]
  },
  {
   "cell_type": "code",
   "execution_count": 3,
   "metadata": {},
   "outputs": [
    {
     "name": "stdout",
     "output_type": "stream",
     "text": [
      "(578, 9) (578, 1) (145, 9) (145, 1)\n"
     ]
    }
   ],
   "source": [
    "def standardise_data(X_train, y_train, X_test, y_test):\n",
    "    X_scaler = StandardScaler()\n",
    "    y_scaler = StandardScaler()\n",
    "\n",
    "    # Scale data to standardise data values\n",
    "    X_train_trans = X_scaler.fit_transform(X_train)\n",
    "    y_train_trans = y_scaler.fit_transform(y_train)\n",
    "    X_test_trans = X_scaler.transform(X_test)\n",
    "    y_test_trans = y_scaler.transform(y_test)\n",
    "    \n",
    "    print(X_train_trans.shape, y_train_trans.shape, X_test_trans.shape, y_test_trans.shape)\n",
    "\n",
    "    return X_scaler, y_scaler, X_train_trans, y_train_trans, X_test_trans, y_test_trans\n",
    "\n",
    "X_scaler_no, y_scaler_no, X_train_no_trans, y_train_no_trans, X_test_no_trans, y_test_no_trans = standardise_data(X_train_no, y_train_no, X_test_no, y_test_no)"
   ]
  },
  {
   "cell_type": "markdown",
   "metadata": {},
   "source": [
    "## Training\n",
    "\n",
    "Using a layer with 5 neurons, with 9 input dimensions of normal weight, using relu activation function. Batch size is 20 and training epochs are 50."
   ]
  },
  {
   "cell_type": "code",
   "execution_count": 4,
   "metadata": {},
   "outputs": [
    {
     "name": "stderr",
     "output_type": "stream",
     "text": [
      "2021-11-30 15:18:26.017236: E tensorflow/stream_executor/cuda/cuda_driver.cc:271] failed call to cuInit: UNKNOWN ERROR (100)\n",
      "2021-11-30 15:18:26.017323: I tensorflow/stream_executor/cuda/cuda_diagnostics.cc:156] kernel driver does not appear to be running on this host (Liana-ASUS): /proc/driver/nvidia/version does not exist\n",
      "2021-11-30 15:18:26.018966: I tensorflow/core/platform/cpu_feature_guard.cc:151] This TensorFlow binary is optimized with oneAPI Deep Neural Network Library (oneDNN) to use the following CPU instructions in performance-critical operations:  AVX2 AVX512F FMA\n",
      "To enable them in other operations, rebuild TensorFlow with the appropriate compiler flags.\n"
     ]
    },
    {
     "name": "stdout",
     "output_type": "stream",
     "text": [
      "Epoch 1/50\n",
      "29/29 [==============================] - 0s 1ms/step - loss: 0.9949 - mse: 0.9949 - mae: 0.8119 - mape: 100.1656\n",
      "Epoch 2/50\n",
      "29/29 [==============================] - 0s 1ms/step - loss: 0.9777 - mse: 0.9777 - mae: 0.8048 - mape: 99.4763\n",
      "Epoch 3/50\n",
      "29/29 [==============================] - 0s 895us/step - loss: 0.9276 - mse: 0.9276 - mae: 0.7836 - mape: 98.7632\n",
      "Epoch 4/50\n",
      "29/29 [==============================] - 0s 1ms/step - loss: 0.8115 - mse: 0.8115 - mae: 0.7332 - mape: 99.7881\n",
      "Epoch 5/50\n",
      "29/29 [==============================] - 0s 1ms/step - loss: 0.6298 - mse: 0.6298 - mae: 0.6446 - mape: 114.2102\n",
      "Epoch 6/50\n",
      "29/29 [==============================] - 0s 1ms/step - loss: 0.4437 - mse: 0.4437 - mae: 0.5400 - mape: 141.2472\n",
      "Epoch 7/50\n",
      "29/29 [==============================] - 0s 1ms/step - loss: 0.3179 - mse: 0.3179 - mae: 0.4514 - mape: 166.0522\n",
      "Epoch 8/50\n",
      "29/29 [==============================] - 0s 4ms/step - loss: 0.2502 - mse: 0.2502 - mae: 0.3902 - mape: 178.6782\n",
      "Epoch 9/50\n",
      "29/29 [==============================] - 0s 2ms/step - loss: 0.2190 - mse: 0.2190 - mae: 0.3573 - mape: 191.4937\n",
      "Epoch 10/50\n",
      "29/29 [==============================] - 0s 1ms/step - loss: 0.2019 - mse: 0.2019 - mae: 0.3382 - mape: 192.7043\n",
      "Epoch 11/50\n",
      "29/29 [==============================] - 0s 1ms/step - loss: 0.1905 - mse: 0.1905 - mae: 0.3270 - mape: 186.8842\n",
      "Epoch 12/50\n",
      "29/29 [==============================] - 0s 877us/step - loss: 0.1811 - mse: 0.1811 - mae: 0.3187 - mape: 186.4400\n",
      "Epoch 13/50\n",
      "29/29 [==============================] - 0s 1ms/step - loss: 0.1735 - mse: 0.1735 - mae: 0.3124 - mape: 179.2867\n",
      "Epoch 14/50\n",
      "29/29 [==============================] - 0s 843us/step - loss: 0.1666 - mse: 0.1666 - mae: 0.3063 - mape: 171.8692\n",
      "Epoch 15/50\n",
      "29/29 [==============================] - 0s 1ms/step - loss: 0.1615 - mse: 0.1615 - mae: 0.3021 - mape: 168.4252\n",
      "Epoch 16/50\n",
      "29/29 [==============================] - 0s 2ms/step - loss: 0.1559 - mse: 0.1559 - mae: 0.2968 - mape: 162.6131\n",
      "Epoch 17/50\n",
      "29/29 [==============================] - 0s 2ms/step - loss: 0.1525 - mse: 0.1525 - mae: 0.2946 - mape: 156.3003\n",
      "Epoch 18/50\n",
      "29/29 [==============================] - 0s 1ms/step - loss: 0.1489 - mse: 0.1489 - mae: 0.2901 - mape: 151.8606\n",
      "Epoch 19/50\n",
      "29/29 [==============================] - 0s 2ms/step - loss: 0.1465 - mse: 0.1465 - mae: 0.2874 - mape: 148.5729\n",
      "Epoch 20/50\n",
      "29/29 [==============================] - 0s 3ms/step - loss: 0.1436 - mse: 0.1436 - mae: 0.2838 - mape: 143.4410\n",
      "Epoch 21/50\n",
      "29/29 [==============================] - 0s 2ms/step - loss: 0.1416 - mse: 0.1416 - mae: 0.2823 - mape: 138.6571\n",
      "Epoch 22/50\n",
      "29/29 [==============================] - 0s 4ms/step - loss: 0.1391 - mse: 0.1391 - mae: 0.2785 - mape: 135.7437\n",
      "Epoch 23/50\n",
      "29/29 [==============================] - 0s 4ms/step - loss: 0.1375 - mse: 0.1375 - mae: 0.2786 - mape: 133.3120\n",
      "Epoch 24/50\n",
      "29/29 [==============================] - 0s 2ms/step - loss: 0.1363 - mse: 0.1363 - mae: 0.2754 - mape: 133.0765\n",
      "Epoch 25/50\n",
      "29/29 [==============================] - 0s 5ms/step - loss: 0.1351 - mse: 0.1351 - mae: 0.2752 - mape: 130.7207\n",
      "Epoch 26/50\n",
      "29/29 [==============================] - 0s 4ms/step - loss: 0.1342 - mse: 0.1342 - mae: 0.2737 - mape: 127.8405\n",
      "Epoch 27/50\n",
      "29/29 [==============================] - 0s 4ms/step - loss: 0.1329 - mse: 0.1329 - mae: 0.2716 - mape: 130.6403\n",
      "Epoch 28/50\n",
      "29/29 [==============================] - 0s 2ms/step - loss: 0.1314 - mse: 0.1314 - mae: 0.2691 - mape: 125.7992\n",
      "Epoch 29/50\n",
      "29/29 [==============================] - 0s 2ms/step - loss: 0.1312 - mse: 0.1312 - mae: 0.2711 - mape: 122.9082\n",
      "Epoch 30/50\n",
      "29/29 [==============================] - 0s 2ms/step - loss: 0.1303 - mse: 0.1303 - mae: 0.2691 - mape: 124.2634\n",
      "Epoch 31/50\n",
      "29/29 [==============================] - 0s 2ms/step - loss: 0.1293 - mse: 0.1293 - mae: 0.2674 - mape: 124.6151\n",
      "Epoch 32/50\n",
      "29/29 [==============================] - 0s 2ms/step - loss: 0.1285 - mse: 0.1285 - mae: 0.2674 - mape: 121.3305\n",
      "Epoch 33/50\n",
      "29/29 [==============================] - 0s 2ms/step - loss: 0.1274 - mse: 0.1274 - mae: 0.2653 - mape: 121.5877\n",
      "Epoch 34/50\n",
      "29/29 [==============================] - 0s 2ms/step - loss: 0.1275 - mse: 0.1275 - mae: 0.2657 - mape: 120.6724\n",
      "Epoch 35/50\n",
      "29/29 [==============================] - 0s 2ms/step - loss: 0.1266 - mse: 0.1266 - mae: 0.2634 - mape: 124.7018\n",
      "Epoch 36/50\n",
      "29/29 [==============================] - 0s 1ms/step - loss: 0.1255 - mse: 0.1255 - mae: 0.2632 - mape: 120.9052\n",
      "Epoch 37/50\n",
      "29/29 [==============================] - 0s 2ms/step - loss: 0.1253 - mse: 0.1253 - mae: 0.2647 - mape: 118.2890\n",
      "Epoch 38/50\n",
      "29/29 [==============================] - 0s 2ms/step - loss: 0.1248 - mse: 0.1248 - mae: 0.2599 - mape: 120.2238\n",
      "Epoch 39/50\n",
      "29/29 [==============================] - 0s 2ms/step - loss: 0.1238 - mse: 0.1238 - mae: 0.2618 - mape: 119.6321\n",
      "Epoch 40/50\n",
      "29/29 [==============================] - 0s 2ms/step - loss: 0.1244 - mse: 0.1244 - mae: 0.2629 - mape: 117.9608\n",
      "Epoch 41/50\n",
      "29/29 [==============================] - 0s 2ms/step - loss: 0.1233 - mse: 0.1233 - mae: 0.2609 - mape: 117.2125\n",
      "Epoch 42/50\n",
      "29/29 [==============================] - 0s 3ms/step - loss: 0.1230 - mse: 0.1230 - mae: 0.2584 - mape: 118.9117\n",
      "Epoch 43/50\n",
      "29/29 [==============================] - 0s 4ms/step - loss: 0.1227 - mse: 0.1227 - mae: 0.2595 - mape: 118.1565\n",
      "Epoch 44/50\n",
      "29/29 [==============================] - 0s 3ms/step - loss: 0.1227 - mse: 0.1227 - mae: 0.2611 - mape: 118.0683\n",
      "Epoch 45/50\n",
      "29/29 [==============================] - 0s 3ms/step - loss: 0.1224 - mse: 0.1224 - mae: 0.2597 - mape: 114.8425\n",
      "Epoch 46/50\n",
      "29/29 [==============================] - 0s 2ms/step - loss: 0.1223 - mse: 0.1223 - mae: 0.2574 - mape: 117.2040\n",
      "Epoch 47/50\n",
      "29/29 [==============================] - 0s 2ms/step - loss: 0.1220 - mse: 0.1220 - mae: 0.2584 - mape: 118.7893\n",
      "Epoch 48/50\n",
      "29/29 [==============================] - 0s 2ms/step - loss: 0.1221 - mse: 0.1221 - mae: 0.2602 - mape: 116.9640\n",
      "Epoch 49/50\n",
      "29/29 [==============================] - 0s 2ms/step - loss: 0.1213 - mse: 0.1213 - mae: 0.2567 - mape: 118.3853\n",
      "Epoch 50/50\n",
      "29/29 [==============================] - 0s 2ms/step - loss: 0.1225 - mse: 0.1225 - mae: 0.2615 - mape: 114.5568\n"
     ]
    }
   ],
   "source": [
    "def create_seq_model():\n",
    "    model = Sequential()\n",
    "\n",
    "    # Defining the input layer and first hidden layer\n",
    "    model.add(Dense(units=5, input_dim=9, kernel_initializer='normal', activation='relu'))\n",
    "\n",
    "    # Defining the second layer of the model\n",
    "    model.add(Dense(units=5, kernel_initializer='normal', activation='tanh'))\n",
    "\n",
    "    # The output neuron is a single fully connected node as only a single number is predicted\n",
    "    model.add(Dense(1, kernel_initializer='normal'))\n",
    "\n",
    "    # Compiling the model\n",
    "    model.compile(loss='mse', optimizer='adam', metrics=['mse', 'mae', 'mape'])\n",
    "\n",
    "    return model\n",
    "\n",
    "def train_model(model, X_train, y_train):\n",
    "    # Fitting the ANN to the training data\n",
    "    model.fit(X_train, y_train, batch_size=20, epochs=50, verbose=1)\n",
    "\n",
    "    return model\n",
    "\n",
    "model_no = create_seq_model()\n",
    "model_no = train_model(model_no, X_train_no_trans, y_train_no_trans)"
   ]
  },
  {
   "cell_type": "markdown",
   "metadata": {},
   "source": [
    "## Hyperparameter Tuning\n",
    "\n",
    "To find the best accuracy with the minimum number of layers/neurons."
   ]
  },
  {
   "cell_type": "markdown",
   "metadata": {},
   "source": [
    "### Grid Search\n",
    "\n",
    "MAPE is used. MAPE is Mean Absolute Percent Error. This is defined as the Average Absolute Error divided by the Average of the Actual Quantity. A more elegant way to compute this would be to divide the Sum of the Absolute Error by the Sum of the Actual Quantity.\n",
    "\n",
    "MAPE = (Sum of Abs. Error) / (Sum of Actuals)"
   ]
  },
  {
   "cell_type": "code",
   "execution_count": 5,
   "metadata": {},
   "outputs": [
    {
     "name": "stdout",
     "output_type": "stream",
     "text": [
      "1 Parameters: batch_size: 5 - Epochs: 5 Accuracy: 74.28418085901994\n",
      "2 Parameters: batch_size: 5 - Epochs: 10 Accuracy: 71.03884688653119\n",
      "3 Parameters: batch_size: 5 - Epochs: 50 Accuracy: 113.93394228457329\n",
      "4 Parameters: batch_size: 5 - Epochs: 100 Accuracy: 81.20037983408014\n",
      "5 Parameters: batch_size: 10 - Epochs: 5 Accuracy: 125.70143323885307\n",
      "6 Parameters: batch_size: 10 - Epochs: 10 Accuracy: 96.03448324025447\n",
      "7 Parameters: batch_size: 10 - Epochs: 50 Accuracy: 45.54883816734523\n",
      "8 Parameters: batch_size: 10 - Epochs: 100 Accuracy: 88.4286373927283\n",
      "9 Parameters: batch_size: 15 - Epochs: 5 Accuracy: 117.19684461492253\n",
      "10 Parameters: batch_size: 15 - Epochs: 10 Accuracy: 147.26572575225873\n",
      "11 Parameters: batch_size: 15 - Epochs: 50 Accuracy: 77.08923353528348\n",
      "12 Parameters: batch_size: 15 - Epochs: 100 Accuracy: 98.12918618945744\n",
      "13 Parameters: batch_size: 20 - Epochs: 5 Accuracy: 102.89438066256766\n",
      "14 Parameters: batch_size: 20 - Epochs: 10 Accuracy: 132.0017748557585\n",
      "15 Parameters: batch_size: 20 - Epochs: 50 Accuracy: 65.2938471802155\n",
      "16 Parameters: batch_size: 20 - Epochs: 100 Accuracy: 104.77600984332129\n"
     ]
    }
   ],
   "source": [
    "# Find the best parameters for ANN\n",
    "def find_best_params(X_train, y_train, X_test, y_test):\n",
    "    \n",
    "    # Defining the list of hyper parameters to try\n",
    "    batch_size_list = [5, 10, 15, 20]\n",
    "    epoch_list = [5, 10, 50, 100]\n",
    "\n",
    "    results = pd.DataFrame(columns=['trial_num', 'param', 'accuracy'])\n",
    "    \n",
    "    # Initialising the trials\n",
    "    trial_number = 0\n",
    "    for batch_size_trial in batch_size_list:\n",
    "        for epochs_trial in epoch_list:\n",
    "            trial_number += 1\n",
    "            # Create ANN model\n",
    "            model = Sequential()\n",
    "\n",
    "            # Defining the first layer of the model\n",
    "            model.add(Dense(units=5, input_dim=X_train.shape[1], kernel_initializer='normal', activation='relu'))\n",
    "\n",
    "            # Defining the second layer of the model\n",
    "            model.add(Dense(units=5, kernel_initializer='normal', activation='relu'))\n",
    "\n",
    "            # Output neuron\n",
    "            model.add(Dense(1, kernel_initializer='normal'))\n",
    "\n",
    "            # Compiling the model\n",
    "            model.compile(loss='mean_squared_error', optimizer='adam')\n",
    "\n",
    "            # Fitting the ANN to the Training set\n",
    "            model.fit(X_train, y_train ,batch_size = batch_size_trial, epochs = epochs_trial, verbose=0)\n",
    "\n",
    "            MAPE = np.mean(100 * (np.abs(y_test-model.predict(X_test))/y_test))\n",
    "            \n",
    "            # Printing the results of the current iteration\n",
    "            print(trial_number, 'Parameters:','batch_size:', batch_size_trial,'-', 'Epochs:',epochs_trial, 'Accuracy:', 100 - MAPE)\n",
    "            \n",
    "            results = results.append(pd.DataFrame(data=[[trial_number, str(batch_size_trial)+'-'+str(epochs_trial), 100-MAPE]], columns=['trial_num', 'param', 'accuracy'] ))\n",
    "\n",
    "    return(results)\n",
    "\n",
    "results_no = find_best_params(X_train_no_trans, y_train_no_trans, X_test_no_trans, y_test_no_trans)"
   ]
  },
  {
   "cell_type": "markdown",
   "metadata": {},
   "source": [
    "### Plotting Results"
   ]
  },
  {
   "cell_type": "code",
   "execution_count": 6,
   "metadata": {},
   "outputs": [
    {
     "data": {
      "image/png": "[encoded data removed]",
      "text/plain": [
       "<Figure size 1008x432 with 1 Axes>"
      ]
     },
     "metadata": {
      "needs_background": "light"
     },
     "output_type": "display_data"
    }
   ],
   "source": [
    "def plot_bar_chart(results):\n",
    "    plt.figure(figsize=(14,6))\n",
    "    plt.bar(results['param'], height=results['accuracy'], color='pink')\n",
    "    plt.axhline(y=100, color='purple', linestyle='-')\n",
    "    for a, b in zip([x for x in range(len(results['accuracy']))], round(results['accuracy'], 2)):\n",
    "        plt.text(a, b, str(b), color='black')\n",
    "    plt.show()\n",
    "\n",
    "plot_bar_chart(results_no)"
   ]
  },
  {
   "cell_type": "markdown",
   "metadata": {},
   "source": [
    "From the graph above, it can be known that the best hyperparameters are `batch_size` = 15 and `epochs` = 10."
   ]
  },
  {
   "cell_type": "code",
   "execution_count": 15,
   "metadata": {},
   "outputs": [
    {
     "name": "stdout",
     "output_type": "stream",
     "text": [
      "Epoch 1/10\n",
      "39/39 [==============================] - 0s 2ms/step - loss: 0.1205 - mse: 0.1205 - mae: 0.2577 - mape: 115.2105\n",
      "Epoch 2/10\n",
      "39/39 [==============================] - 0s 2ms/step - loss: 0.1200 - mse: 0.1200 - mae: 0.2597 - mape: 113.0108\n",
      "Epoch 3/10\n",
      "39/39 [==============================] - 0s 3ms/step - loss: 0.1207 - mse: 0.1207 - mae: 0.2566 - mape: 118.3372\n",
      "Epoch 4/10\n",
      "39/39 [==============================] - 0s 2ms/step - loss: 0.1212 - mse: 0.1212 - mae: 0.2577 - mape: 111.9661\n",
      "Epoch 5/10\n",
      "39/39 [==============================] - 0s 1ms/step - loss: 0.1197 - mse: 0.1197 - mae: 0.2567 - mape: 115.6216\n",
      "Epoch 6/10\n",
      "39/39 [==============================] - 0s 2ms/step - loss: 0.1198 - mse: 0.1198 - mae: 0.2567 - mape: 117.7005\n",
      "Epoch 7/10\n",
      "39/39 [==============================] - 0s 2ms/step - loss: 0.1205 - mse: 0.1205 - mae: 0.2581 - mape: 112.7276\n",
      "Epoch 8/10\n",
      "39/39 [==============================] - 0s 2ms/step - loss: 0.1202 - mse: 0.1202 - mae: 0.2576 - mape: 116.0737\n",
      "Epoch 9/10\n",
      "39/39 [==============================] - 0s 2ms/step - loss: 0.1199 - mse: 0.1199 - mae: 0.2556 - mape: 116.2388\n",
      "Epoch 10/10\n",
      "39/39 [==============================] - 0s 2ms/step - loss: 0.1204 - mse: 0.1204 - mae: 0.2606 - mape: 112.4031\n",
      "   season  year  month  holiday  weekday  weather  temperature  humidity  \\\n",
      "0     3.0   1.0    7.0      0.0      0.0      1.0     0.721667  0.623750   \n",
      "1     2.0   1.0    5.0      0.0      4.0      1.0     0.593333  0.520000   \n",
      "2     3.0   1.0    8.0      0.0      5.0      2.0     0.765833  0.642500   \n",
      "3     2.0   1.0    4.0      0.0      5.0      1.0     0.403333  0.377083   \n",
      "4     4.0   1.0   11.0      0.0      1.0      1.0     0.319167  0.494167   \n",
      "\n",
      "   windspeed   count   pred_count  \n",
      "0   0.170396  6597.0  6816.720703  \n",
      "1   0.229475  7384.0  7121.024414  \n",
      "2   0.215792  7175.0  6939.851074  \n",
      "3   0.300388  6460.0  5602.129883  \n",
      "4   0.236325  5259.0  5178.487793  \n"
     ]
    }
   ],
   "source": [
    "# Fine-tune hyperparameters\n",
    "def fine_tune_model(model, batch_size, epochs, X_scaler, y_scaler, X_train_trans, y_train_trans, X_test_trans, y_test_trans, columns):\n",
    "    model.fit(X_train_trans, y_train_trans, batch_size=batch_size, epochs=epochs, verbose=1)\n",
    "\n",
    "    pred = model.predict(X_test_trans)\n",
    "\n",
    "    # Scale predictions\n",
    "    pred = y_scaler.inverse_transform(pred)\n",
    "\n",
    "    # Scale back to original\n",
    "    y_test = y_scaler.inverse_transform(y_test_trans)\n",
    "    X_test = X_scaler.inverse_transform(X_test_trans)\n",
    "\n",
    "    test_data = pd.DataFrame(data=X_test, columns=columns)\n",
    "    test_data['count'] = y_test\n",
    "    test_data['pred_count'] = pred\n",
    "    print(test_data.head())\n",
    "\n",
    "    return test_data\n",
    "\n",
    "test_data_no = fine_tune_model(\n",
    "        model=model_no,\n",
    "        batch_size=15,\n",
    "        epochs=10,\n",
    "        X_scaler=X_scaler_no,\n",
    "        y_scaler=y_scaler_no,\n",
    "        X_train_trans=X_train_no_trans,\n",
    "        y_train_trans=y_train_no_trans,\n",
    "        X_test_trans=X_test_no_trans,\n",
    "        y_test_trans=y_test_no_trans,\n",
    "        columns=X_test_no.columns\n",
    "    )"
   ]
  },
  {
   "cell_type": "code",
   "execution_count": 16,
   "metadata": {},
   "outputs": [
    {
     "name": "stdout",
     "output_type": "stream",
     "text": [
      "Accuracy:  83.34118385565387\n",
      "   season  year  month  holiday  weekday  weather  temperature  humidity  \\\n",
      "0     3.0   1.0    7.0      0.0      0.0      1.0     0.721667  0.623750   \n",
      "1     2.0   1.0    5.0      0.0      4.0      1.0     0.593333  0.520000   \n",
      "2     3.0   1.0    8.0      0.0      5.0      2.0     0.765833  0.642500   \n",
      "3     2.0   1.0    4.0      0.0      5.0      1.0     0.403333  0.377083   \n",
      "4     4.0   1.0   11.0      0.0      1.0      1.0     0.319167  0.494167   \n",
      "\n",
      "   windspeed   count   pred_count        APE  \n",
      "0   0.170396  6597.0  6816.720703   3.330615  \n",
      "1   0.229475  7384.0  7121.024414   3.561425  \n",
      "2   0.215792  7175.0  6939.851074   3.277337  \n",
      "3   0.300388  6460.0  5602.129883  13.279723  \n",
      "4   0.236325  5259.0  5178.487793   1.530941  \n",
      "MSE:  521522.03\n"
     ]
    }
   ],
   "source": [
    "def evaluate_model(test_data):\n",
    "# Mean Absolute Percentage Error\n",
    "    APE = 100 * (abs(test_data['count'] - test_data['pred_count']) / test_data['count'])\n",
    "    test_data['APE'] = APE\n",
    "\n",
    "    print(\"Accuracy: \", 100 - np.mean(APE))\n",
    "\n",
    "evaluate_model(test_data_no)"
   ]
  },
  {
   "cell_type": "code",
   "execution_count": 17,
   "metadata": {},
   "outputs": [
    {
     "name": "stdout",
     "output_type": "stream",
     "text": [
      "Model: \"sequential\"\n",
      "_________________________________________________________________\n",
      " Layer (type)                Output Shape              Param #   \n",
      "=================================================================\n",
      " dense (Dense)               (None, 5)                 50        \n",
      "                                                                 \n",
      " dense_1 (Dense)             (None, 5)                 30        \n",
      "                                                                 \n",
      " dense_2 (Dense)             (None, 1)                 6         \n",
      "                                                                 \n",
      "=================================================================\n",
      "Total params: 86\n",
      "Trainable params: 86\n",
      "Non-trainable params: 0\n",
      "_________________________________________________________________\n"
     ]
    }
   ],
   "source": [
    "model_no.summary()"
   ]
  },
  {
   "cell_type": "markdown",
   "metadata": {},
   "source": [
    "## Using Data With Outliers"
   ]
  },
  {
   "cell_type": "code",
   "execution_count": 18,
   "metadata": {},
   "outputs": [
    {
     "name": "stdout",
     "output_type": "stream",
     "text": [
      "(584, 9) (584, 1) (147, 9) (147, 1)\n"
     ]
    }
   ],
   "source": [
    "X_scaler_with, y_scaler_with, X_train_with_trans, y_train_with_trans, X_test_with_trans, y_test_with_trans = standardise_data(X_train_with, y_train_with, X_test_with, y_test_with)"
   ]
  },
  {
   "cell_type": "code",
   "execution_count": 19,
   "metadata": {},
   "outputs": [
    {
     "name": "stdout",
     "output_type": "stream",
     "text": [
      "Epoch 1/50\n",
      "30/30 [==============================] - 0s 1ms/step - loss: 0.9991 - mse: 0.9991 - mae: 0.8156 - mape: 100.3959\n",
      "Epoch 2/50\n",
      "30/30 [==============================] - 0s 918us/step - loss: 0.9907 - mse: 0.9907 - mae: 0.8118 - mape: 99.5457\n",
      "Epoch 3/50\n",
      "30/30 [==============================] - 0s 877us/step - loss: 0.9492 - mse: 0.9492 - mae: 0.7942 - mape: 98.0679\n",
      "Epoch 4/50\n",
      "30/30 [==============================] - 0s 1ms/step - loss: 0.8350 - mse: 0.8350 - mae: 0.7428 - mape: 102.8161\n",
      "Epoch 5/50\n",
      "30/30 [==============================] - 0s 930us/step - loss: 0.6550 - mse: 0.6550 - mae: 0.6554 - mape: 125.6638\n",
      "Epoch 6/50\n",
      "30/30 [==============================] - 0s 915us/step - loss: 0.4676 - mse: 0.4676 - mae: 0.5506 - mape: 144.3644\n",
      "Epoch 7/50\n",
      "30/30 [==============================] - 0s 826us/step - loss: 0.3323 - mse: 0.3323 - mae: 0.4623 - mape: 190.2875\n",
      "Epoch 8/50\n",
      "30/30 [==============================] - 0s 965us/step - loss: 0.2600 - mse: 0.2600 - mae: 0.4017 - mape: 205.1923\n",
      "Epoch 9/50\n",
      "30/30 [==============================] - 0s 1ms/step - loss: 0.2261 - mse: 0.2261 - mae: 0.3672 - mape: 228.2291\n",
      "Epoch 10/50\n",
      "30/30 [==============================] - 0s 962us/step - loss: 0.2114 - mse: 0.2114 - mae: 0.3503 - mape: 230.1703\n",
      "Epoch 11/50\n",
      "30/30 [==============================] - 0s 849us/step - loss: 0.2043 - mse: 0.2043 - mae: 0.3399 - mape: 232.0274\n",
      "Epoch 12/50\n",
      "30/30 [==============================] - 0s 1ms/step - loss: 0.1988 - mse: 0.1988 - mae: 0.3351 - mape: 230.5175\n",
      "Epoch 13/50\n",
      "30/30 [==============================] - 0s 970us/step - loss: 0.1945 - mse: 0.1945 - mae: 0.3294 - mape: 226.6576\n",
      "Epoch 14/50\n",
      "30/30 [==============================] - 0s 924us/step - loss: 0.1903 - mse: 0.1903 - mae: 0.3260 - mape: 225.1290\n",
      "Epoch 15/50\n",
      "30/30 [==============================] - 0s 933us/step - loss: 0.1873 - mse: 0.1873 - mae: 0.3231 - mape: 223.0546\n",
      "Epoch 16/50\n",
      "30/30 [==============================] - 0s 853us/step - loss: 0.1839 - mse: 0.1839 - mae: 0.3206 - mape: 217.0300\n",
      "Epoch 17/50\n",
      "30/30 [==============================] - 0s 1ms/step - loss: 0.1804 - mse: 0.1804 - mae: 0.3169 - mape: 212.5080\n",
      "Epoch 18/50\n",
      "30/30 [==============================] - 0s 951us/step - loss: 0.1777 - mse: 0.1777 - mae: 0.3152 - mape: 206.9397\n",
      "Epoch 19/50\n",
      "30/30 [==============================] - 0s 2ms/step - loss: 0.1754 - mse: 0.1754 - mae: 0.3116 - mape: 197.2540\n",
      "Epoch 20/50\n",
      "30/30 [==============================] - 0s 4ms/step - loss: 0.1724 - mse: 0.1724 - mae: 0.3109 - mape: 197.7098\n",
      "Epoch 21/50\n",
      "30/30 [==============================] - 0s 2ms/step - loss: 0.1699 - mse: 0.1699 - mae: 0.3083 - mape: 191.9064\n",
      "Epoch 22/50\n",
      "30/30 [==============================] - 0s 1ms/step - loss: 0.1675 - mse: 0.1675 - mae: 0.3050 - mape: 186.1412\n",
      "Epoch 23/50\n",
      "30/30 [==============================] - 0s 1ms/step - loss: 0.1654 - mse: 0.1654 - mae: 0.3035 - mape: 181.1043\n",
      "Epoch 24/50\n",
      "30/30 [==============================] - 0s 1ms/step - loss: 0.1631 - mse: 0.1631 - mae: 0.3017 - mape: 177.9699\n",
      "Epoch 25/50\n",
      "30/30 [==============================] - 0s 884us/step - loss: 0.1614 - mse: 0.1614 - mae: 0.2999 - mape: 173.4505\n",
      "Epoch 26/50\n",
      "30/30 [==============================] - 0s 938us/step - loss: 0.1593 - mse: 0.1593 - mae: 0.2951 - mape: 166.8854\n",
      "Epoch 27/50\n",
      "30/30 [==============================] - 0s 941us/step - loss: 0.1574 - mse: 0.1574 - mae: 0.2948 - mape: 161.6147\n",
      "Epoch 28/50\n",
      "30/30 [==============================] - 0s 1ms/step - loss: 0.1556 - mse: 0.1556 - mae: 0.2943 - mape: 158.6747\n",
      "Epoch 29/50\n",
      "30/30 [==============================] - 0s 3ms/step - loss: 0.1540 - mse: 0.1540 - mae: 0.2910 - mape: 152.8869\n",
      "Epoch 30/50\n",
      "30/30 [==============================] - 0s 4ms/step - loss: 0.1526 - mse: 0.1526 - mae: 0.2893 - mape: 150.4035\n",
      "Epoch 31/50\n",
      "30/30 [==============================] - 0s 1ms/step - loss: 0.1518 - mse: 0.1518 - mae: 0.2870 - mape: 144.2772\n",
      "Epoch 32/50\n",
      "30/30 [==============================] - 0s 1ms/step - loss: 0.1503 - mse: 0.1503 - mae: 0.2848 - mape: 137.7900\n",
      "Epoch 33/50\n",
      "30/30 [==============================] - 0s 1ms/step - loss: 0.1487 - mse: 0.1487 - mae: 0.2846 - mape: 138.2279\n",
      "Epoch 34/50\n",
      "30/30 [==============================] - 0s 913us/step - loss: 0.1477 - mse: 0.1477 - mae: 0.2854 - mape: 132.4911\n",
      "Epoch 35/50\n",
      "30/30 [==============================] - 0s 982us/step - loss: 0.1481 - mse: 0.1481 - mae: 0.2818 - mape: 131.4202\n",
      "Epoch 36/50\n",
      "30/30 [==============================] - 0s 850us/step - loss: 0.1460 - mse: 0.1460 - mae: 0.2842 - mape: 128.6397\n",
      "Epoch 37/50\n",
      "30/30 [==============================] - 0s 915us/step - loss: 0.1448 - mse: 0.1448 - mae: 0.2819 - mape: 125.1231\n",
      "Epoch 38/50\n",
      "30/30 [==============================] - 0s 908us/step - loss: 0.1448 - mse: 0.1448 - mae: 0.2794 - mape: 121.3311\n",
      "Epoch 39/50\n",
      "30/30 [==============================] - 0s 945us/step - loss: 0.1435 - mse: 0.1435 - mae: 0.2806 - mape: 122.8994\n",
      "Epoch 40/50\n",
      "30/30 [==============================] - 0s 832us/step - loss: 0.1426 - mse: 0.1426 - mae: 0.2797 - mape: 122.3702\n",
      "Epoch 41/50\n",
      "30/30 [==============================] - 0s 937us/step - loss: 0.1429 - mse: 0.1429 - mae: 0.2810 - mape: 118.2884\n",
      "Epoch 42/50\n",
      "30/30 [==============================] - 0s 847us/step - loss: 0.1433 - mse: 0.1433 - mae: 0.2778 - mape: 117.8539\n",
      "Epoch 43/50\n",
      "30/30 [==============================] - 0s 983us/step - loss: 0.1409 - mse: 0.1409 - mae: 0.2785 - mape: 116.6968\n",
      "Epoch 44/50\n",
      "30/30 [==============================] - 0s 1ms/step - loss: 0.1415 - mse: 0.1415 - mae: 0.2803 - mape: 120.0505\n",
      "Epoch 45/50\n",
      "30/30 [==============================] - 0s 842us/step - loss: 0.1409 - mse: 0.1409 - mae: 0.2772 - mape: 115.3494\n",
      "Epoch 46/50\n",
      "30/30 [==============================] - 0s 1ms/step - loss: 0.1417 - mse: 0.1417 - mae: 0.2770 - mape: 112.6631\n",
      "Epoch 47/50\n",
      "30/30 [==============================] - 0s 4ms/step - loss: 0.1409 - mse: 0.1409 - mae: 0.2815 - mape: 117.0344\n",
      "Epoch 48/50\n",
      "30/30 [==============================] - 0s 1ms/step - loss: 0.1395 - mse: 0.1395 - mae: 0.2763 - mape: 111.5688\n",
      "Epoch 49/50\n",
      "30/30 [==============================] - 0s 860us/step - loss: 0.1391 - mse: 0.1391 - mae: 0.2754 - mape: 111.4677\n",
      "Epoch 50/50\n",
      "30/30 [==============================] - 0s 896us/step - loss: 0.1407 - mse: 0.1407 - mae: 0.2814 - mape: 113.1930\n"
     ]
    }
   ],
   "source": [
    "model_with = create_seq_model()\n",
    "model_with = train_model(model_with, X_train_with_trans, y_train_with_trans)"
   ]
  },
  {
   "cell_type": "markdown",
   "metadata": {},
   "source": [
    "The same `batch_size` and `epochs` are used for accuracy comparison."
   ]
  },
  {
   "cell_type": "code",
   "execution_count": 23,
   "metadata": {},
   "outputs": [
    {
     "name": "stdout",
     "output_type": "stream",
     "text": [
      "Epoch 1/10\n",
      "39/39 [==============================] - 0s 2ms/step - loss: 0.1360 - mse: 0.1360 - mae: 0.2724 - mape: 111.5409\n",
      "Epoch 2/10\n",
      "39/39 [==============================] - 0s 2ms/step - loss: 0.1375 - mse: 0.1375 - mae: 0.2753 - mape: 112.1520\n",
      "Epoch 3/10\n",
      "39/39 [==============================] - 0s 2ms/step - loss: 0.1360 - mse: 0.1360 - mae: 0.2744 - mape: 109.0865\n",
      "Epoch 4/10\n",
      "39/39 [==============================] - 0s 1ms/step - loss: 0.1368 - mse: 0.1368 - mae: 0.2697 - mape: 109.1752\n",
      "Epoch 5/10\n",
      "39/39 [==============================] - 0s 2ms/step - loss: 0.1358 - mse: 0.1358 - mae: 0.2738 - mape: 115.0224\n",
      "Epoch 6/10\n",
      "39/39 [==============================] - 0s 2ms/step - loss: 0.1355 - mse: 0.1355 - mae: 0.2727 - mape: 112.7888\n",
      "Epoch 7/10\n",
      "39/39 [==============================] - 0s 2ms/step - loss: 0.1348 - mse: 0.1348 - mae: 0.2716 - mape: 109.6180\n",
      "Epoch 8/10\n",
      "39/39 [==============================] - 0s 2ms/step - loss: 0.1344 - mse: 0.1344 - mae: 0.2724 - mape: 112.9226\n",
      "Epoch 9/10\n",
      "39/39 [==============================] - 0s 2ms/step - loss: 0.1341 - mse: 0.1341 - mae: 0.2719 - mape: 110.3525\n",
      "Epoch 10/10\n",
      "39/39 [==============================] - 0s 4ms/step - loss: 0.1335 - mse: 0.1335 - mae: 0.2696 - mape: 112.9822\n",
      "   season  year  month       holiday  weekday  weather  temperature  humidity  \\\n",
      "0     3.0   0.0    7.0 -3.469447e-18      6.0      1.0     0.686667  0.585000   \n",
      "1     3.0   0.0    7.0 -3.469447e-18      4.0      1.0     0.750000  0.651250   \n",
      "2     1.0   0.0    1.0 -3.469447e-18      6.0      2.0     0.233333  0.498750   \n",
      "3     1.0   0.0    2.0 -3.469447e-18      2.0      2.0     0.192174  0.829565   \n",
      "4     1.0   1.0    1.0 -3.469447e-18      4.0      2.0     0.341667  0.769583   \n",
      "\n",
      "   windspeed   count   pred_count  \n",
      "0   0.208342  5923.0  4923.138672  \n",
      "1   0.159200  4592.0  4610.029297  \n",
      "2   0.157963  1248.0  1579.698853  \n",
      "3   0.053213  1360.0  1348.216675  \n",
      "4   0.073396  4075.0  3728.545410  \n"
     ]
    }
   ],
   "source": [
    "test_data_with = fine_tune_model(\n",
    "    model=model_with,\n",
    "    batch_size=15,\n",
    "    epochs=10,\n",
    "    X_scaler=X_scaler_with,\n",
    "    y_scaler=y_scaler_with,\n",
    "    X_train_trans=X_train_with_trans,\n",
    "    y_train_trans=y_train_with_trans,\n",
    "    X_test_trans=X_test_with_trans,\n",
    "    y_test_trans=y_test_with_trans,\n",
    "    columns=X_test_with.columns,\n",
    ")"
   ]
  },
  {
   "cell_type": "code",
   "execution_count": 24,
   "metadata": {},
   "outputs": [
    {
     "name": "stdout",
     "output_type": "stream",
     "text": [
      "Accuracy:  80.26504659087091\n",
      "   season  year  month       holiday  weekday  weather  temperature  humidity  \\\n",
      "0     3.0   0.0    7.0 -3.469447e-18      6.0      1.0     0.686667  0.585000   \n",
      "1     3.0   0.0    7.0 -3.469447e-18      4.0      1.0     0.750000  0.651250   \n",
      "2     1.0   0.0    1.0 -3.469447e-18      6.0      2.0     0.233333  0.498750   \n",
      "3     1.0   0.0    2.0 -3.469447e-18      2.0      2.0     0.192174  0.829565   \n",
      "4     1.0   1.0    1.0 -3.469447e-18      4.0      2.0     0.341667  0.769583   \n",
      "\n",
      "   windspeed   count   pred_count        APE  \n",
      "0   0.208342  5923.0  4923.138672  16.880995  \n",
      "1   0.159200  4592.0  4610.029297   0.392624  \n",
      "2   0.157963  1248.0  1579.698853  26.578434  \n",
      "3   0.053213  1360.0  1348.216675   0.866421  \n",
      "4   0.073396  4075.0  3728.545410   8.501953  \n",
      "MSE:  592025.94\n"
     ]
    }
   ],
   "source": [
    "evaluate_model(test_data=test_data_with)"
   ]
  },
  {
   "cell_type": "code",
   "execution_count": 25,
   "metadata": {},
   "outputs": [
    {
     "name": "stdout",
     "output_type": "stream",
     "text": [
      "Model: \"sequential_18\"\n",
      "_________________________________________________________________\n",
      " Layer (type)                Output Shape              Param #   \n",
      "=================================================================\n",
      " dense_54 (Dense)            (None, 5)                 50        \n",
      "                                                                 \n",
      " dense_55 (Dense)            (None, 5)                 30        \n",
      "                                                                 \n",
      " dense_56 (Dense)            (None, 1)                 6         \n",
      "                                                                 \n",
      "=================================================================\n",
      "Total params: 86\n",
      "Trainable params: 86\n",
      "Non-trainable params: 0\n",
      "_________________________________________________________________\n"
     ]
    }
   ],
   "source": [
    "model_with.summary()"
   ]
  },
  {
   "cell_type": "markdown",
   "metadata": {},
   "source": [
    "In conclusion, using cleaned data without outliers would give a higher accuracy than using data with outliers."
   ]
  },
  {
   "cell_type": "code",
   "execution_count": null,
   "metadata": {},
   "outputs": [],
   "source": []
  }
 ],
 "metadata": {
  "interpreter": {
   "hash": "916dbcbb3f70747c44a77c7bcd40155683ae19c65e1c03b4aa3499c5328201f1"
  },
  "kernelspec": {
   "display_name": "Python 3",
   "language": "python",
   "name": "python3"
  },
  "language_info": {
   "codemirror_mode": {
    "name": "ipython",
    "version": 3
   },
   "file_extension": ".py",
   "mimetype": "text/x-python",
   "name": "python",
   "nbconvert_exporter": "python",
   "pygments_lexer": "ipython3",
   "version": "3.8.8"
  }
 },
 "nbformat": 4,
 "nbformat_minor": 2
}
