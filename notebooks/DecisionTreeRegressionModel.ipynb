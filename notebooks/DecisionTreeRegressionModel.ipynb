{
 "cells": [
  {
   "cell_type": "markdown",
   "metadata": {},
   "source": [
    "# Decision Tree Regression Model"
   ]
  },
  {
   "cell_type": "markdown",
   "metadata": {},
   "source": [
    "## Import Libaries"
   ]
  },
  {
   "cell_type": "code",
   "execution_count": 1,
   "metadata": {},
   "outputs": [],
   "source": [
    "import pandas as pd\n",
    "import numpy as np\n",
    "\n",
    "#build the model, import decision tree\n",
    "from sklearn.tree import DecisionTreeRegressor, DecisionTreeClassifier\n",
    "from sklearn.metrics import accuracy_score\n",
    "\n",
    "#get error metrics to evaluate model\n",
    "#from sklearn.metrics import mean_absolute_error, r2_score, mean_squared_error\n",
    "from sklearn import metrics"
   ]
  },
  {
   "cell_type": "code",
   "execution_count": 2,
   "metadata": {},
   "outputs": [],
   "source": [
    "X_train = pd.read_csv('../dataset/no_outliers/X_train.csv')\n",
    "X_test = pd.read_csv('../dataset/no_outliers/X_test.csv')\n",
    "y_train = pd.read_csv('../dataset/no_outliers/y_train.csv')\n",
    "y_test = pd.read_csv('../dataset/no_outliers/y_test.csv')\n",
    "\n",
    "X_train_with = pd.read_csv('../dataset/with_outliers/X_train.csv')\n",
    "X_test_with = pd.read_csv('../dataset/with_outliers/X_test.csv')\n",
    "y_train_with = pd.read_csv('../dataset/with_outliers/y_train.csv')\n",
    "y_test_with = pd.read_csv('../dataset/with_outliers/y_test.csv')"
   ]
  },
  {
   "cell_type": "code",
   "execution_count": 3,
   "metadata": {},
   "outputs": [
    {
     "data": {
      "text/html": [
       "<div>\n",
       "<style scoped>\n",
       "    .dataframe tbody tr th:only-of-type {\n",
       "        vertical-align: middle;\n",
       "    }\n",
       "\n",
       "    .dataframe tbody tr th {\n",
       "        vertical-align: top;\n",
       "    }\n",
       "\n",
       "    .dataframe thead th {\n",
       "        text-align: right;\n",
       "    }\n",
       "</style>\n",
       "<table border=\"1\" class=\"dataframe\">\n",
       "  <thead>\n",
       "    <tr style=\"text-align: right;\">\n",
       "      <th></th>\n",
       "      <th>season</th>\n",
       "      <th>year</th>\n",
       "      <th>month</th>\n",
       "      <th>holiday</th>\n",
       "      <th>weekday</th>\n",
       "      <th>weather</th>\n",
       "      <th>temperature</th>\n",
       "      <th>humidity</th>\n",
       "      <th>windspeed</th>\n",
       "    </tr>\n",
       "  </thead>\n",
       "  <tbody>\n",
       "    <tr>\n",
       "      <th>0</th>\n",
       "      <td>0.000000</td>\n",
       "      <td>1.0</td>\n",
       "      <td>0.000000</td>\n",
       "      <td>0.0</td>\n",
       "      <td>0.666667</td>\n",
       "      <td>0.0</td>\n",
       "      <td>0.165650</td>\n",
       "      <td>0.318182</td>\n",
       "      <td>0.468072</td>\n",
       "    </tr>\n",
       "    <tr>\n",
       "      <th>1</th>\n",
       "      <td>0.333333</td>\n",
       "      <td>1.0</td>\n",
       "      <td>0.363636</td>\n",
       "      <td>0.0</td>\n",
       "      <td>1.000000</td>\n",
       "      <td>0.0</td>\n",
       "      <td>0.639257</td>\n",
       "      <td>0.293661</td>\n",
       "      <td>0.212724</td>\n",
       "    </tr>\n",
       "    <tr>\n",
       "      <th>2</th>\n",
       "      <td>0.666667</td>\n",
       "      <td>0.0</td>\n",
       "      <td>0.545455</td>\n",
       "      <td>0.0</td>\n",
       "      <td>0.000000</td>\n",
       "      <td>0.0</td>\n",
       "      <td>0.835451</td>\n",
       "      <td>0.471293</td>\n",
       "      <td>0.533538</td>\n",
       "    </tr>\n",
       "    <tr>\n",
       "      <th>3</th>\n",
       "      <td>0.666667</td>\n",
       "      <td>0.0</td>\n",
       "      <td>0.636364</td>\n",
       "      <td>0.0</td>\n",
       "      <td>0.333333</td>\n",
       "      <td>0.0</td>\n",
       "      <td>0.734190</td>\n",
       "      <td>0.391148</td>\n",
       "      <td>0.217658</td>\n",
       "    </tr>\n",
       "    <tr>\n",
       "      <th>4</th>\n",
       "      <td>0.000000</td>\n",
       "      <td>0.0</td>\n",
       "      <td>0.000000</td>\n",
       "      <td>0.0</td>\n",
       "      <td>0.333333</td>\n",
       "      <td>0.5</td>\n",
       "      <td>0.199404</td>\n",
       "      <td>0.840910</td>\n",
       "      <td>0.274944</td>\n",
       "    </tr>\n",
       "    <tr>\n",
       "      <th>...</th>\n",
       "      <td>...</td>\n",
       "      <td>...</td>\n",
       "      <td>...</td>\n",
       "      <td>...</td>\n",
       "      <td>...</td>\n",
       "      <td>...</td>\n",
       "      <td>...</td>\n",
       "      <td>...</td>\n",
       "      <td>...</td>\n",
       "    </tr>\n",
       "    <tr>\n",
       "      <th>573</th>\n",
       "      <td>1.000000</td>\n",
       "      <td>1.0</td>\n",
       "      <td>1.000000</td>\n",
       "      <td>0.0</td>\n",
       "      <td>1.000000</td>\n",
       "      <td>0.0</td>\n",
       "      <td>0.335474</td>\n",
       "      <td>0.537680</td>\n",
       "      <td>0.168555</td>\n",
       "    </tr>\n",
       "    <tr>\n",
       "      <th>574</th>\n",
       "      <td>0.666667</td>\n",
       "      <td>0.0</td>\n",
       "      <td>0.545455</td>\n",
       "      <td>0.0</td>\n",
       "      <td>0.500000</td>\n",
       "      <td>0.0</td>\n",
       "      <td>0.870259</td>\n",
       "      <td>0.510766</td>\n",
       "      <td>0.273255</td>\n",
       "    </tr>\n",
       "    <tr>\n",
       "      <th>575</th>\n",
       "      <td>1.000000</td>\n",
       "      <td>1.0</td>\n",
       "      <td>0.727273</td>\n",
       "      <td>0.0</td>\n",
       "      <td>0.833333</td>\n",
       "      <td>0.5</td>\n",
       "      <td>0.708874</td>\n",
       "      <td>0.594498</td>\n",
       "      <td>0.320748</td>\n",
       "    </tr>\n",
       "    <tr>\n",
       "      <th>576</th>\n",
       "      <td>0.666667</td>\n",
       "      <td>1.0</td>\n",
       "      <td>0.545455</td>\n",
       "      <td>0.0</td>\n",
       "      <td>0.833333</td>\n",
       "      <td>0.5</td>\n",
       "      <td>0.767942</td>\n",
       "      <td>0.815790</td>\n",
       "      <td>0.438620</td>\n",
       "    </tr>\n",
       "    <tr>\n",
       "      <th>577</th>\n",
       "      <td>1.000000</td>\n",
       "      <td>1.0</td>\n",
       "      <td>0.909091</td>\n",
       "      <td>1.0</td>\n",
       "      <td>0.666667</td>\n",
       "      <td>0.0</td>\n",
       "      <td>0.355515</td>\n",
       "      <td>0.437202</td>\n",
       "      <td>0.027809</td>\n",
       "    </tr>\n",
       "  </tbody>\n",
       "</table>\n",
       "<p>578 rows × 9 columns</p>\n",
       "</div>"
      ],
      "text/plain": [
       "       season  year     month  holiday   weekday  weather  temperature  \\\n",
       "0    0.000000   1.0  0.000000      0.0  0.666667      0.0     0.165650   \n",
       "1    0.333333   1.0  0.363636      0.0  1.000000      0.0     0.639257   \n",
       "2    0.666667   0.0  0.545455      0.0  0.000000      0.0     0.835451   \n",
       "3    0.666667   0.0  0.636364      0.0  0.333333      0.0     0.734190   \n",
       "4    0.000000   0.0  0.000000      0.0  0.333333      0.5     0.199404   \n",
       "..        ...   ...       ...      ...       ...      ...          ...   \n",
       "573  1.000000   1.0  1.000000      0.0  1.000000      0.0     0.335474   \n",
       "574  0.666667   0.0  0.545455      0.0  0.500000      0.0     0.870259   \n",
       "575  1.000000   1.0  0.727273      0.0  0.833333      0.5     0.708874   \n",
       "576  0.666667   1.0  0.545455      0.0  0.833333      0.5     0.767942   \n",
       "577  1.000000   1.0  0.909091      1.0  0.666667      0.0     0.355515   \n",
       "\n",
       "     humidity  windspeed  \n",
       "0    0.318182   0.468072  \n",
       "1    0.293661   0.212724  \n",
       "2    0.471293   0.533538  \n",
       "3    0.391148   0.217658  \n",
       "4    0.840910   0.274944  \n",
       "..        ...        ...  \n",
       "573  0.537680   0.168555  \n",
       "574  0.510766   0.273255  \n",
       "575  0.594498   0.320748  \n",
       "576  0.815790   0.438620  \n",
       "577  0.437202   0.027809  \n",
       "\n",
       "[578 rows x 9 columns]"
      ]
     },
     "execution_count": 3,
     "metadata": {},
     "output_type": "execute_result"
    }
   ],
   "source": [
    "X_train"
   ]
  },
  {
   "cell_type": "code",
   "execution_count": 4,
   "metadata": {},
   "outputs": [],
   "source": [
    "dt = DecisionTreeRegressor(random_state=42)"
   ]
  },
  {
   "cell_type": "markdown",
   "metadata": {},
   "source": [
    "### Without Outliers (Mean, R^2)"
   ]
  },
  {
   "cell_type": "code",
   "execution_count": 5,
   "metadata": {},
   "outputs": [],
   "source": [
    "dt_without = dt.fit(X_train, y_train)"
   ]
  },
  {
   "cell_type": "code",
   "execution_count": 6,
   "metadata": {},
   "outputs": [
    {
     "data": {
      "text/plain": [
       "array([0.79245283, 0.94902145, 0.76983476, 0.63131372, 0.59955467,\n",
       "       0.80264854, 0.39622642, 0.16219384, 0.12586429, 0.1804758 ,\n",
       "       0.54107582, 0.65041603, 0.24082972, 0.43654049, 0.48798781,\n",
       "       0.24082972, 0.46126802, 0.56720966, 0.5074417 , 0.83007149,\n",
       "       0.53591937, 0.31899684, 0.50533224, 0.78155397, 0.60705496,\n",
       "       0.65193953, 0.5309973 , 0.804758  , 0.15223251, 0.21235205,\n",
       "       0.44509551, 0.51048869, 0.8845658 , 0.64373608, 0.79245283,\n",
       "       0.724833  , 0.87741709, 0.41907887, 0.39212469, 0.21903199,\n",
       "       0.2101254 , 0.49783195, 0.26133833, 0.804758  , 0.53486464,\n",
       "       0.63295441, 0.47029181, 0.42669636, 0.32462206, 1.        ,\n",
       "       0.30903551, 0.89569905, 0.54494316, 0.89569905, 0.62346185,\n",
       "       0.72307512, 0.23133716, 0.28958162, 0.90132427, 0.88866753,\n",
       "       0.58080394, 0.66694011, 0.7056135 , 0.04793156, 0.60728935,\n",
       "       0.47474511, 0.28149537, 0.33669284, 0.62346185, 0.7426462 ,\n",
       "       0.58748389, 0.76432673, 0.34044299, 0.45962733, 0.28161256,\n",
       "       0.43302473, 0.18574944, 0.70455877, 0.26825267, 0.58080394,\n",
       "       0.2780968 , 0.15176374, 0.42446971, 0.85843197, 0.8845658 ,\n",
       "       0.668698  , 0.88034689, 0.50345717, 0.07746396, 0.23836869,\n",
       "       0.87929216, 0.7056135 , 0.34138052, 0.71850463, 0.88597211,\n",
       "       0.44626743, 0.79104653, 0.45376773, 0.804758  , 0.56720966,\n",
       "       0.40993789, 0.45915856, 0.41251611, 0.90765264, 0.804758  ,\n",
       "       0.26825267, 0.91198875, 0.50580101, 0.26426814, 0.94902145,\n",
       "       0.18363999, 0.7056135 , 0.20203914, 0.88034689, 0.41251611,\n",
       "       0.63939998, 0.80042189, 0.11285597, 0.21035978, 0.32649713,\n",
       "       0.6376421 , 0.6330716 , 0.5074417 , 0.21903199, 0.50181648,\n",
       "       0.53041134, 0.34044299, 0.21434431, 0.54494316, 0.18563225,\n",
       "       0.36411579, 0.22911051, 0.59685925, 0.20684402, 0.53673972,\n",
       "       0.80405485, 0.64373608, 0.46736201, 0.53591937, 0.41251611,\n",
       "       0.73209891, 0.50392593, 0.5651002 , 0.50509786, 0.16688152])"
      ]
     },
     "execution_count": 6,
     "metadata": {},
     "output_type": "execute_result"
    }
   ],
   "source": [
    "# use model to get prediction\n",
    "y_pred_dt = dt_without.predict(X_test)\n",
    "y_pred_dt"
   ]
  },
  {
   "cell_type": "code",
   "execution_count": 7,
   "metadata": {},
   "outputs": [
    {
     "name": "stdout",
     "output_type": "stream",
     "text": [
      "Mean Absolute Error: 0.06948843637480451\n",
      "Mean Squared Error: 0.008135021701381634\n",
      "Root Mean Squared Error: 0.0901943551525351\n",
      "R^2:  0.8584918417063379\n",
      "Coefficient:  0.8584918417063379\n"
     ]
    }
   ],
   "source": [
    "mean = metrics.mean_absolute_error(y_test, y_pred_dt)\n",
    "mean2 = metrics.mean_squared_error(y_test, y_pred_dt)\n",
    "rmean2 = np.sqrt(metrics.mean_squared_error(y_test, y_pred_dt))\n",
    "r2 = metrics.r2_score(y_test, y_pred_dt)\n",
    "coefficient = dt.score(X_test, y_test)\n",
    "\n",
    "print('Mean Absolute Error:', mean)\n",
    "print('Mean Squared Error:', mean2)\n",
    "print('Root Mean Squared Error:', rmean2)\n",
    "print ('R^2: ',r2)\n",
    "print ('Coefficient: ', coefficient)"
   ]
  },
  {
   "cell_type": "code",
   "execution_count": 8,
   "metadata": {},
   "outputs": [
    {
     "name": "stdout",
     "output_type": "stream",
     "text": [
      "Accuracy:  85.84918417063379 %\n"
     ]
    }
   ],
   "source": [
    "print('Accuracy: ', r2*100,'%')"
   ]
  },
  {
   "cell_type": "markdown",
   "metadata": {},
   "source": [
    "### With Outliers"
   ]
  },
  {
   "cell_type": "code",
   "execution_count": 9,
   "metadata": {},
   "outputs": [],
   "source": [
    "dt_with = dt.fit(X_train_with, y_train_with)"
   ]
  },
  {
   "cell_type": "code",
   "execution_count": 10,
   "metadata": {},
   "outputs": [
    {
     "data": {
      "text/plain": [
       "array([0.52314544, 0.529591  , 0.22325091, 0.11519981, 0.5059182 ,\n",
       "       0.41579749, 0.52607524, 0.53474745, 0.69096449, 0.04793156,\n",
       "       0.18551506, 0.28864409, 0.24082972, 0.61877417, 0.55584203,\n",
       "       0.45529122, 0.90765264, 0.83054026, 0.37747568, 0.09058948,\n",
       "       0.88866753, 0.20684402, 0.6138521 , 0.56404547, 0.10523849,\n",
       "       0.79174968, 0.38239775, 0.60728935, 0.77545998, 0.87144029,\n",
       "       0.11297316, 0.588773  , 0.80042189, 0.5932263 , 0.28864409,\n",
       "       0.47767491, 0.72881753, 0.724833  , 0.25430681, 0.30141802,\n",
       "       0.7352631 , 0.12586429, 0.56744404, 0.43818118, 0.88866753,\n",
       "       0.804758  , 0.26672917, 0.50580101, 0.04910348, 0.37817884,\n",
       "       0.76983476, 0.7706551 , 0.79104653, 0.86030704, 0.57635064,\n",
       "       0.40993789, 0.38673386, 0.80042189, 0.79725771, 0.42212586,\n",
       "       0.7352631 , 0.48599555, 0.69776163, 1.        , 0.90003516,\n",
       "       0.55935779, 0.50580101, 0.72307512, 0.79081214, 0.48119067,\n",
       "       0.82128208, 0.82421188, 0.37407711, 0.79784367, 0.61994609,\n",
       "       0.88034689, 0.6701043 , 0.76432673, 0.39622642, 0.26825267,\n",
       "       0.56521739, 0.64572835, 0.57224892, 0.18762452, 0.64326732,\n",
       "       0.90003516, 0.64373608, 0.7114731 , 0.48107348, 0.43888433,\n",
       "       0.07746396, 0.24727528, 0.72881753, 0.71698113, 0.59498418,\n",
       "       0.21235205, 0.28208133, 0.88866753, 0.44743935, 0.42212586,\n",
       "       0.55935779, 0.64877534, 0.3757178 , 0.90214462, 0.17262393,\n",
       "       0.56521739, 0.91198875, 0.86382281, 0.73620063, 0.16688152,\n",
       "       0.23579046, 0.4837689 , 0.55935779, 0.22161022, 0.24516583,\n",
       "       0.61912575, 0.57236611, 0.48060471, 0.8697996 , 0.66881519,\n",
       "       0.0857846 , 0.47767491, 0.36270948, 0.43818118, 0.56299074,\n",
       "       0.55138873, 0.11285597, 0.86956522, 0.42212586, 0.61994609,\n",
       "       0.16688152, 0.68592523, 0.18551506, 0.43654049, 0.47767491,\n",
       "       0.7426462 , 0.8328841 , 0.49830071, 0.63131372, 0.55138873,\n",
       "       0.63717333, 0.36270948, 0.48107348, 0.63717333, 0.48025313,\n",
       "       0.86804172, 0.55115434])"
      ]
     },
     "execution_count": 10,
     "metadata": {},
     "output_type": "execute_result"
    }
   ],
   "source": [
    "y_pred_dt_with = dt_with.predict(X_test_with)\n",
    "y_pred_dt_with"
   ]
  },
  {
   "cell_type": "code",
   "execution_count": 11,
   "metadata": {},
   "outputs": [
    {
     "name": "stdout",
     "output_type": "stream",
     "text": [
      "Mean:  0.07826836348039744\n",
      "Mean Squared Error: 0.011313025698433201\n",
      "Root Mean Squared Error: 0.10636270821313831\n",
      "R^2:  0.8063255649138468\n",
      "Coefficient:  0.8063255649138468\n"
     ]
    }
   ],
   "source": [
    "mean_with = metrics.mean_absolute_error(y_test_with, y_pred_dt_with)\n",
    "mean2_with = metrics.mean_squared_error(y_test_with, y_pred_dt_with)\n",
    "rmean2_with = np.sqrt(metrics.mean_squared_error(y_test_with, y_pred_dt_with))\n",
    "r2_with = metrics.r2_score(y_test_with, y_pred_dt_with)\n",
    "coefficient_with = dt.score(X_test_with, y_test_with)\n",
    "\n",
    "print ('Mean: ', mean_with)\n",
    "print('Mean Squared Error:', mean2_with)\n",
    "print('Root Mean Squared Error:', rmean2_with)\n",
    "print ('R^2: ',r2_with)\n",
    "print ('Coefficient: ', coefficient_with)"
   ]
  },
  {
   "cell_type": "code",
   "execution_count": 12,
   "metadata": {},
   "outputs": [
    {
     "name": "stdout",
     "output_type": "stream",
     "text": [
      "Accuracy:  80.63255649138468 %\n"
     ]
    }
   ],
   "source": [
    "print('Accuracy: ', r2_with*100,'%')"
   ]
  }
 ],
 "metadata": {
  "kernelspec": {
   "display_name": "Python 3",
   "language": "python",
   "name": "python3"
  },
  "language_info": {
   "codemirror_mode": {
    "name": "ipython",
    "version": 3
   },
   "file_extension": ".py",
   "mimetype": "text/x-python",
   "name": "python",
   "nbconvert_exporter": "python",
   "pygments_lexer": "ipython3",
   "version": "3.8.8"
  }
 },
 "nbformat": 4,
 "nbformat_minor": 2
}
