{
 "cells": [
  {
   "cell_type": "markdown",
   "metadata": {},
   "source": [
    "# Decision Tree Regression Model"
   ]
  },
  {
   "cell_type": "markdown",
   "metadata": {},
   "source": [
    "## Import Libaries"
   ]
  },
  {
   "cell_type": "code",
   "execution_count": 9,
   "metadata": {},
   "outputs": [],
   "source": [
    "import pandas as pd\n",
    "import numpy as np\n",
    "\n",
    "#build the model, import decision tree\n",
    "from sklearn.tree import DecisionTreeRegressor, DecisionTreeClassifier\n",
    "from sklearn.metrics import accuracy_score\n",
    "\n",
    "#get error metrics to evaluate model\n",
    "#from sklearn.metrics import mean_absolute_error, r2_score, mean_squared_error\n",
    "from sklearn import metrics"
   ]
  },
  {
   "cell_type": "code",
   "execution_count": 4,
   "metadata": {},
   "outputs": [],
   "source": [
    "X_train = pd.read_csv('../dataset/no_outliers/X_train.csv')\n",
    "X_test = pd.read_csv('../dataset/no_outliers/X_test.csv')\n",
    "y_train = pd.read_csv('../dataset/no_outliers/y_train.csv')\n",
    "y_test = pd.read_csv('../dataset/no_outliers/y_test.csv')\n",
    "\n",
    "X_train_with = pd.read_csv('../dataset/with_outliers/X_train.csv')\n",
    "X_test_with = pd.read_csv('../dataset/with_outliers/X_test.csv')\n",
    "y_train_with = pd.read_csv('../dataset/with_outliers/y_train.csv')\n",
    "y_test_with = pd.read_csv('../dataset/with_outliers/y_test.csv')"
   ]
  },
  {
   "cell_type": "code",
   "execution_count": 95,
   "metadata": {},
   "outputs": [],
   "source": [
    "# To make result more visualise\n",
    "cols_X = [\"temperature\",\"humidity\",\"windspeed\"]\n",
    "for col in cols_X:\n",
    "    X_train_with = X_train_with.replace(to_replace = X_train_with[col].values, value = (np.round(X_train_with[col].values, 2)), regex = True)\n",
    "    X_test_with = X_test_with.replace(to_replace = X_test_with[col].values, value = (np.round(X_test_with[col].values, 2)), regex = True)\n",
    "    X_train = X_train.replace(to_replace = X_train[col].values, value = (np.round(X_train[col].values, 2)), regex = True)\n",
    "    X_test = X_test.replace(to_replace = X_test[col].values, value = (np.round(X_test[col].values, 2)), regex = True)\n",
    "    \n",
    "cols_y = [\"count\"]\n",
    "for col in cols_y:\n",
    "    y_train_with = y_train_with.replace(to_replace = y_train_with[col].values, value = (np.round(y_train_with[col].values/100)*100), regex = True)\n",
    "    y_test_with = y_test_with.replace(to_replace = y_test_with[col].values, value = (np.round(y_test_with[col].values/100)*100), regex = True)\n",
    "    y_train = y_train.replace(to_replace = y_train[col].values, value = (np.round(y_train[col].values/100)*100), regex = True)\n",
    "    y_test = y_test.replace(to_replace = y_test[col].values, value = (np.round(y_test[col].values/100)*100), regex = True)"
   ]
  },
  {
   "cell_type": "code",
   "execution_count": 5,
   "metadata": {},
   "outputs": [],
   "source": [
    "dt = DecisionTreeRegressor(random_state=42)"
   ]
  },
  {
   "cell_type": "markdown",
   "metadata": {},
   "source": [
    "### Without Outliers (Mean, R^2)"
   ]
  },
  {
   "cell_type": "code",
   "execution_count": 6,
   "metadata": {},
   "outputs": [],
   "source": [
    "dt_without = dt.fit(X_train, y_train)"
   ]
  },
  {
   "cell_type": "code",
   "execution_count": 7,
   "metadata": {},
   "outputs": [
    {
     "data": {
      "text/plain": [
       "array([6784., 8120., 6591., 5409., 5138., 6871., 3403., 1406., 1096.,\n",
       "       1562., 5099., 5572., 2077., 3613., 4186., 1795., 3958., 4862.,\n",
       "       4352., 7013., 4595., 2660., 4334., 6691., 5202., 5585., 4553.,\n",
       "       6889., 1321., 1834., 3820., 4378., 7570., 5515., 6784., 6207.,\n",
       "       7509., 3598., 3368., 1891., 1815., 4270., 2252., 6889., 4586.,\n",
       "       5423., 3811., 3747., 2792., 8395., 2659., 7665., 4672., 7665.,\n",
       "       5342., 6436., 1996., 2493., 7713., 7605., 4978., 6241., 5743.,\n",
       "        431., 5204., 4073., 2424., 2895., 5342., 6359., 5035., 6544.,\n",
       "       2927., 3944., 2425., 3717., 1607., 6034., 2311., 4978., 2395.,\n",
       "       1317., 3644., 7335., 7570., 5728., 7534., 4318.,  683., 2056.,\n",
       "       7525., 5728., 2935., 6153., 7582., 3830., 6772., 3894., 6889.,\n",
       "       4862., 3520., 3940., 3542., 7767., 6889., 2311., 7804., 4338.,\n",
       "       2277., 8362., 1589., 5728., 1746., 7350., 3542., 5478., 6852.,\n",
       "       1162., 1817., 2808., 5463., 5424., 4352., 1891., 4304., 4548.,\n",
       "       2927., 1851., 4672., 1606., 3129., 1977., 5099., 1787., 4602.,\n",
       "       6883., 5515., 4010., 4595., 3542., 6269., 4322., 4844., 4332.,\n",
       "       1685.])"
      ]
     },
     "execution_count": 7,
     "metadata": {},
     "output_type": "execute_result"
    }
   ],
   "source": [
    "# use model to get prediction\n",
    "y_pred_dt = dt_without.predict(X_test)\n",
    "y_pred_dt"
   ]
  },
  {
   "cell_type": "code",
   "execution_count": 11,
   "metadata": {},
   "outputs": [
    {
     "name": "stdout",
     "output_type": "stream",
     "text": [
      "Mean Absolute Error: 591.1793103448276\n",
      "Mean Squared Error: 584700.6827586207\n",
      "Root Mean Squared Error: 764.6572322018675\n",
      "R^2:  0.8603140027702759\n",
      "Coefficient:  0.8603140027702759\n"
     ]
    }
   ],
   "source": [
    "mean = metrics.mean_absolute_error(y_test, y_pred_dt)\n",
    "mean2 = metrics.mean_squared_error(y_test, y_pred_dt)\n",
    "rmean2 = np.sqrt(metrics.mean_squared_error(y_test, y_pred_dt))\n",
    "r2 = metrics.r2_score(y_test, y_pred_dt)\n",
    "coefficient = dt.score(X_test, y_test)\n",
    "\n",
    "print('Mean Absolute Error:', mean)\n",
    "print('Mean Squared Error:', mean2)\n",
    "print('Root Mean Squared Error:', rmean2)\n",
    "print ('R^2: ',r2)\n",
    "print ('Coefficient: ', coefficient)"
   ]
  },
  {
   "cell_type": "markdown",
   "metadata": {},
   "source": [
    "### With Outliers"
   ]
  },
  {
   "cell_type": "code",
   "execution_count": 12,
   "metadata": {},
   "outputs": [],
   "source": [
    "dt_with = dt.fit(X_train_with, y_train_with)"
   ]
  },
  {
   "cell_type": "code",
   "execution_count": 13,
   "metadata": {},
   "outputs": [
    {
     "data": {
      "text/plain": [
       "array([4362., 4541., 1927., 1005., 4339., 3570., 4511., 4585., 6235.,\n",
       "        431., 1605., 2485., 2077., 5302., 4765., 3907., 7767., 7109.,\n",
       "       3243.,  795., 7605., 1787., 5260., 4835.,  920., 7013., 3846.,\n",
       "       5204., 6824., 7458.,  986., 5046., 7570., 5084., 2485., 4098.,\n",
       "       6241., 6207., 2192., 2594., 6296., 1096., 4917., 3761., 7605.,\n",
       "       6824., 2298., 4338.,  441., 3249., 6591., 6598., 6772., 7363.,\n",
       "       4940., 3520., 3322., 6852., 6825., 3624., 6296., 4169., 5976.,\n",
       "       8555., 7702., 4795., 4338., 6192., 6770., 4128., 7030., 6855.,\n",
       "       3214., 6830., 5312., 7534., 5740., 7040., 3403., 2311., 4845.,\n",
       "       5532., 4905., 1623., 5409., 7702., 5515., 6093., 4127., 3767.,\n",
       "        683., 2132., 6241., 6140., 4972., 1834., 2429., 7605., 3840.,\n",
       "       3624., 4795., 6235., 3228., 7720., 1495., 4845., 7870., 7393.,\n",
       "       6304., 1446., 2034., 4150., 4795., 1913., 2114., 5305., 4906.,\n",
       "       4123., 7444., 5558., 1005., 4098., 3117., 3761., 4826., 4661.,\n",
       "        985., 7442., 3624., 5312., 1446., 5875., 1605., 3747., 4098.,\n",
       "       6359., 7129., 4274., 5409., 4661., 5459., 3117., 4127., 5459.,\n",
       "       4120., 7429., 4725.])"
      ]
     },
     "execution_count": 13,
     "metadata": {},
     "output_type": "execute_result"
    }
   ],
   "source": [
    "y_pred_dt_with = dt_without.predict(X_test_with)\n",
    "y_pred_dt_with"
   ]
  },
  {
   "cell_type": "code",
   "execution_count": 14,
   "metadata": {},
   "outputs": [
    {
     "name": "stdout",
     "output_type": "stream",
     "text": [
      "Mean:  668.8979591836735\n",
      "Mean Squared Error: 828552.3401360544\n",
      "Root Mean Squared Error: 910.2485046052284\n",
      "R^2:  0.8051905674964466\n",
      "Coefficient:  0.8051905674964466\n"
     ]
    }
   ],
   "source": [
    "mean_with = metrics.mean_absolute_error(y_test_with, y_pred_dt_with)\n",
    "mean2_with = metrics.mean_squared_error(y_test_with, y_pred_dt_with)\n",
    "rmean2_with = np.sqrt(metrics.mean_squared_error(y_test_with, y_pred_dt_with))\n",
    "r2_with = metrics.r2_score(y_test_with, y_pred_dt_with)\n",
    "coefficient_with = dt.score(X_test_with, y_test_with)\n",
    "\n",
    "print ('Mean: ', mean_with)\n",
    "print('Mean Squared Error:', mean2_with)\n",
    "print('Root Mean Squared Error:', rmean2_with)\n",
    "print ('R^2: ',r2_with)\n",
    "print ('Coefficient: ', coefficient_with)"
   ]
  },
  {
   "cell_type": "markdown",
   "metadata": {},
   "source": [
    "## View (Maybe can take away)"
   ]
  },
  {
   "cell_type": "code",
   "execution_count": 76,
   "metadata": {},
   "outputs": [
    {
     "data": {
      "text/plain": [
       "Index(['season', 'year', 'month', 'holiday', 'weekday', 'weather',\n",
       "       'temperature', 'humidity', 'windspeed'],\n",
       "      dtype='object')"
      ]
     },
     "execution_count": 76,
     "metadata": {},
     "output_type": "execute_result"
    }
   ],
   "source": [
    "columns = X_train.columns\n",
    "columns"
   ]
  },
  {
   "cell_type": "code",
   "execution_count": 77,
   "metadata": {},
   "outputs": [
    {
     "data": {
      "text/plain": [
       "array([0.05592162, 0.28804861, 0.03807861, 0.00102207, 0.01471106,\n",
       "       0.02183398, 0.48143515, 0.06093112, 0.03801778])"
      ]
     },
     "execution_count": 77,
     "metadata": {},
     "output_type": "execute_result"
    }
   ],
   "source": [
    "importance = dt.feature_importances_\n",
    "importance"
   ]
  },
  {
   "cell_type": "code",
   "execution_count": 58,
   "metadata": {},
   "outputs": [
    {
     "data": {
      "text/plain": [
       "season         0.055455\n",
       "year           0.300215\n",
       "month          0.024453\n",
       "holiday        0.003882\n",
       "weekday        0.018878\n",
       "weather        0.009634\n",
       "temperature    0.453828\n",
       "humidity       0.088593\n",
       "windspeed      0.045063\n",
       "dtype: float64"
      ]
     },
     "execution_count": 58,
     "metadata": {},
     "output_type": "execute_result"
    }
   ],
   "source": [
    "combo = pd.Series(importance, columns)\n",
    "combo"
   ]
  },
  {
   "cell_type": "code",
   "execution_count": 80,
   "metadata": {},
   "outputs": [],
   "source": [
    "import matplotlib.pyplot as plt\n",
    "from matplotlib.pyplot import figure"
   ]
  },
  {
   "cell_type": "code",
   "execution_count": 82,
   "metadata": {},
   "outputs": [
    {
     "data": {
      "text/plain": [
       "Text(0.5, 1.0, 'Visualization of decision tree model feature imporances')"
      ]
     },
     "execution_count": 82,
     "metadata": {},
     "output_type": "execute_result"
    },
    {
     "data": {
      "image/png": "[encoded data removed]",
      "text/plain": [
       "<Figure size 432x288 with 1 Axes>"
      ]
     },
     "metadata": {
      "needs_background": "light"
     },
     "output_type": "display_data"
    }
   ],
   "source": [
    "figure(figsize=(6,4))\n",
    "\n",
    "combo.sort_values().plot.barh(color='blue')\n",
    "plt.title('Visualization of decision tree model feature imporances')"
   ]
  }
 ],
 "metadata": {
  "kernelspec": {
   "display_name": "Python 3",
   "language": "python",
   "name": "python3"
  },
  "language_info": {
   "codemirror_mode": {
    "name": "ipython",
    "version": 3
   },
   "file_extension": ".py",
   "mimetype": "text/x-python",
   "name": "python",
   "nbconvert_exporter": "python",
   "pygments_lexer": "ipython3",
   "version": "3.8.8"
  }
 },
 "nbformat": 4,
 "nbformat_minor": 2
}
